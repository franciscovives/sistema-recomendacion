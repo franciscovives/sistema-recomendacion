{
 "cells": [
  {
   "cell_type": "code",
   "execution_count": 1,
   "metadata": {},
   "outputs": [],
   "source": [
    "import pandas as pd\n",
    "from pandas_summary import DataFrameSummary\n",
    "import numpy as np\n",
    "from datetime import datetime"
   ]
  },
  {
   "cell_type": "code",
   "execution_count": 2,
   "outputs": [],
   "source": [
    "from sklearn.preprocessing import LabelEncoder\n",
    "from sklearn.preprocessing import StandardScaler"
   ],
   "metadata": {
    "collapsed": false
   }
  },
  {
   "cell_type": "code",
   "execution_count": 3,
   "metadata": {},
   "outputs": [],
   "source": [
    "PATH_PROCESSED = 'processed/'\n",
    "joined = pd.read_feather(PATH_PROCESSED + 'joined_train.fth')"
   ]
  },
  {
   "cell_type": "code",
   "execution_count": 4,
   "outputs": [
    {
     "data": {
      "text/plain": "       user_id  movie_id  rating  timestamp  \\\n0            1         1       5  874965758   \n1            1         2       3  876893171   \n2            1         3       4  878542960   \n3            1         4       3  876893119   \n4            1         5       3  889751712   \n...        ...       ...     ...        ...   \n79995      943      1067       2  875501756   \n79996      943      1074       4  888640250   \n79997      943      1188       3  888640250   \n79998      943      1228       3  888640275   \n79999      943      1330       3  888692465   \n\n                                movie_title release_date  video_release_date  \\\n0                          Toy Story (1995)  01-Jan-1995                 NaN   \n1                          GoldenEye (1995)  01-Jan-1995                 NaN   \n2                         Four Rooms (1995)  01-Jan-1995                 NaN   \n3                         Get Shorty (1995)  01-Jan-1995                 NaN   \n4                            Copycat (1995)  01-Jan-1995                 NaN   \n...                                     ...          ...                 ...   \n79995                  Bottle Rocket (1996)  21-Feb-1996                 NaN   \n79996                  Reality Bites (1994)  01-Jan-1994                 NaN   \n79997                  Young Guns II (1990)  01-Jan-1990                 NaN   \n79998  Under Siege 2: Dark Territory (1995)  01-Jan-1995                 NaN   \n79999        An Unforgettable Summer (1994)  01-Jan-1994                 NaN   \n\n                                                imdb_url  unknown  action  \\\n0      http://us.imdb.com/M/title-exact?Toy%20Story%2...        0       0   \n1      http://us.imdb.com/M/title-exact?GoldenEye%20(...        0       1   \n2      http://us.imdb.com/M/title-exact?Four%20Rooms%...        0       0   \n3      http://us.imdb.com/M/title-exact?Get%20Shorty%...        0       1   \n4      http://us.imdb.com/M/title-exact?Copycat%20(1995)        0       0   \n...                                                  ...      ...     ...   \n79995  http://us.imdb.com/M/title-exact?Bottle%20Rock...        0       0   \n79996  http://us.imdb.com/M/title-exact?Reality%20Bit...        0       0   \n79997  http://us.imdb.com/M/title-exact?Young%20Guns%...        0       1   \n79998  http://us.imdb.com/M/title-exact?Under%20Siege...        0       1   \n79999  http://us.imdb.com/Title?Un+%E9t%E9+inoubliabl...        0       0   \n\n       ...  mystery  romance  sci-fi  thriller  war  western  age  gender  \\\n0      ...        0        0       0         0    0        0   24       M   \n1      ...        0        0       0         1    0        0   24       M   \n2      ...        0        0       0         1    0        0   24       M   \n3      ...        0        0       0         0    0        0   24       M   \n4      ...        0        0       0         1    0        0   24       M   \n...    ...      ...      ...     ...       ...  ...      ...  ...     ...   \n79995  ...        0        0       0         0    0        0   22       M   \n79996  ...        0        0       0         0    0        0   22       M   \n79997  ...        0        0       0         0    0        1   22       M   \n79998  ...        0        0       0         0    0        0   22       M   \n79999  ...        0        0       0         0    0        0   22       M   \n\n       occupation  zip_code  \n0      technician     85711  \n1      technician     85711  \n2      technician     85711  \n3      technician     85711  \n4      technician     85711  \n...           ...       ...  \n79995     student     77841  \n79996     student     77841  \n79997     student     77841  \n79998     student     77841  \n79999     student     77841  \n\n[80000 rows x 31 columns]",
      "text/html": "<div>\n<style scoped>\n    .dataframe tbody tr th:only-of-type {\n        vertical-align: middle;\n    }\n\n    .dataframe tbody tr th {\n        vertical-align: top;\n    }\n\n    .dataframe thead th {\n        text-align: right;\n    }\n</style>\n<table border=\"1\" class=\"dataframe\">\n  <thead>\n    <tr style=\"text-align: right;\">\n      <th></th>\n      <th>user_id</th>\n      <th>movie_id</th>\n      <th>rating</th>\n      <th>timestamp</th>\n      <th>movie_title</th>\n      <th>release_date</th>\n      <th>video_release_date</th>\n      <th>imdb_url</th>\n      <th>unknown</th>\n      <th>action</th>\n      <th>...</th>\n      <th>mystery</th>\n      <th>romance</th>\n      <th>sci-fi</th>\n      <th>thriller</th>\n      <th>war</th>\n      <th>western</th>\n      <th>age</th>\n      <th>gender</th>\n      <th>occupation</th>\n      <th>zip_code</th>\n    </tr>\n  </thead>\n  <tbody>\n    <tr>\n      <th>0</th>\n      <td>1</td>\n      <td>1</td>\n      <td>5</td>\n      <td>874965758</td>\n      <td>Toy Story (1995)</td>\n      <td>01-Jan-1995</td>\n      <td>NaN</td>\n      <td>http://us.imdb.com/M/title-exact?Toy%20Story%2...</td>\n      <td>0</td>\n      <td>0</td>\n      <td>...</td>\n      <td>0</td>\n      <td>0</td>\n      <td>0</td>\n      <td>0</td>\n      <td>0</td>\n      <td>0</td>\n      <td>24</td>\n      <td>M</td>\n      <td>technician</td>\n      <td>85711</td>\n    </tr>\n    <tr>\n      <th>1</th>\n      <td>1</td>\n      <td>2</td>\n      <td>3</td>\n      <td>876893171</td>\n      <td>GoldenEye (1995)</td>\n      <td>01-Jan-1995</td>\n      <td>NaN</td>\n      <td>http://us.imdb.com/M/title-exact?GoldenEye%20(...</td>\n      <td>0</td>\n      <td>1</td>\n      <td>...</td>\n      <td>0</td>\n      <td>0</td>\n      <td>0</td>\n      <td>1</td>\n      <td>0</td>\n      <td>0</td>\n      <td>24</td>\n      <td>M</td>\n      <td>technician</td>\n      <td>85711</td>\n    </tr>\n    <tr>\n      <th>2</th>\n      <td>1</td>\n      <td>3</td>\n      <td>4</td>\n      <td>878542960</td>\n      <td>Four Rooms (1995)</td>\n      <td>01-Jan-1995</td>\n      <td>NaN</td>\n      <td>http://us.imdb.com/M/title-exact?Four%20Rooms%...</td>\n      <td>0</td>\n      <td>0</td>\n      <td>...</td>\n      <td>0</td>\n      <td>0</td>\n      <td>0</td>\n      <td>1</td>\n      <td>0</td>\n      <td>0</td>\n      <td>24</td>\n      <td>M</td>\n      <td>technician</td>\n      <td>85711</td>\n    </tr>\n    <tr>\n      <th>3</th>\n      <td>1</td>\n      <td>4</td>\n      <td>3</td>\n      <td>876893119</td>\n      <td>Get Shorty (1995)</td>\n      <td>01-Jan-1995</td>\n      <td>NaN</td>\n      <td>http://us.imdb.com/M/title-exact?Get%20Shorty%...</td>\n      <td>0</td>\n      <td>1</td>\n      <td>...</td>\n      <td>0</td>\n      <td>0</td>\n      <td>0</td>\n      <td>0</td>\n      <td>0</td>\n      <td>0</td>\n      <td>24</td>\n      <td>M</td>\n      <td>technician</td>\n      <td>85711</td>\n    </tr>\n    <tr>\n      <th>4</th>\n      <td>1</td>\n      <td>5</td>\n      <td>3</td>\n      <td>889751712</td>\n      <td>Copycat (1995)</td>\n      <td>01-Jan-1995</td>\n      <td>NaN</td>\n      <td>http://us.imdb.com/M/title-exact?Copycat%20(1995)</td>\n      <td>0</td>\n      <td>0</td>\n      <td>...</td>\n      <td>0</td>\n      <td>0</td>\n      <td>0</td>\n      <td>1</td>\n      <td>0</td>\n      <td>0</td>\n      <td>24</td>\n      <td>M</td>\n      <td>technician</td>\n      <td>85711</td>\n    </tr>\n    <tr>\n      <th>...</th>\n      <td>...</td>\n      <td>...</td>\n      <td>...</td>\n      <td>...</td>\n      <td>...</td>\n      <td>...</td>\n      <td>...</td>\n      <td>...</td>\n      <td>...</td>\n      <td>...</td>\n      <td>...</td>\n      <td>...</td>\n      <td>...</td>\n      <td>...</td>\n      <td>...</td>\n      <td>...</td>\n      <td>...</td>\n      <td>...</td>\n      <td>...</td>\n      <td>...</td>\n      <td>...</td>\n    </tr>\n    <tr>\n      <th>79995</th>\n      <td>943</td>\n      <td>1067</td>\n      <td>2</td>\n      <td>875501756</td>\n      <td>Bottle Rocket (1996)</td>\n      <td>21-Feb-1996</td>\n      <td>NaN</td>\n      <td>http://us.imdb.com/M/title-exact?Bottle%20Rock...</td>\n      <td>0</td>\n      <td>0</td>\n      <td>...</td>\n      <td>0</td>\n      <td>0</td>\n      <td>0</td>\n      <td>0</td>\n      <td>0</td>\n      <td>0</td>\n      <td>22</td>\n      <td>M</td>\n      <td>student</td>\n      <td>77841</td>\n    </tr>\n    <tr>\n      <th>79996</th>\n      <td>943</td>\n      <td>1074</td>\n      <td>4</td>\n      <td>888640250</td>\n      <td>Reality Bites (1994)</td>\n      <td>01-Jan-1994</td>\n      <td>NaN</td>\n      <td>http://us.imdb.com/M/title-exact?Reality%20Bit...</td>\n      <td>0</td>\n      <td>0</td>\n      <td>...</td>\n      <td>0</td>\n      <td>0</td>\n      <td>0</td>\n      <td>0</td>\n      <td>0</td>\n      <td>0</td>\n      <td>22</td>\n      <td>M</td>\n      <td>student</td>\n      <td>77841</td>\n    </tr>\n    <tr>\n      <th>79997</th>\n      <td>943</td>\n      <td>1188</td>\n      <td>3</td>\n      <td>888640250</td>\n      <td>Young Guns II (1990)</td>\n      <td>01-Jan-1990</td>\n      <td>NaN</td>\n      <td>http://us.imdb.com/M/title-exact?Young%20Guns%...</td>\n      <td>0</td>\n      <td>1</td>\n      <td>...</td>\n      <td>0</td>\n      <td>0</td>\n      <td>0</td>\n      <td>0</td>\n      <td>0</td>\n      <td>1</td>\n      <td>22</td>\n      <td>M</td>\n      <td>student</td>\n      <td>77841</td>\n    </tr>\n    <tr>\n      <th>79998</th>\n      <td>943</td>\n      <td>1228</td>\n      <td>3</td>\n      <td>888640275</td>\n      <td>Under Siege 2: Dark Territory (1995)</td>\n      <td>01-Jan-1995</td>\n      <td>NaN</td>\n      <td>http://us.imdb.com/M/title-exact?Under%20Siege...</td>\n      <td>0</td>\n      <td>1</td>\n      <td>...</td>\n      <td>0</td>\n      <td>0</td>\n      <td>0</td>\n      <td>0</td>\n      <td>0</td>\n      <td>0</td>\n      <td>22</td>\n      <td>M</td>\n      <td>student</td>\n      <td>77841</td>\n    </tr>\n    <tr>\n      <th>79999</th>\n      <td>943</td>\n      <td>1330</td>\n      <td>3</td>\n      <td>888692465</td>\n      <td>An Unforgettable Summer (1994)</td>\n      <td>01-Jan-1994</td>\n      <td>NaN</td>\n      <td>http://us.imdb.com/Title?Un+%E9t%E9+inoubliabl...</td>\n      <td>0</td>\n      <td>0</td>\n      <td>...</td>\n      <td>0</td>\n      <td>0</td>\n      <td>0</td>\n      <td>0</td>\n      <td>0</td>\n      <td>0</td>\n      <td>22</td>\n      <td>M</td>\n      <td>student</td>\n      <td>77841</td>\n    </tr>\n  </tbody>\n</table>\n<p>80000 rows × 31 columns</p>\n</div>"
     },
     "execution_count": 4,
     "metadata": {},
     "output_type": "execute_result"
    }
   ],
   "source": [
    "joined"
   ],
   "metadata": {
    "collapsed": false
   }
  },
  {
   "cell_type": "markdown",
   "metadata": {},
   "source": [
    "# Conversiones"
   ]
  },
  {
   "cell_type": "markdown",
   "source": [
    "# Tal vez algunas más:\n",
    "* Rango de edad\n",
    "* timestamp - releaseDate\n"
   ],
   "metadata": {
    "collapsed": false
   }
  },
  {
   "cell_type": "code",
   "execution_count": 5,
   "outputs": [
    {
     "name": "stdout",
     "output_type": "stream",
     "text": [
      "893286638\n"
     ]
    }
   ],
   "source": [
    "# Max timestamp = 893286638\n",
    "print(max(joined.timestamp))\n",
    "date_today=max(joined.timestamp)\n",
    "timestamp_today = datetime.fromtimestamp(date_today)"
   ],
   "metadata": {
    "collapsed": false
   }
  },
  {
   "cell_type": "code",
   "execution_count": 6,
   "metadata": {},
   "outputs": [],
   "source": [
    "class elapsed(object):\n",
    "    def __init__(self, fld):\n",
    "        self.fld = fld\n",
    "        self.last = pd.to_datetime(np.nan)\n",
    "        self.last_store = 0\n",
    "        \n",
    "    def get(self, row):\n",
    "        if row.Store != self.last_store:\n",
    "            self.last = pd.to_datetime(np.nan)\n",
    "            self.last_store = row.Store\n",
    "        if (row[self.fld]): self.last = row.Date\n",
    "        return row.Date-self.last"
   ]
  },
  {
   "cell_type": "code",
   "execution_count": 7,
   "metadata": {},
   "outputs": [],
   "source": [
    "def add_elapsed(df, fld, prefix):\n",
    "    sh_el = elapsed(fld)\n",
    "    df[prefix+fld] = df.apply(sh_el.get, axis=1)"
   ]
  },
  {
   "cell_type": "code",
   "execution_count": 8,
   "outputs": [
    {
     "data": {
      "text/plain": "0        01-Jan-1995\n1        01-Jan-1995\n2        01-Jan-1995\n3        01-Jan-1995\n4        01-Jan-1995\n            ...     \n79995    21-Feb-1996\n79996    01-Jan-1994\n79997    01-Jan-1990\n79998    01-Jan-1995\n79999    01-Jan-1994\nName: release_date, Length: 80000, dtype: object"
     },
     "execution_count": 8,
     "metadata": {},
     "output_type": "execute_result"
    }
   ],
   "source": [
    "joined['release_date']"
   ],
   "metadata": {
    "collapsed": false
   }
  },
  {
   "cell_type": "code",
   "execution_count": 9,
   "outputs": [],
   "source": [
    "joined['ReleaseYear'] = joined['release_date'].apply(lambda x: str(x)[7:] if len(str(x)[7:]) == 4 else '1950')\n",
    "joined.loc[joined['ReleaseYear'].isna(), 'ReleaseYear'] = '1990'\n",
    "#print(joined['ReleaseYear'].value_counts())\n",
    "joined['ReleaseYear'] = joined['ReleaseYear'].astype(int) #.astype('Int64')"
   ],
   "metadata": {
    "collapsed": false
   }
  },
  {
   "cell_type": "code",
   "execution_count": 10,
   "outputs": [
    {
     "data": {
      "text/plain": "Jan-1995    7879\nJan-1994    7036\nJan-1997    6391\nJan-1993    5294\nDec-1996    2132\n            ... \nJun-1960       4\n0              3\nSep-1994       2\nJan-1926       2\nApr-1986       1\nName: ReleaseMonthYear, Length: 109, dtype: int64"
     },
     "execution_count": 10,
     "metadata": {},
     "output_type": "execute_result"
    }
   ],
   "source": [
    "joined['ReleaseMonthYear'] = joined['release_date'].apply(lambda x: str(x)[3:])\n",
    "joined['ReleaseMonthYear'].value_counts()"
   ],
   "metadata": {
    "collapsed": false
   }
  },
  {
   "cell_type": "code",
   "execution_count": 11,
   "outputs": [
    {
     "data": {
      "text/plain": "Jan-1995    7879\nJan-1994    7036\nJan-1997    6391\nJan-1993    5294\nDec-1996    2132\n            ... \nJun-1960       4\nFeb-1950       3\nSep-1994       2\nJan-1926       2\nApr-1986       1\nName: ReleaseMonthYear, Length: 109, dtype: int64"
     },
     "execution_count": 11,
     "metadata": {},
     "output_type": "execute_result"
    }
   ],
   "source": [
    "joined['ReleaseMonthYear'] = joined['release_date'].apply(lambda x: str(x)[3:] if len(str(x)) == 11 else 'Feb-1950')\n",
    "joined['ReleaseMonthYear'].value_counts()"
   ],
   "metadata": {
    "collapsed": false
   }
  },
  {
   "cell_type": "code",
   "execution_count": 12,
   "outputs": [
    {
     "data": {
      "text/plain": "1997    42229\n1998    37771\nName: WatchedYear, dtype: int64"
     },
     "execution_count": 12,
     "metadata": {},
     "output_type": "execute_result"
    }
   ],
   "source": [
    "joined['WatchedYear'] = joined['timestamp'].apply(lambda x: datetime.fromtimestamp(x).strftime(\"%Y\"))\n",
    "joined['WatchedMonthYear'] = joined['timestamp'].apply(lambda x: datetime.fromtimestamp(x).strftime(\"%b-%Y\"))\n",
    "\n",
    "joined['WatchedYear'].value_counts()"
   ],
   "metadata": {
    "collapsed": false
   }
  },
  {
   "cell_type": "code",
   "execution_count": 13,
   "metadata": {},
   "outputs": [],
   "source": [
    "joined[\"release_date\"] = pd.to_datetime(joined['release_date'])"
   ]
  },
  {
   "cell_type": "code",
   "execution_count": 14,
   "outputs": [
    {
     "data": {
      "text/plain": "0         995\n1        1018\n2        1037\n3        1018\n4        1166\n         ... \n79995     585\n79996    1519\n79997    2980\n79998    1154\n79999    1519\nName: watchReleaseDiff, Length: 80000, dtype: int64"
     },
     "execution_count": 14,
     "metadata": {},
     "output_type": "execute_result"
    }
   ],
   "source": [
    "joined['watchReleaseDiff'] = joined.apply(lambda x: (datetime.fromtimestamp(x['timestamp']) - x['release_date']).days , axis=1)\n",
    "joined['watchReleaseDiff']\n",
    "\n",
    "#joined_test['watchReleaseDiff'] = joined_test.apply(lambda x: (datetime.fromtimestamp(x['timestamp']) - x['release date']).days , axis=1)\n",
    "#joined_test['watchReleaseDiff']"
   ],
   "metadata": {
    "collapsed": false
   }
  },
  {
   "cell_type": "markdown",
   "source": [
    "## Nuevas columnas suponiendo que se ve ahora"
   ],
   "metadata": {
    "collapsed": false
   }
  },
  {
   "cell_type": "code",
   "execution_count": 15,
   "outputs": [],
   "source": [
    "joined['watchNow-releaseDiff'] = joined.apply(lambda x: (timestamp_today - x['release_date']).days , axis=1)\n",
    "#joined['watchNow-MonthYear'] = joined.apply(lambda x: (date_today - x['release_date']).days , axis=1)\n",
    "#joined['watchNow-Year'] = joined.apply(lambda x: (date_today - x['release_date']).days , axis=1)\n"
   ],
   "metadata": {
    "collapsed": false
   }
  },
  {
   "cell_type": "code",
   "execution_count": 16,
   "outputs": [],
   "source": [
    "from matplotlib import pyplot as plt"
   ],
   "metadata": {
    "collapsed": false
   }
  },
  {
   "cell_type": "code",
   "execution_count": 17,
   "metadata": {},
   "outputs": [
    {
     "data": {
      "text/plain": "<Figure size 1440x216 with 1 Axes>",
      "image/png": "[encoded data removed]"
     },
     "metadata": {
      "needs_background": "light"
     },
     "output_type": "display_data"
    }
   ],
   "source": [
    "plt.figure(figsize=(20,3))\n",
    "joined['ReleaseYear'].value_counts().plot()\n",
    "plt.legend()\n",
    "plt.show()"
   ]
  },
  {
   "cell_type": "code",
   "execution_count": 18,
   "outputs": [
    {
     "data": {
      "text/plain": "<Figure size 1440x216 with 1 Axes>",
      "image/png": "[encoded data removed]"
     },
     "metadata": {
      "needs_background": "light"
     },
     "output_type": "display_data"
    }
   ],
   "source": [
    "plt.figure(figsize=(20,3))\n",
    "joined['WatchedYear'].value_counts().plot()\n",
    "plt.legend()\n",
    "plt.show()"
   ],
   "metadata": {
    "collapsed": false
   }
  },
  {
   "cell_type": "code",
   "execution_count": 19,
   "metadata": {},
   "outputs": [],
   "source": [
    "def join_df(left, right, left_on, right_on=None):\n",
    "    if right_on is None: right_on = left_on\n",
    "    return left.merge(right, how='left', left_on=left_on, right_on=right_on, \n",
    "                      suffixes=(\"\", \"_y\"))"
   ]
  },
  {
   "cell_type": "code",
   "execution_count": 20,
   "outputs": [],
   "source": [
    "deleteColumns = ['imdb_url', 'video_release_date']\n",
    "joined.drop(deleteColumns,1,inplace=True, errors='ignore')"
   ],
   "metadata": {
    "collapsed": false
   }
  },
  {
   "cell_type": "code",
   "execution_count": 21,
   "outputs": [],
   "source": [
    "bins = [0, 18, 30, 40, 50, 60, 70, 120]\n",
    "labels = ['0-17','18-29', '30-39', '40-49', '50-59', '60-69', '70+']\n",
    "joined['ageRange'] = pd.cut(joined.age, bins, labels = labels,include_lowest = True)"
   ],
   "metadata": {
    "collapsed": false
   }
  },
  {
   "cell_type": "code",
   "execution_count": 22,
   "outputs": [
    {
     "name": "stdout",
     "output_type": "stream",
     "text": [
      "(80000, 36)\n",
      "Index(['user_id', 'movie_id', 'rating', 'timestamp', 'movie_title',\n",
      "       'release_date', 'unknown', 'action', 'adventure', 'animation',\n",
      "       'children', 'comedy', 'crime', 'documentary', 'drama', 'fantasy',\n",
      "       'film-noir', 'horror', 'musical', 'mystery', 'romance', 'sci-fi',\n",
      "       'thriller', 'war', 'western', 'age', 'gender', 'occupation', 'zip_code',\n",
      "       'ReleaseYear', 'ReleaseMonthYear', 'WatchedYear', 'WatchedMonthYear',\n",
      "       'watchReleaseDiff', 'watchNow-releaseDiff', 'ageRange'],\n",
      "      dtype='object')\n"
     ]
    },
    {
     "data": {
      "text/plain": "       user_id  movie_id  rating  timestamp  \\\n0            1         1       5  874965758   \n1            1         2       3  876893171   \n2            1         3       4  878542960   \n3            1         4       3  876893119   \n4            1         5       3  889751712   \n...        ...       ...     ...        ...   \n79995      943      1067       2  875501756   \n79996      943      1074       4  888640250   \n79997      943      1188       3  888640250   \n79998      943      1228       3  888640275   \n79999      943      1330       3  888692465   \n\n                                movie_title release_date  unknown  action  \\\n0                          Toy Story (1995)   1995-01-01        0       0   \n1                          GoldenEye (1995)   1995-01-01        0       1   \n2                         Four Rooms (1995)   1995-01-01        0       0   \n3                         Get Shorty (1995)   1995-01-01        0       1   \n4                            Copycat (1995)   1995-01-01        0       0   \n...                                     ...          ...      ...     ...   \n79995                  Bottle Rocket (1996)   1996-02-21        0       0   \n79996                  Reality Bites (1994)   1994-01-01        0       0   \n79997                  Young Guns II (1990)   1990-01-01        0       1   \n79998  Under Siege 2: Dark Territory (1995)   1995-01-01        0       1   \n79999        An Unforgettable Summer (1994)   1994-01-01        0       0   \n\n       adventure  animation  ...  gender  occupation  zip_code  ReleaseYear  \\\n0              0          1  ...       M  technician     85711         1995   \n1              1          0  ...       M  technician     85711         1995   \n2              0          0  ...       M  technician     85711         1995   \n3              0          0  ...       M  technician     85711         1995   \n4              0          0  ...       M  technician     85711         1995   \n...          ...        ...  ...     ...         ...       ...          ...   \n79995          0          0  ...       M     student     77841         1996   \n79996          0          0  ...       M     student     77841         1994   \n79997          0          0  ...       M     student     77841         1990   \n79998          0          0  ...       M     student     77841         1995   \n79999          0          0  ...       M     student     77841         1994   \n\n       ReleaseMonthYear  WatchedYear  WatchedMonthYear  watchReleaseDiff  \\\n0              Jan-1995         1997          Sep-1997               995   \n1              Jan-1995         1997          Oct-1997              1018   \n2              Jan-1995         1997          Nov-1997              1037   \n3              Jan-1995         1997          Oct-1997              1018   \n4              Jan-1995         1998          Mar-1998              1166   \n...                 ...          ...               ...               ...   \n79995          Feb-1996         1997          Sep-1997               585   \n79996          Jan-1994         1998          Feb-1998              1519   \n79997          Jan-1990         1998          Feb-1998              2980   \n79998          Jan-1995         1998          Feb-1998              1154   \n79999          Jan-1994         1998          Feb-1998              1519   \n\n       watchNow-releaseDiff  ageRange  \n0                      1207     18-29  \n1                      1207     18-29  \n2                      1207     18-29  \n3                      1207     18-29  \n4                      1207     18-29  \n...                     ...       ...  \n79995                   791     18-29  \n79996                  1572     18-29  \n79997                  3033     18-29  \n79998                  1207     18-29  \n79999                  1572     18-29  \n\n[80000 rows x 36 columns]",
      "text/html": "<div>\n<style scoped>\n    .dataframe tbody tr th:only-of-type {\n        vertical-align: middle;\n    }\n\n    .dataframe tbody tr th {\n        vertical-align: top;\n    }\n\n    .dataframe thead th {\n        text-align: right;\n    }\n</style>\n<table border=\"1\" class=\"dataframe\">\n  <thead>\n    <tr style=\"text-align: right;\">\n      <th></th>\n      <th>user_id</th>\n      <th>movie_id</th>\n      <th>rating</th>\n      <th>timestamp</th>\n      <th>movie_title</th>\n      <th>release_date</th>\n      <th>unknown</th>\n      <th>action</th>\n      <th>adventure</th>\n      <th>animation</th>\n      <th>...</th>\n      <th>gender</th>\n      <th>occupation</th>\n      <th>zip_code</th>\n      <th>ReleaseYear</th>\n      <th>ReleaseMonthYear</th>\n      <th>WatchedYear</th>\n      <th>WatchedMonthYear</th>\n      <th>watchReleaseDiff</th>\n      <th>watchNow-releaseDiff</th>\n      <th>ageRange</th>\n    </tr>\n  </thead>\n  <tbody>\n    <tr>\n      <th>0</th>\n      <td>1</td>\n      <td>1</td>\n      <td>5</td>\n      <td>874965758</td>\n      <td>Toy Story (1995)</td>\n      <td>1995-01-01</td>\n      <td>0</td>\n      <td>0</td>\n      <td>0</td>\n      <td>1</td>\n      <td>...</td>\n      <td>M</td>\n      <td>technician</td>\n      <td>85711</td>\n      <td>1995</td>\n      <td>Jan-1995</td>\n      <td>1997</td>\n      <td>Sep-1997</td>\n      <td>995</td>\n      <td>1207</td>\n      <td>18-29</td>\n    </tr>\n    <tr>\n      <th>1</th>\n      <td>1</td>\n      <td>2</td>\n      <td>3</td>\n      <td>876893171</td>\n      <td>GoldenEye (1995)</td>\n      <td>1995-01-01</td>\n      <td>0</td>\n      <td>1</td>\n      <td>1</td>\n      <td>0</td>\n      <td>...</td>\n      <td>M</td>\n      <td>technician</td>\n      <td>85711</td>\n      <td>1995</td>\n      <td>Jan-1995</td>\n      <td>1997</td>\n      <td>Oct-1997</td>\n      <td>1018</td>\n      <td>1207</td>\n      <td>18-29</td>\n    </tr>\n    <tr>\n      <th>2</th>\n      <td>1</td>\n      <td>3</td>\n      <td>4</td>\n      <td>878542960</td>\n      <td>Four Rooms (1995)</td>\n      <td>1995-01-01</td>\n      <td>0</td>\n      <td>0</td>\n      <td>0</td>\n      <td>0</td>\n      <td>...</td>\n      <td>M</td>\n      <td>technician</td>\n      <td>85711</td>\n      <td>1995</td>\n      <td>Jan-1995</td>\n      <td>1997</td>\n      <td>Nov-1997</td>\n      <td>1037</td>\n      <td>1207</td>\n      <td>18-29</td>\n    </tr>\n    <tr>\n      <th>3</th>\n      <td>1</td>\n      <td>4</td>\n      <td>3</td>\n      <td>876893119</td>\n      <td>Get Shorty (1995)</td>\n      <td>1995-01-01</td>\n      <td>0</td>\n      <td>1</td>\n      <td>0</td>\n      <td>0</td>\n      <td>...</td>\n      <td>M</td>\n      <td>technician</td>\n      <td>85711</td>\n      <td>1995</td>\n      <td>Jan-1995</td>\n      <td>1997</td>\n      <td>Oct-1997</td>\n      <td>1018</td>\n      <td>1207</td>\n      <td>18-29</td>\n    </tr>\n    <tr>\n      <th>4</th>\n      <td>1</td>\n      <td>5</td>\n      <td>3</td>\n      <td>889751712</td>\n      <td>Copycat (1995)</td>\n      <td>1995-01-01</td>\n      <td>0</td>\n      <td>0</td>\n      <td>0</td>\n      <td>0</td>\n      <td>...</td>\n      <td>M</td>\n      <td>technician</td>\n      <td>85711</td>\n      <td>1995</td>\n      <td>Jan-1995</td>\n      <td>1998</td>\n      <td>Mar-1998</td>\n      <td>1166</td>\n      <td>1207</td>\n      <td>18-29</td>\n    </tr>\n    <tr>\n      <th>...</th>\n      <td>...</td>\n      <td>...</td>\n      <td>...</td>\n      <td>...</td>\n      <td>...</td>\n      <td>...</td>\n      <td>...</td>\n      <td>...</td>\n      <td>...</td>\n      <td>...</td>\n      <td>...</td>\n      <td>...</td>\n      <td>...</td>\n      <td>...</td>\n      <td>...</td>\n      <td>...</td>\n      <td>...</td>\n      <td>...</td>\n      <td>...</td>\n      <td>...</td>\n      <td>...</td>\n    </tr>\n    <tr>\n      <th>79995</th>\n      <td>943</td>\n      <td>1067</td>\n      <td>2</td>\n      <td>875501756</td>\n      <td>Bottle Rocket (1996)</td>\n      <td>1996-02-21</td>\n      <td>0</td>\n      <td>0</td>\n      <td>0</td>\n      <td>0</td>\n      <td>...</td>\n      <td>M</td>\n      <td>student</td>\n      <td>77841</td>\n      <td>1996</td>\n      <td>Feb-1996</td>\n      <td>1997</td>\n      <td>Sep-1997</td>\n      <td>585</td>\n      <td>791</td>\n      <td>18-29</td>\n    </tr>\n    <tr>\n      <th>79996</th>\n      <td>943</td>\n      <td>1074</td>\n      <td>4</td>\n      <td>888640250</td>\n      <td>Reality Bites (1994)</td>\n      <td>1994-01-01</td>\n      <td>0</td>\n      <td>0</td>\n      <td>0</td>\n      <td>0</td>\n      <td>...</td>\n      <td>M</td>\n      <td>student</td>\n      <td>77841</td>\n      <td>1994</td>\n      <td>Jan-1994</td>\n      <td>1998</td>\n      <td>Feb-1998</td>\n      <td>1519</td>\n      <td>1572</td>\n      <td>18-29</td>\n    </tr>\n    <tr>\n      <th>79997</th>\n      <td>943</td>\n      <td>1188</td>\n      <td>3</td>\n      <td>888640250</td>\n      <td>Young Guns II (1990)</td>\n      <td>1990-01-01</td>\n      <td>0</td>\n      <td>1</td>\n      <td>0</td>\n      <td>0</td>\n      <td>...</td>\n      <td>M</td>\n      <td>student</td>\n      <td>77841</td>\n      <td>1990</td>\n      <td>Jan-1990</td>\n      <td>1998</td>\n      <td>Feb-1998</td>\n      <td>2980</td>\n      <td>3033</td>\n      <td>18-29</td>\n    </tr>\n    <tr>\n      <th>79998</th>\n      <td>943</td>\n      <td>1228</td>\n      <td>3</td>\n      <td>888640275</td>\n      <td>Under Siege 2: Dark Territory (1995)</td>\n      <td>1995-01-01</td>\n      <td>0</td>\n      <td>1</td>\n      <td>0</td>\n      <td>0</td>\n      <td>...</td>\n      <td>M</td>\n      <td>student</td>\n      <td>77841</td>\n      <td>1995</td>\n      <td>Jan-1995</td>\n      <td>1998</td>\n      <td>Feb-1998</td>\n      <td>1154</td>\n      <td>1207</td>\n      <td>18-29</td>\n    </tr>\n    <tr>\n      <th>79999</th>\n      <td>943</td>\n      <td>1330</td>\n      <td>3</td>\n      <td>888692465</td>\n      <td>An Unforgettable Summer (1994)</td>\n      <td>1994-01-01</td>\n      <td>0</td>\n      <td>0</td>\n      <td>0</td>\n      <td>0</td>\n      <td>...</td>\n      <td>M</td>\n      <td>student</td>\n      <td>77841</td>\n      <td>1994</td>\n      <td>Jan-1994</td>\n      <td>1998</td>\n      <td>Feb-1998</td>\n      <td>1519</td>\n      <td>1572</td>\n      <td>18-29</td>\n    </tr>\n  </tbody>\n</table>\n<p>80000 rows × 36 columns</p>\n</div>"
     },
     "execution_count": 22,
     "metadata": {},
     "output_type": "execute_result"
    }
   ],
   "source": [
    "print(joined.shape)\n",
    "print(joined.columns)\n",
    "joined"
   ],
   "metadata": {
    "collapsed": false
   }
  },
  {
   "cell_type": "markdown",
   "source": [
    "Scaling: ReleaseYear, Gender, Occupation, Age"
   ],
   "metadata": {
    "collapsed": false
   }
  },
  {
   "cell_type": "markdown",
   "source": [
    "# Normalizacion\n",
    "['user_id', 'movie_id', 'rating', 'timestamp', 'movie_title',\n",
    "       'release_date', 'unknown', 'action', 'adventure', 'animation',\n",
    "       'children', 'comedy', 'crime', 'documentary', 'drama', 'fantasy',\n",
    "       'film-noir', 'horror', 'musical', 'mystery', 'romance', 'sci-fi',\n",
    "       'thriller', 'war', 'western', 'age', 'gender', 'occupation', 'zip_code',\n",
    "       'ReleaseYear', 'ReleaseMonthYear', 'WatchedYear', 'WatchedMonthYear',\n",
    "       'watchReleaseDiff', 'ageRange'],"
   ],
   "metadata": {
    "collapsed": false
   }
  },
  {
   "cell_type": "code",
   "execution_count": 23,
   "outputs": [],
   "source": [
    "not_used = ['movie_title', 'release_date', 'age', 'zip_code']"
   ],
   "metadata": {
    "collapsed": false
   }
  },
  {
   "cell_type": "code",
   "execution_count": 24,
   "outputs": [],
   "source": [
    "cat_vars = ['gender', 'occupation', 'ageRange', 'ReleaseYear', 'ReleaseMonthYear', 'WatchedYear', 'WatchedMonthYear']"
   ],
   "metadata": {
    "collapsed": false
   }
  },
  {
   "cell_type": "code",
   "execution_count": 25,
   "outputs": [],
   "source": [
    "contin_vars = ['ReleaseYear', 'watchReleaseDiff', 'watchNow-releaseDiff', 'timestamp']"
   ],
   "metadata": {
    "collapsed": false
   }
  },
  {
   "cell_type": "markdown",
   "source": [
    "Normalización en continuas y LabelEncode en Categoricas"
   ],
   "metadata": {
    "collapsed": false
   }
  },
  {
   "cell_type": "code",
   "execution_count": 26,
   "outputs": [],
   "source": [
    "from sklearn_pandas import DataFrameMapper"
   ],
   "metadata": {
    "collapsed": false
   }
  },
  {
   "cell_type": "code",
   "execution_count": 27,
   "outputs": [],
   "source": [
    "cat_maps = [(o, LabelEncoder()) for o in cat_vars]\n",
    "contin_maps = [([o], StandardScaler()) for o in contin_vars]"
   ],
   "metadata": {
    "collapsed": false
   }
  },
  {
   "cell_type": "code",
   "execution_count": 28,
   "outputs": [],
   "source": [
    "mapper_cat = DataFrameMapper(cat_maps)\n",
    "_ = mapper_cat.fit(joined)"
   ],
   "metadata": {
    "collapsed": false
   }
  },
  {
   "cell_type": "code",
   "execution_count": 29,
   "outputs": [],
   "source": [
    "mapper_cont = DataFrameMapper(contin_maps)\n",
    "_ = mapper_cont.fit(joined)"
   ],
   "metadata": {
    "collapsed": false
   }
  },
  {
   "cell_type": "code",
   "execution_count": 30,
   "outputs": [],
   "source": [
    "joined[cat_vars] = mapper_cat.transform(joined)"
   ],
   "metadata": {
    "collapsed": false
   }
  },
  {
   "cell_type": "code",
   "execution_count": 31,
   "outputs": [],
   "source": [
    "joined[contin_vars] = mapper_cont.transform(joined)"
   ],
   "metadata": {
    "collapsed": false
   }
  },
  {
   "cell_type": "markdown",
   "source": [
    "# Recuparar valores normalizados que usaremos como entradas"
   ],
   "metadata": {
    "collapsed": false
   }
  },
  {
   "cell_type": "code",
   "execution_count": 32,
   "outputs": [
    {
     "name": "stdout",
     "output_type": "stream",
     "text": [
      "4-1998\n",
      "1998\n"
     ]
    }
   ],
   "source": [
    "watchedMonthYear=str(timestamp_today.month) + '-' + str(timestamp_today.year)\n",
    "print(watchedMonthYear)\n",
    "watchedYear=timestamp_today.year\n",
    "print(watchedYear)"
   ],
   "metadata": {
    "collapsed": false
   }
  },
  {
   "cell_type": "code",
   "execution_count": 33,
   "outputs": [
    {
     "name": "stdout",
     "output_type": "stream",
     "text": [
      "[(['ReleaseYear'], StandardScaler()), (['watchReleaseDiff'], StandardScaler()), (['watchNow-releaseDiff'], StandardScaler()), (['timestamp'], StandardScaler())]\n"
     ]
    }
   ],
   "source": [
    "print(contin_maps)\n",
    "watchedYear_standardScaler = contin_maps[0][1]\n",
    "#watchedYear_standardScaler.transform([watchedYear].reshape(-1,1))"
   ],
   "metadata": {
    "collapsed": false
   }
  },
  {
   "cell_type": "markdown",
   "source": [
    "# All Done, saving"
   ],
   "metadata": {
    "collapsed": false
   }
  },
  {
   "cell_type": "code",
   "execution_count": 34,
   "outputs": [
    {
     "data": {
      "text/plain": "       user_id  movie_id  rating  timestamp  \\\n0            1         1       5  -1.616731   \n1            1         2       3  -1.254339   \n2            1         3       4  -0.944145   \n3            1         4       3  -1.254348   \n4            1         5       3   1.163327   \n...        ...       ...     ...        ...   \n79995      943      1067       2  -1.515953   \n79996      943      1074       4   0.954349   \n79997      943      1188       3   0.954349   \n79998      943      1228       3   0.954354   \n79999      943      1330       3   0.964167   \n\n                                movie_title release_date  unknown  action  \\\n0                          Toy Story (1995)   1995-01-01        0       0   \n1                          GoldenEye (1995)   1995-01-01        0       1   \n2                         Four Rooms (1995)   1995-01-01        0       0   \n3                         Get Shorty (1995)   1995-01-01        0       1   \n4                            Copycat (1995)   1995-01-01        0       0   \n...                                     ...          ...      ...     ...   \n79995                  Bottle Rocket (1996)   1996-02-21        0       0   \n79996                  Reality Bites (1994)   1994-01-01        0       0   \n79997                  Young Guns II (1990)   1990-01-01        0       1   \n79998  Under Siege 2: Dark Territory (1995)   1995-01-01        0       1   \n79999        An Unforgettable Summer (1994)   1994-01-01        0       0   \n\n       adventure  animation  ...  gender  occupation  zip_code  ReleaseYear  \\\n0              0          1  ...       1          19     85711  -135.559629   \n1              1          0  ...       1          19     85711  -135.559629   \n2              0          0  ...       1          19     85711  -135.559629   \n3              0          0  ...       1          19     85711  -135.559629   \n4              0          0  ...       1          19     85711  -135.559629   \n...          ...        ...  ...     ...         ...       ...          ...   \n79995          0          0  ...       1          18     77841  -135.489061   \n79996          0          0  ...       1          18     77841  -135.630198   \n79997          0          0  ...       1          18     77841  -135.912472   \n79998          0          0  ...       1          18     77841  -135.559629   \n79999          0          0  ...       1          18     77841  -135.630198   \n\n       ReleaseMonthYear  WatchedYear  WatchedMonthYear  watchReleaseDiff  \\\n0                    82            0                 7         -0.501916   \n1                    82            0                 6         -0.497500   \n2                    82            0                 5         -0.493852   \n3                    82            0                 6         -0.497500   \n4                    82            1                 4         -0.469086   \n...                 ...          ...               ...               ...   \n79995                12            0                 7         -0.580632   \n79996                81            1                 2         -0.401313   \n79997                77            1                 2         -0.120815   \n79998                82            1                 2         -0.471390   \n79999                81            1                 2         -0.401313   \n\n       watchNow-releaseDiff  ageRange  \n0                 -0.482847         1  \n1                 -0.482847         1  \n2                 -0.482847         1  \n3                 -0.482847         1  \n4                 -0.482847         1  \n...                     ...       ...  \n79995             -0.562727         1  \n79996             -0.412759         1  \n79997             -0.132217         1  \n79998             -0.482847         1  \n79999             -0.412759         1  \n\n[80000 rows x 36 columns]",
      "text/html": "<div>\n<style scoped>\n    .dataframe tbody tr th:only-of-type {\n        vertical-align: middle;\n    }\n\n    .dataframe tbody tr th {\n        vertical-align: top;\n    }\n\n    .dataframe thead th {\n        text-align: right;\n    }\n</style>\n<table border=\"1\" class=\"dataframe\">\n  <thead>\n    <tr style=\"text-align: right;\">\n      <th></th>\n      <th>user_id</th>\n      <th>movie_id</th>\n      <th>rating</th>\n      <th>timestamp</th>\n      <th>movie_title</th>\n      <th>release_date</th>\n      <th>unknown</th>\n      <th>action</th>\n      <th>adventure</th>\n      <th>animation</th>\n      <th>...</th>\n      <th>gender</th>\n      <th>occupation</th>\n      <th>zip_code</th>\n      <th>ReleaseYear</th>\n      <th>ReleaseMonthYear</th>\n      <th>WatchedYear</th>\n      <th>WatchedMonthYear</th>\n      <th>watchReleaseDiff</th>\n      <th>watchNow-releaseDiff</th>\n      <th>ageRange</th>\n    </tr>\n  </thead>\n  <tbody>\n    <tr>\n      <th>0</th>\n      <td>1</td>\n      <td>1</td>\n      <td>5</td>\n      <td>-1.616731</td>\n      <td>Toy Story (1995)</td>\n      <td>1995-01-01</td>\n      <td>0</td>\n      <td>0</td>\n      <td>0</td>\n      <td>1</td>\n      <td>...</td>\n      <td>1</td>\n      <td>19</td>\n      <td>85711</td>\n      <td>-135.559629</td>\n      <td>82</td>\n      <td>0</td>\n      <td>7</td>\n      <td>-0.501916</td>\n      <td>-0.482847</td>\n      <td>1</td>\n    </tr>\n    <tr>\n      <th>1</th>\n      <td>1</td>\n      <td>2</td>\n      <td>3</td>\n      <td>-1.254339</td>\n      <td>GoldenEye (1995)</td>\n      <td>1995-01-01</td>\n      <td>0</td>\n      <td>1</td>\n      <td>1</td>\n      <td>0</td>\n      <td>...</td>\n      <td>1</td>\n      <td>19</td>\n      <td>85711</td>\n      <td>-135.559629</td>\n      <td>82</td>\n      <td>0</td>\n      <td>6</td>\n      <td>-0.497500</td>\n      <td>-0.482847</td>\n      <td>1</td>\n    </tr>\n    <tr>\n      <th>2</th>\n      <td>1</td>\n      <td>3</td>\n      <td>4</td>\n      <td>-0.944145</td>\n      <td>Four Rooms (1995)</td>\n      <td>1995-01-01</td>\n      <td>0</td>\n      <td>0</td>\n      <td>0</td>\n      <td>0</td>\n      <td>...</td>\n      <td>1</td>\n      <td>19</td>\n      <td>85711</td>\n      <td>-135.559629</td>\n      <td>82</td>\n      <td>0</td>\n      <td>5</td>\n      <td>-0.493852</td>\n      <td>-0.482847</td>\n      <td>1</td>\n    </tr>\n    <tr>\n      <th>3</th>\n      <td>1</td>\n      <td>4</td>\n      <td>3</td>\n      <td>-1.254348</td>\n      <td>Get Shorty (1995)</td>\n      <td>1995-01-01</td>\n      <td>0</td>\n      <td>1</td>\n      <td>0</td>\n      <td>0</td>\n      <td>...</td>\n      <td>1</td>\n      <td>19</td>\n      <td>85711</td>\n      <td>-135.559629</td>\n      <td>82</td>\n      <td>0</td>\n      <td>6</td>\n      <td>-0.497500</td>\n      <td>-0.482847</td>\n      <td>1</td>\n    </tr>\n    <tr>\n      <th>4</th>\n      <td>1</td>\n      <td>5</td>\n      <td>3</td>\n      <td>1.163327</td>\n      <td>Copycat (1995)</td>\n      <td>1995-01-01</td>\n      <td>0</td>\n      <td>0</td>\n      <td>0</td>\n      <td>0</td>\n      <td>...</td>\n      <td>1</td>\n      <td>19</td>\n      <td>85711</td>\n      <td>-135.559629</td>\n      <td>82</td>\n      <td>1</td>\n      <td>4</td>\n      <td>-0.469086</td>\n      <td>-0.482847</td>\n      <td>1</td>\n    </tr>\n    <tr>\n      <th>...</th>\n      <td>...</td>\n      <td>...</td>\n      <td>...</td>\n      <td>...</td>\n      <td>...</td>\n      <td>...</td>\n      <td>...</td>\n      <td>...</td>\n      <td>...</td>\n      <td>...</td>\n      <td>...</td>\n      <td>...</td>\n      <td>...</td>\n      <td>...</td>\n      <td>...</td>\n      <td>...</td>\n      <td>...</td>\n      <td>...</td>\n      <td>...</td>\n      <td>...</td>\n      <td>...</td>\n    </tr>\n    <tr>\n      <th>79995</th>\n      <td>943</td>\n      <td>1067</td>\n      <td>2</td>\n      <td>-1.515953</td>\n      <td>Bottle Rocket (1996)</td>\n      <td>1996-02-21</td>\n      <td>0</td>\n      <td>0</td>\n      <td>0</td>\n      <td>0</td>\n      <td>...</td>\n      <td>1</td>\n      <td>18</td>\n      <td>77841</td>\n      <td>-135.489061</td>\n      <td>12</td>\n      <td>0</td>\n      <td>7</td>\n      <td>-0.580632</td>\n      <td>-0.562727</td>\n      <td>1</td>\n    </tr>\n    <tr>\n      <th>79996</th>\n      <td>943</td>\n      <td>1074</td>\n      <td>4</td>\n      <td>0.954349</td>\n      <td>Reality Bites (1994)</td>\n      <td>1994-01-01</td>\n      <td>0</td>\n      <td>0</td>\n      <td>0</td>\n      <td>0</td>\n      <td>...</td>\n      <td>1</td>\n      <td>18</td>\n      <td>77841</td>\n      <td>-135.630198</td>\n      <td>81</td>\n      <td>1</td>\n      <td>2</td>\n      <td>-0.401313</td>\n      <td>-0.412759</td>\n      <td>1</td>\n    </tr>\n    <tr>\n      <th>79997</th>\n      <td>943</td>\n      <td>1188</td>\n      <td>3</td>\n      <td>0.954349</td>\n      <td>Young Guns II (1990)</td>\n      <td>1990-01-01</td>\n      <td>0</td>\n      <td>1</td>\n      <td>0</td>\n      <td>0</td>\n      <td>...</td>\n      <td>1</td>\n      <td>18</td>\n      <td>77841</td>\n      <td>-135.912472</td>\n      <td>77</td>\n      <td>1</td>\n      <td>2</td>\n      <td>-0.120815</td>\n      <td>-0.132217</td>\n      <td>1</td>\n    </tr>\n    <tr>\n      <th>79998</th>\n      <td>943</td>\n      <td>1228</td>\n      <td>3</td>\n      <td>0.954354</td>\n      <td>Under Siege 2: Dark Territory (1995)</td>\n      <td>1995-01-01</td>\n      <td>0</td>\n      <td>1</td>\n      <td>0</td>\n      <td>0</td>\n      <td>...</td>\n      <td>1</td>\n      <td>18</td>\n      <td>77841</td>\n      <td>-135.559629</td>\n      <td>82</td>\n      <td>1</td>\n      <td>2</td>\n      <td>-0.471390</td>\n      <td>-0.482847</td>\n      <td>1</td>\n    </tr>\n    <tr>\n      <th>79999</th>\n      <td>943</td>\n      <td>1330</td>\n      <td>3</td>\n      <td>0.964167</td>\n      <td>An Unforgettable Summer (1994)</td>\n      <td>1994-01-01</td>\n      <td>0</td>\n      <td>0</td>\n      <td>0</td>\n      <td>0</td>\n      <td>...</td>\n      <td>1</td>\n      <td>18</td>\n      <td>77841</td>\n      <td>-135.630198</td>\n      <td>81</td>\n      <td>1</td>\n      <td>2</td>\n      <td>-0.401313</td>\n      <td>-0.412759</td>\n      <td>1</td>\n    </tr>\n  </tbody>\n</table>\n<p>80000 rows × 36 columns</p>\n</div>"
     },
     "execution_count": 34,
     "metadata": {},
     "output_type": "execute_result"
    }
   ],
   "source": [
    "joined"
   ],
   "metadata": {
    "collapsed": false
   }
  },
  {
   "cell_type": "code",
   "execution_count": 35,
   "outputs": [],
   "source": [
    "joined.to_feather(PATH_PROCESSED + 'joined.fth')"
   ],
   "metadata": {
    "collapsed": false
   }
  },
  {
   "cell_type": "code",
   "execution_count": 36,
   "metadata": {},
   "outputs": [
    {
     "name": "stdout",
     "output_type": "stream",
     "text": [
      "date and time = 31/12/2022 09:43:19\n"
     ]
    }
   ],
   "source": [
    "# datetime object containing current date and time\n",
    "now = datetime.now()\n",
    "# dd/mm/YY H:M:S\n",
    "dt_string = now.strftime(\"%d/%m/%Y %H:%M:%S\")\n",
    "print(\"date and time =\", dt_string)\t"
   ]
  },
  {
   "cell_type": "code",
   "execution_count": 36,
   "metadata": {},
   "outputs": [],
   "source": []
  }
 ],
 "metadata": {
  "kernelspec": {
   "display_name": "Python 3 (ipykernel)",
   "language": "python",
   "name": "python3"
  },
  "language_info": {
   "codemirror_mode": {
    "name": "ipython",
    "version": 3
   },
   "file_extension": ".py",
   "mimetype": "text/x-python",
   "name": "python",
   "nbconvert_exporter": "python",
   "pygments_lexer": "ipython3",
   "version": "3.9.12"
  }
 },
 "nbformat": 4,
 "nbformat_minor": 4
}
