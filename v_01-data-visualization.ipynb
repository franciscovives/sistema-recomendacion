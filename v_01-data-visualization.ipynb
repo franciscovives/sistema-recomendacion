{
 "cells": [
  {
   "cell_type": "code",
   "execution_count": 1,
   "outputs": [],
   "source": [
    "#!pip install pandas-summary\n",
    "#!pip install numpy\n",
    "#!pip install scikit-learn\n",
    "#!pip install keras\n",
    "#!pip install tensorflow\n",
    "#! pip install matplotlib\n",
    "#!pip install isoweek\n",
    "#!pip install pyarrow\n",
    "#! pip install sklearn_pandas\n",
    "#! pip install mlflow"
   ],
   "metadata": {
    "collapsed": false
   }
  },
  {
   "cell_type": "markdown",
   "source": [
    "# Datos estructurados - ITBA 2020\n",
    "\n",
    "https://www.kaggle.com/c/datos-estructurados-itba-2020/overview"
   ],
   "metadata": {
    "collapsed": false
   }
  },
  {
   "cell_type": "code",
   "execution_count": 2,
   "outputs": [],
   "source": [
    "import numpy as np\n",
    "import pandas as pd\n",
    "#  pip install pandas_summary\n",
    "from pandas_summary import DataFrameSummary"
   ],
   "metadata": {
    "collapsed": false
   }
  },
  {
   "cell_type": "code",
   "execution_count": 3,
   "outputs": [
    {
     "name": "stdout",
     "output_type": "stream",
     "text": [
      "The new directory is created!\n"
     ]
    }
   ],
   "source": [
    "import os\n",
    "PATH_PROCESSED = 'processed/'\n",
    "# Check whether the specified path exists or not\n",
    "isExist = os.path.exists(PATH_PROCESSED)\n",
    "if not isExist:\n",
    "\n",
    "    # Create a new directory because it does not exist\n",
    "    os.makedirs(PATH_PROCESSED)\n",
    "    print(\"The new directory is created!\")"
   ],
   "metadata": {
    "collapsed": false
   }
  },
  {
   "cell_type": "markdown",
   "metadata": {},
   "source": [
    "# Competencia de Kaggle\n",
    "\n",
    "[ir a Kaggle](https://www.kaggle.com/c/datos-estructurados-itba-2020/overview)\n"
   ]
  },
  {
   "cell_type": "markdown",
   "metadata": {},
   "source": [
    "# Métrica de la competencia"
   ]
  },
  {
   "cell_type": "markdown",
   "metadata": {},
   "source": [
    "$$\n",
    "\\textrm{RMSPE} = \\sqrt{\\frac{1}{n} \\sum_{i=1}^{n} \\left(\\frac{\\hat{y}_i - y_i}{y_i}\\right)^2}\n",
    "$$\n"
   ]
  },
  {
   "cell_type": "markdown",
   "metadata": {},
   "source": [
    "## Importamos dataset"
   ]
  },
  {
   "cell_type": "markdown",
   "metadata": {},
   "source": [
    "Conclusiones de los archivos\n",
    "\n",
    "Embeddings de 3 en occupation, verlo en grafica cuán cerca están\n",
    "Genero: entrarlo como está\n",
    "Zip: Embedding 2 nodos\n",
    "Gender: 1 Embedding\n",
    "Age: 4 embeddings\n",
    "Release Date: 9 embeddings\n",
    "\n",
    "\n",
    "Datos que determinaran el rating\n",
    "* item: release date, [tipo pelicula]\n",
    "* user: age, gender, occupation, zip code\n",
    "* train/test: rating\n",
    "\n",
    "Conversiones:\n",
    "item.release date > mes-año\n",
    "train.timestamp > mes-año ??\n"
   ]
  },
  {
   "cell_type": "markdown",
   "source": [
    "* u.data: user id | item id | rating | timestamp\n",
    "* u.item: movie id | movie title | release date | video release date |\n",
    "              IMDb URL | unknown | Action | Adventure | Animation |\n",
    "              Children's | Comedy | Crime | Documentary | Drama | Fantasy |\n",
    "              Film-Noir | Horror | Musical | Mystery | Romance | Sci-Fi |\n",
    "              Thriller | War | Western |\n",
    "* u.user: user id | age | gender | occupation | zip code\n",
    "* u1..n: are 80%/20% splits of the u data\n",
    "* ua/ub: split the u data exactly 10 ratings per user in the set."
   ],
   "metadata": {
    "collapsed": false
   }
  },
  {
   "cell_type": "code",
   "execution_count": 4,
   "metadata": {},
   "outputs": [],
   "source": [
    "PATH_PROCESSED='processed/'\n",
    "PATH = 'dataset/'\n",
    "\n",
    "user, occupation = [pd.read_csv(PATH + fname+'.csv', low_memory=False, sep=\"|\") for fname in ['user', 'occupation']]\n",
    "info, train = [pd.read_csv(PATH + fname+'.csv', low_memory=False, sep=\"\\t\") for fname in ['info', 'train']]\n",
    "test = pd.read_csv(PATH + 'test.csv', low_memory=False, sep=\",\")\n",
    "item = pd.read_csv(PATH + 'item.csv',  low_memory=False, encoding='latin-1', sep=\"|\")\n",
    "\n",
    "item.rename( columns={'movieId' :'movie_id', 'movieTitle' :'movie_title', 'release date' :'release_date', 'video release date' :'video_release_date', 'IMDb URL' :'imdb_url', 'unknown' :'unknown', 'Action' :'action', 'Adventure' :'adventure', 'Animation' :'animation', 'Children\\'s' :'children', 'Comedy' :'comedy', 'Crime' :'crime', 'Documentary' :'documentary', 'Drama' :'drama', 'Fantasy' :'fantasy', 'Film-Noir' :'film-noir', 'Horror' :'horror', 'Musical' :'musical', 'Mystery' :'mystery', 'Romance' :'romance', 'Sci-Fi' :'sci-fi', 'Thriller' :'thriller', 'War' :'war', 'Western' :'western'}, inplace=True)\n",
    "\n",
    "user.rename( columns={'user id' :'user_id', 'age' :'age', 'gender' :'gender', 'occupation' :'occupation', 'zip code' :'zip_code'}, inplace=True)\n",
    "\n",
    "train.rename( columns={'userId' :'user_id', 'movieId' :'movie_id'}, inplace=True)\n",
    "test.rename( columns={'Id' :'id', 'userId' :'user_id', 'movieId' :'movie_id'}, inplace=True)\n",
    "#data = train + test\n",
    "data = train"
   ]
  },
  {
   "cell_type": "code",
   "execution_count": 5,
   "outputs": [
    {
     "data": {
      "text/plain": "       user_id  movie_id  rating  timestamp\n0            1         1       5  874965758\n1            1         2       3  876893171\n2            1         3       4  878542960\n3            1         4       3  876893119\n4            1         5       3  889751712\n...        ...       ...     ...        ...\n79995      943      1067       2  875501756\n79996      943      1074       4  888640250\n79997      943      1188       3  888640250\n79998      943      1228       3  888640275\n79999      943      1330       3  888692465\n\n[80000 rows x 4 columns]",
      "text/html": "<div>\n<style scoped>\n    .dataframe tbody tr th:only-of-type {\n        vertical-align: middle;\n    }\n\n    .dataframe tbody tr th {\n        vertical-align: top;\n    }\n\n    .dataframe thead th {\n        text-align: right;\n    }\n</style>\n<table border=\"1\" class=\"dataframe\">\n  <thead>\n    <tr style=\"text-align: right;\">\n      <th></th>\n      <th>user_id</th>\n      <th>movie_id</th>\n      <th>rating</th>\n      <th>timestamp</th>\n    </tr>\n  </thead>\n  <tbody>\n    <tr>\n      <th>0</th>\n      <td>1</td>\n      <td>1</td>\n      <td>5</td>\n      <td>874965758</td>\n    </tr>\n    <tr>\n      <th>1</th>\n      <td>1</td>\n      <td>2</td>\n      <td>3</td>\n      <td>876893171</td>\n    </tr>\n    <tr>\n      <th>2</th>\n      <td>1</td>\n      <td>3</td>\n      <td>4</td>\n      <td>878542960</td>\n    </tr>\n    <tr>\n      <th>3</th>\n      <td>1</td>\n      <td>4</td>\n      <td>3</td>\n      <td>876893119</td>\n    </tr>\n    <tr>\n      <th>4</th>\n      <td>1</td>\n      <td>5</td>\n      <td>3</td>\n      <td>889751712</td>\n    </tr>\n    <tr>\n      <th>...</th>\n      <td>...</td>\n      <td>...</td>\n      <td>...</td>\n      <td>...</td>\n    </tr>\n    <tr>\n      <th>79995</th>\n      <td>943</td>\n      <td>1067</td>\n      <td>2</td>\n      <td>875501756</td>\n    </tr>\n    <tr>\n      <th>79996</th>\n      <td>943</td>\n      <td>1074</td>\n      <td>4</td>\n      <td>888640250</td>\n    </tr>\n    <tr>\n      <th>79997</th>\n      <td>943</td>\n      <td>1188</td>\n      <td>3</td>\n      <td>888640250</td>\n    </tr>\n    <tr>\n      <th>79998</th>\n      <td>943</td>\n      <td>1228</td>\n      <td>3</td>\n      <td>888640275</td>\n    </tr>\n    <tr>\n      <th>79999</th>\n      <td>943</td>\n      <td>1330</td>\n      <td>3</td>\n      <td>888692465</td>\n    </tr>\n  </tbody>\n</table>\n<p>80000 rows × 4 columns</p>\n</div>"
     },
     "execution_count": 5,
     "metadata": {},
     "output_type": "execute_result"
    }
   ],
   "source": [
    "train"
   ],
   "metadata": {
    "collapsed": false
   }
  },
  {
   "cell_type": "code",
   "execution_count": 6,
   "metadata": {},
   "outputs": [
    {
     "data": {
      "text/plain": "   movie_id        movie_title release_date  video_release_date  \\\n0         1   Toy Story (1995)  01-Jan-1995                 NaN   \n1         2   GoldenEye (1995)  01-Jan-1995                 NaN   \n2         3  Four Rooms (1995)  01-Jan-1995                 NaN   \n3         4  Get Shorty (1995)  01-Jan-1995                 NaN   \n4         5     Copycat (1995)  01-Jan-1995                 NaN   \n\n                                            imdb_url  unknown  action  \\\n0  http://us.imdb.com/M/title-exact?Toy%20Story%2...        0       0   \n1  http://us.imdb.com/M/title-exact?GoldenEye%20(...        0       1   \n2  http://us.imdb.com/M/title-exact?Four%20Rooms%...        0       0   \n3  http://us.imdb.com/M/title-exact?Get%20Shorty%...        0       1   \n4  http://us.imdb.com/M/title-exact?Copycat%20(1995)        0       0   \n\n   adventure  animation  children  ...  fantasy  film-noir  horror  musical  \\\n0          0          1         1  ...        0          0       0        0   \n1          1          0         0  ...        0          0       0        0   \n2          0          0         0  ...        0          0       0        0   \n3          0          0         0  ...        0          0       0        0   \n4          0          0         0  ...        0          0       0        0   \n\n   mystery  romance  sci-fi  thriller  war  western  \n0        0        0       0         0    0        0  \n1        0        0       0         1    0        0  \n2        0        0       0         1    0        0  \n3        0        0       0         0    0        0  \n4        0        0       0         1    0        0  \n\n[5 rows x 24 columns]",
      "text/html": "<div>\n<style scoped>\n    .dataframe tbody tr th:only-of-type {\n        vertical-align: middle;\n    }\n\n    .dataframe tbody tr th {\n        vertical-align: top;\n    }\n\n    .dataframe thead th {\n        text-align: right;\n    }\n</style>\n<table border=\"1\" class=\"dataframe\">\n  <thead>\n    <tr style=\"text-align: right;\">\n      <th></th>\n      <th>movie_id</th>\n      <th>movie_title</th>\n      <th>release_date</th>\n      <th>video_release_date</th>\n      <th>imdb_url</th>\n      <th>unknown</th>\n      <th>action</th>\n      <th>adventure</th>\n      <th>animation</th>\n      <th>children</th>\n      <th>...</th>\n      <th>fantasy</th>\n      <th>film-noir</th>\n      <th>horror</th>\n      <th>musical</th>\n      <th>mystery</th>\n      <th>romance</th>\n      <th>sci-fi</th>\n      <th>thriller</th>\n      <th>war</th>\n      <th>western</th>\n    </tr>\n  </thead>\n  <tbody>\n    <tr>\n      <th>0</th>\n      <td>1</td>\n      <td>Toy Story (1995)</td>\n      <td>01-Jan-1995</td>\n      <td>NaN</td>\n      <td>http://us.imdb.com/M/title-exact?Toy%20Story%2...</td>\n      <td>0</td>\n      <td>0</td>\n      <td>0</td>\n      <td>1</td>\n      <td>1</td>\n      <td>...</td>\n      <td>0</td>\n      <td>0</td>\n      <td>0</td>\n      <td>0</td>\n      <td>0</td>\n      <td>0</td>\n      <td>0</td>\n      <td>0</td>\n      <td>0</td>\n      <td>0</td>\n    </tr>\n    <tr>\n      <th>1</th>\n      <td>2</td>\n      <td>GoldenEye (1995)</td>\n      <td>01-Jan-1995</td>\n      <td>NaN</td>\n      <td>http://us.imdb.com/M/title-exact?GoldenEye%20(...</td>\n      <td>0</td>\n      <td>1</td>\n      <td>1</td>\n      <td>0</td>\n      <td>0</td>\n      <td>...</td>\n      <td>0</td>\n      <td>0</td>\n      <td>0</td>\n      <td>0</td>\n      <td>0</td>\n      <td>0</td>\n      <td>0</td>\n      <td>1</td>\n      <td>0</td>\n      <td>0</td>\n    </tr>\n    <tr>\n      <th>2</th>\n      <td>3</td>\n      <td>Four Rooms (1995)</td>\n      <td>01-Jan-1995</td>\n      <td>NaN</td>\n      <td>http://us.imdb.com/M/title-exact?Four%20Rooms%...</td>\n      <td>0</td>\n      <td>0</td>\n      <td>0</td>\n      <td>0</td>\n      <td>0</td>\n      <td>...</td>\n      <td>0</td>\n      <td>0</td>\n      <td>0</td>\n      <td>0</td>\n      <td>0</td>\n      <td>0</td>\n      <td>0</td>\n      <td>1</td>\n      <td>0</td>\n      <td>0</td>\n    </tr>\n    <tr>\n      <th>3</th>\n      <td>4</td>\n      <td>Get Shorty (1995)</td>\n      <td>01-Jan-1995</td>\n      <td>NaN</td>\n      <td>http://us.imdb.com/M/title-exact?Get%20Shorty%...</td>\n      <td>0</td>\n      <td>1</td>\n      <td>0</td>\n      <td>0</td>\n      <td>0</td>\n      <td>...</td>\n      <td>0</td>\n      <td>0</td>\n      <td>0</td>\n      <td>0</td>\n      <td>0</td>\n      <td>0</td>\n      <td>0</td>\n      <td>0</td>\n      <td>0</td>\n      <td>0</td>\n    </tr>\n    <tr>\n      <th>4</th>\n      <td>5</td>\n      <td>Copycat (1995)</td>\n      <td>01-Jan-1995</td>\n      <td>NaN</td>\n      <td>http://us.imdb.com/M/title-exact?Copycat%20(1995)</td>\n      <td>0</td>\n      <td>0</td>\n      <td>0</td>\n      <td>0</td>\n      <td>0</td>\n      <td>...</td>\n      <td>0</td>\n      <td>0</td>\n      <td>0</td>\n      <td>0</td>\n      <td>0</td>\n      <td>0</td>\n      <td>0</td>\n      <td>1</td>\n      <td>0</td>\n      <td>0</td>\n    </tr>\n  </tbody>\n</table>\n<p>5 rows × 24 columns</p>\n</div>"
     },
     "metadata": {},
     "output_type": "display_data"
    },
    {
     "data": {
      "text/plain": "                movie_id  movie_title release_date video_release_date  \\\ncount             1682.0          NaN          NaN                0.0   \nmean               841.5          NaN          NaN                NaN   \nstd           485.695893          NaN          NaN                NaN   \nmin                  1.0          NaN          NaN                NaN   \n25%               421.25          NaN          NaN                NaN   \n50%                841.5          NaN          NaN                NaN   \n75%              1261.75          NaN          NaN                NaN   \nmax               1682.0          NaN          NaN                NaN   \ncounts              1682         1682         1681                  0   \nuniques             1682         1664          240                  0   \nmissing                0            0            1               1682   \nmissing_perc          0%           0%        0.06%               100%   \ntypes            numeric  categorical  categorical            numeric   \n\n                 imdb_url   unknown    action adventure animation  children  \\\ncount                 NaN    1682.0    1682.0    1682.0    1682.0    1682.0   \nmean                  NaN  0.001189  0.149227  0.080262   0.02497  0.072533   \nstd                   NaN  0.034473  0.356418  0.271779  0.156081  0.259445   \nmin                   NaN       0.0       0.0       0.0       0.0       0.0   \n25%                   NaN       0.0       0.0       0.0       0.0       0.0   \n50%                   NaN       0.0       0.0       0.0       0.0       0.0   \n75%                   NaN       0.0       0.0       0.0       0.0       0.0   \nmax                   NaN       1.0       1.0       1.0       1.0       1.0   \ncounts               1679      1682      1682      1682      1682      1682   \nuniques              1660         2         2         2         2         2   \nmissing                 3         0         0         0         0         0   \nmissing_perc        0.18%        0%        0%        0%        0%        0%   \ntypes         categorical      bool      bool      bool      bool      bool   \n\n              ...  fantasy film-noir    horror   musical   mystery   romance  \\\ncount         ...   1682.0    1682.0    1682.0    1682.0    1682.0    1682.0   \nmean          ...  0.01308  0.014269  0.054697  0.033294  0.036266  0.146849   \nstd           ...  0.11365  0.118632  0.227455  0.179456  0.187008  0.354061   \nmin           ...      0.0       0.0       0.0       0.0       0.0       0.0   \n25%           ...      0.0       0.0       0.0       0.0       0.0       0.0   \n50%           ...      0.0       0.0       0.0       0.0       0.0       0.0   \n75%           ...      0.0       0.0       0.0       0.0       0.0       0.0   \nmax           ...      1.0       1.0       1.0       1.0       1.0       1.0   \ncounts        ...     1682      1682      1682      1682      1682      1682   \nuniques       ...        2         2         2         2         2         2   \nmissing       ...        0         0         0         0         0         0   \nmissing_perc  ...       0%        0%        0%        0%        0%        0%   \ntypes         ...     bool      bool      bool      bool      bool      bool   \n\n                sci-fi  thriller       war   western  \ncount           1682.0    1682.0    1682.0    1682.0  \nmean          0.060048  0.149227  0.042212  0.016052  \nstd           0.237646  0.356418  0.201131  0.125714  \nmin                0.0       0.0       0.0       0.0  \n25%                0.0       0.0       0.0       0.0  \n50%                0.0       0.0       0.0       0.0  \n75%                0.0       0.0       0.0       0.0  \nmax                1.0       1.0       1.0       1.0  \ncounts            1682      1682      1682      1682  \nuniques              2         2         2         2  \nmissing              0         0         0         0  \nmissing_perc        0%        0%        0%        0%  \ntypes             bool      bool      bool      bool  \n\n[13 rows x 24 columns]",
      "text/html": "<div>\n<style scoped>\n    .dataframe tbody tr th:only-of-type {\n        vertical-align: middle;\n    }\n\n    .dataframe tbody tr th {\n        vertical-align: top;\n    }\n\n    .dataframe thead th {\n        text-align: right;\n    }\n</style>\n<table border=\"1\" class=\"dataframe\">\n  <thead>\n    <tr style=\"text-align: right;\">\n      <th></th>\n      <th>movie_id</th>\n      <th>movie_title</th>\n      <th>release_date</th>\n      <th>video_release_date</th>\n      <th>imdb_url</th>\n      <th>unknown</th>\n      <th>action</th>\n      <th>adventure</th>\n      <th>animation</th>\n      <th>children</th>\n      <th>...</th>\n      <th>fantasy</th>\n      <th>film-noir</th>\n      <th>horror</th>\n      <th>musical</th>\n      <th>mystery</th>\n      <th>romance</th>\n      <th>sci-fi</th>\n      <th>thriller</th>\n      <th>war</th>\n      <th>western</th>\n    </tr>\n  </thead>\n  <tbody>\n    <tr>\n      <th>count</th>\n      <td>1682.0</td>\n      <td>NaN</td>\n      <td>NaN</td>\n      <td>0.0</td>\n      <td>NaN</td>\n      <td>1682.0</td>\n      <td>1682.0</td>\n      <td>1682.0</td>\n      <td>1682.0</td>\n      <td>1682.0</td>\n      <td>...</td>\n      <td>1682.0</td>\n      <td>1682.0</td>\n      <td>1682.0</td>\n      <td>1682.0</td>\n      <td>1682.0</td>\n      <td>1682.0</td>\n      <td>1682.0</td>\n      <td>1682.0</td>\n      <td>1682.0</td>\n      <td>1682.0</td>\n    </tr>\n    <tr>\n      <th>mean</th>\n      <td>841.5</td>\n      <td>NaN</td>\n      <td>NaN</td>\n      <td>NaN</td>\n      <td>NaN</td>\n      <td>0.001189</td>\n      <td>0.149227</td>\n      <td>0.080262</td>\n      <td>0.02497</td>\n      <td>0.072533</td>\n      <td>...</td>\n      <td>0.01308</td>\n      <td>0.014269</td>\n      <td>0.054697</td>\n      <td>0.033294</td>\n      <td>0.036266</td>\n      <td>0.146849</td>\n      <td>0.060048</td>\n      <td>0.149227</td>\n      <td>0.042212</td>\n      <td>0.016052</td>\n    </tr>\n    <tr>\n      <th>std</th>\n      <td>485.695893</td>\n      <td>NaN</td>\n      <td>NaN</td>\n      <td>NaN</td>\n      <td>NaN</td>\n      <td>0.034473</td>\n      <td>0.356418</td>\n      <td>0.271779</td>\n      <td>0.156081</td>\n      <td>0.259445</td>\n      <td>...</td>\n      <td>0.11365</td>\n      <td>0.118632</td>\n      <td>0.227455</td>\n      <td>0.179456</td>\n      <td>0.187008</td>\n      <td>0.354061</td>\n      <td>0.237646</td>\n      <td>0.356418</td>\n      <td>0.201131</td>\n      <td>0.125714</td>\n    </tr>\n    <tr>\n      <th>min</th>\n      <td>1.0</td>\n      <td>NaN</td>\n      <td>NaN</td>\n      <td>NaN</td>\n      <td>NaN</td>\n      <td>0.0</td>\n      <td>0.0</td>\n      <td>0.0</td>\n      <td>0.0</td>\n      <td>0.0</td>\n      <td>...</td>\n      <td>0.0</td>\n      <td>0.0</td>\n      <td>0.0</td>\n      <td>0.0</td>\n      <td>0.0</td>\n      <td>0.0</td>\n      <td>0.0</td>\n      <td>0.0</td>\n      <td>0.0</td>\n      <td>0.0</td>\n    </tr>\n    <tr>\n      <th>25%</th>\n      <td>421.25</td>\n      <td>NaN</td>\n      <td>NaN</td>\n      <td>NaN</td>\n      <td>NaN</td>\n      <td>0.0</td>\n      <td>0.0</td>\n      <td>0.0</td>\n      <td>0.0</td>\n      <td>0.0</td>\n      <td>...</td>\n      <td>0.0</td>\n      <td>0.0</td>\n      <td>0.0</td>\n      <td>0.0</td>\n      <td>0.0</td>\n      <td>0.0</td>\n      <td>0.0</td>\n      <td>0.0</td>\n      <td>0.0</td>\n      <td>0.0</td>\n    </tr>\n    <tr>\n      <th>50%</th>\n      <td>841.5</td>\n      <td>NaN</td>\n      <td>NaN</td>\n      <td>NaN</td>\n      <td>NaN</td>\n      <td>0.0</td>\n      <td>0.0</td>\n      <td>0.0</td>\n      <td>0.0</td>\n      <td>0.0</td>\n      <td>...</td>\n      <td>0.0</td>\n      <td>0.0</td>\n      <td>0.0</td>\n      <td>0.0</td>\n      <td>0.0</td>\n      <td>0.0</td>\n      <td>0.0</td>\n      <td>0.0</td>\n      <td>0.0</td>\n      <td>0.0</td>\n    </tr>\n    <tr>\n      <th>75%</th>\n      <td>1261.75</td>\n      <td>NaN</td>\n      <td>NaN</td>\n      <td>NaN</td>\n      <td>NaN</td>\n      <td>0.0</td>\n      <td>0.0</td>\n      <td>0.0</td>\n      <td>0.0</td>\n      <td>0.0</td>\n      <td>...</td>\n      <td>0.0</td>\n      <td>0.0</td>\n      <td>0.0</td>\n      <td>0.0</td>\n      <td>0.0</td>\n      <td>0.0</td>\n      <td>0.0</td>\n      <td>0.0</td>\n      <td>0.0</td>\n      <td>0.0</td>\n    </tr>\n    <tr>\n      <th>max</th>\n      <td>1682.0</td>\n      <td>NaN</td>\n      <td>NaN</td>\n      <td>NaN</td>\n      <td>NaN</td>\n      <td>1.0</td>\n      <td>1.0</td>\n      <td>1.0</td>\n      <td>1.0</td>\n      <td>1.0</td>\n      <td>...</td>\n      <td>1.0</td>\n      <td>1.0</td>\n      <td>1.0</td>\n      <td>1.0</td>\n      <td>1.0</td>\n      <td>1.0</td>\n      <td>1.0</td>\n      <td>1.0</td>\n      <td>1.0</td>\n      <td>1.0</td>\n    </tr>\n    <tr>\n      <th>counts</th>\n      <td>1682</td>\n      <td>1682</td>\n      <td>1681</td>\n      <td>0</td>\n      <td>1679</td>\n      <td>1682</td>\n      <td>1682</td>\n      <td>1682</td>\n      <td>1682</td>\n      <td>1682</td>\n      <td>...</td>\n      <td>1682</td>\n      <td>1682</td>\n      <td>1682</td>\n      <td>1682</td>\n      <td>1682</td>\n      <td>1682</td>\n      <td>1682</td>\n      <td>1682</td>\n      <td>1682</td>\n      <td>1682</td>\n    </tr>\n    <tr>\n      <th>uniques</th>\n      <td>1682</td>\n      <td>1664</td>\n      <td>240</td>\n      <td>0</td>\n      <td>1660</td>\n      <td>2</td>\n      <td>2</td>\n      <td>2</td>\n      <td>2</td>\n      <td>2</td>\n      <td>...</td>\n      <td>2</td>\n      <td>2</td>\n      <td>2</td>\n      <td>2</td>\n      <td>2</td>\n      <td>2</td>\n      <td>2</td>\n      <td>2</td>\n      <td>2</td>\n      <td>2</td>\n    </tr>\n    <tr>\n      <th>missing</th>\n      <td>0</td>\n      <td>0</td>\n      <td>1</td>\n      <td>1682</td>\n      <td>3</td>\n      <td>0</td>\n      <td>0</td>\n      <td>0</td>\n      <td>0</td>\n      <td>0</td>\n      <td>...</td>\n      <td>0</td>\n      <td>0</td>\n      <td>0</td>\n      <td>0</td>\n      <td>0</td>\n      <td>0</td>\n      <td>0</td>\n      <td>0</td>\n      <td>0</td>\n      <td>0</td>\n    </tr>\n    <tr>\n      <th>missing_perc</th>\n      <td>0%</td>\n      <td>0%</td>\n      <td>0.06%</td>\n      <td>100%</td>\n      <td>0.18%</td>\n      <td>0%</td>\n      <td>0%</td>\n      <td>0%</td>\n      <td>0%</td>\n      <td>0%</td>\n      <td>...</td>\n      <td>0%</td>\n      <td>0%</td>\n      <td>0%</td>\n      <td>0%</td>\n      <td>0%</td>\n      <td>0%</td>\n      <td>0%</td>\n      <td>0%</td>\n      <td>0%</td>\n      <td>0%</td>\n    </tr>\n    <tr>\n      <th>types</th>\n      <td>numeric</td>\n      <td>categorical</td>\n      <td>categorical</td>\n      <td>numeric</td>\n      <td>categorical</td>\n      <td>bool</td>\n      <td>bool</td>\n      <td>bool</td>\n      <td>bool</td>\n      <td>bool</td>\n      <td>...</td>\n      <td>bool</td>\n      <td>bool</td>\n      <td>bool</td>\n      <td>bool</td>\n      <td>bool</td>\n      <td>bool</td>\n      <td>bool</td>\n      <td>bool</td>\n      <td>bool</td>\n      <td>bool</td>\n    </tr>\n  </tbody>\n</table>\n<p>13 rows × 24 columns</p>\n</div>"
     },
     "metadata": {},
     "output_type": "display_data"
    }
   ],
   "source": [
    "display(item.head())\n",
    "display(DataFrameSummary(item).summary())"
   ]
  },
  {
   "cell_type": "code",
   "execution_count": 7,
   "outputs": [
    {
     "data": {
      "text/plain": "Index(['user_id', 'age', 'gender', 'occupation', 'zip_code'], dtype='object')"
     },
     "execution_count": 7,
     "metadata": {},
     "output_type": "execute_result"
    }
   ],
   "source": [
    "user.columns"
   ],
   "metadata": {
    "collapsed": false
   }
  },
  {
   "cell_type": "code",
   "execution_count": 8,
   "outputs": [
    {
     "data": {
      "text/plain": "   user_id  age gender  occupation zip_code\n0        1   24      M  technician    85711\n1        2   53      F       other    94043\n2        3   23      M      writer    32067\n3        4   24      M  technician    43537\n4        5   33      F       other    15213",
      "text/html": "<div>\n<style scoped>\n    .dataframe tbody tr th:only-of-type {\n        vertical-align: middle;\n    }\n\n    .dataframe tbody tr th {\n        vertical-align: top;\n    }\n\n    .dataframe thead th {\n        text-align: right;\n    }\n</style>\n<table border=\"1\" class=\"dataframe\">\n  <thead>\n    <tr style=\"text-align: right;\">\n      <th></th>\n      <th>user_id</th>\n      <th>age</th>\n      <th>gender</th>\n      <th>occupation</th>\n      <th>zip_code</th>\n    </tr>\n  </thead>\n  <tbody>\n    <tr>\n      <th>0</th>\n      <td>1</td>\n      <td>24</td>\n      <td>M</td>\n      <td>technician</td>\n      <td>85711</td>\n    </tr>\n    <tr>\n      <th>1</th>\n      <td>2</td>\n      <td>53</td>\n      <td>F</td>\n      <td>other</td>\n      <td>94043</td>\n    </tr>\n    <tr>\n      <th>2</th>\n      <td>3</td>\n      <td>23</td>\n      <td>M</td>\n      <td>writer</td>\n      <td>32067</td>\n    </tr>\n    <tr>\n      <th>3</th>\n      <td>4</td>\n      <td>24</td>\n      <td>M</td>\n      <td>technician</td>\n      <td>43537</td>\n    </tr>\n    <tr>\n      <th>4</th>\n      <td>5</td>\n      <td>33</td>\n      <td>F</td>\n      <td>other</td>\n      <td>15213</td>\n    </tr>\n  </tbody>\n</table>\n</div>"
     },
     "metadata": {},
     "output_type": "display_data"
    },
    {
     "data": {
      "text/plain": "                 user_id        age gender   occupation     zip_code\ncount              943.0      943.0    NaN          NaN          NaN\nmean               472.0  34.051962    NaN          NaN          NaN\nstd           272.364951   12.19274    NaN          NaN          NaN\nmin                  1.0        7.0    NaN          NaN          NaN\n25%                236.5       25.0    NaN          NaN          NaN\n50%                472.0       31.0    NaN          NaN          NaN\n75%                707.5       43.0    NaN          NaN          NaN\nmax                943.0       73.0    NaN          NaN          NaN\ncounts               943        943    943          943          943\nuniques              943         61      2           21          795\nmissing                0          0      0            0            0\nmissing_perc          0%         0%     0%           0%           0%\ntypes            numeric    numeric   bool  categorical  categorical",
      "text/html": "<div>\n<style scoped>\n    .dataframe tbody tr th:only-of-type {\n        vertical-align: middle;\n    }\n\n    .dataframe tbody tr th {\n        vertical-align: top;\n    }\n\n    .dataframe thead th {\n        text-align: right;\n    }\n</style>\n<table border=\"1\" class=\"dataframe\">\n  <thead>\n    <tr style=\"text-align: right;\">\n      <th></th>\n      <th>user_id</th>\n      <th>age</th>\n      <th>gender</th>\n      <th>occupation</th>\n      <th>zip_code</th>\n    </tr>\n  </thead>\n  <tbody>\n    <tr>\n      <th>count</th>\n      <td>943.0</td>\n      <td>943.0</td>\n      <td>NaN</td>\n      <td>NaN</td>\n      <td>NaN</td>\n    </tr>\n    <tr>\n      <th>mean</th>\n      <td>472.0</td>\n      <td>34.051962</td>\n      <td>NaN</td>\n      <td>NaN</td>\n      <td>NaN</td>\n    </tr>\n    <tr>\n      <th>std</th>\n      <td>272.364951</td>\n      <td>12.19274</td>\n      <td>NaN</td>\n      <td>NaN</td>\n      <td>NaN</td>\n    </tr>\n    <tr>\n      <th>min</th>\n      <td>1.0</td>\n      <td>7.0</td>\n      <td>NaN</td>\n      <td>NaN</td>\n      <td>NaN</td>\n    </tr>\n    <tr>\n      <th>25%</th>\n      <td>236.5</td>\n      <td>25.0</td>\n      <td>NaN</td>\n      <td>NaN</td>\n      <td>NaN</td>\n    </tr>\n    <tr>\n      <th>50%</th>\n      <td>472.0</td>\n      <td>31.0</td>\n      <td>NaN</td>\n      <td>NaN</td>\n      <td>NaN</td>\n    </tr>\n    <tr>\n      <th>75%</th>\n      <td>707.5</td>\n      <td>43.0</td>\n      <td>NaN</td>\n      <td>NaN</td>\n      <td>NaN</td>\n    </tr>\n    <tr>\n      <th>max</th>\n      <td>943.0</td>\n      <td>73.0</td>\n      <td>NaN</td>\n      <td>NaN</td>\n      <td>NaN</td>\n    </tr>\n    <tr>\n      <th>counts</th>\n      <td>943</td>\n      <td>943</td>\n      <td>943</td>\n      <td>943</td>\n      <td>943</td>\n    </tr>\n    <tr>\n      <th>uniques</th>\n      <td>943</td>\n      <td>61</td>\n      <td>2</td>\n      <td>21</td>\n      <td>795</td>\n    </tr>\n    <tr>\n      <th>missing</th>\n      <td>0</td>\n      <td>0</td>\n      <td>0</td>\n      <td>0</td>\n      <td>0</td>\n    </tr>\n    <tr>\n      <th>missing_perc</th>\n      <td>0%</td>\n      <td>0%</td>\n      <td>0%</td>\n      <td>0%</td>\n      <td>0%</td>\n    </tr>\n    <tr>\n      <th>types</th>\n      <td>numeric</td>\n      <td>numeric</td>\n      <td>bool</td>\n      <td>categorical</td>\n      <td>categorical</td>\n    </tr>\n  </tbody>\n</table>\n</div>"
     },
     "metadata": {},
     "output_type": "display_data"
    }
   ],
   "source": [
    "display(user.head())\n",
    "display(DataFrameSummary(user).summary())"
   ],
   "metadata": {
    "collapsed": false
   }
  },
  {
   "cell_type": "markdown",
   "metadata": {},
   "source": [
    "- Mirar counts que todos tienen la misma cantidad\n",
    "- Ninguno tiene missing\n",
    "- Los tipos tambien es interesante observar"
   ]
  },
  {
   "cell_type": "code",
   "execution_count": 9,
   "outputs": [
    {
     "data": {
      "text/plain": "0"
     },
     "execution_count": 9,
     "metadata": {},
     "output_type": "execute_result"
    }
   ],
   "source": [
    "(data['rating'].isna()).sum()"
   ],
   "metadata": {
    "collapsed": false
   }
  },
  {
   "cell_type": "code",
   "execution_count": 10,
   "metadata": {},
   "outputs": [
    {
     "data": {
      "text/plain": "[]"
     },
     "execution_count": 10,
     "metadata": {},
     "output_type": "execute_result"
    }
   ],
   "source": [
    "# Find the missing value\n",
    "item['release_date'].unique()\n",
    "item.index[item[item['release_date']==None].any(axis=1)].tolist()\n",
    "\n",
    "#item.loc[item['release_date'].isna() | (len(item['release_date'])<2), 'release_date']"
   ]
  },
  {
   "cell_type": "code",
   "execution_count": 11,
   "outputs": [
    {
     "data": {
      "text/plain": "M    670\nF    273\nName: gender, dtype: int64"
     },
     "execution_count": 11,
     "metadata": {},
     "output_type": "execute_result"
    }
   ],
   "source": [
    "user['gender'].value_counts()"
   ],
   "metadata": {
    "collapsed": false
   }
  },
  {
   "cell_type": "code",
   "execution_count": 12,
   "outputs": [
    {
     "name": "stdout",
     "output_type": "stream",
     "text": [
      "         movie_id  rating  timestamp\n",
      "user_id                             \n",
      "1             135     135        135\n",
      "5              91      91         91\n",
      "6             110     110        110\n",
      "7             213     213        213\n",
      "10             94      94         94\n"
     ]
    }
   ],
   "source": [
    "# Detect users with lot of votes\n",
    "lotOfVotes = 70\n",
    "\n",
    "rating_amount = data.groupby(\"user_id\").count()\n",
    "print(rating_amount[rating_amount['rating'] > lotOfVotes].head())"
   ],
   "metadata": {
    "collapsed": false
   }
  },
  {
   "cell_type": "code",
   "execution_count": 13,
   "outputs": [
    {
     "data": {
      "text/plain": "1307    1\n1371    1\n1627    1\n1436    1\n1500    1\n1675    1\n1564    1\n1460    1\n1332    1\n1663    1\nName: movie_id, dtype: int64"
     },
     "execution_count": 13,
     "metadata": {},
     "output_type": "execute_result"
    }
   ],
   "source": [
    "# Detect users with few votes\n",
    "data['movie_id'].value_counts().tail(n=10)"
   ],
   "metadata": {
    "collapsed": false
   }
  },
  {
   "cell_type": "code",
   "execution_count": 14,
   "outputs": [
    {
     "name": "stdout",
     "output_type": "stream",
     "text": [
      "User avg rating 4\n",
      "      user_id  movie_id  rating  timestamp\n",
      "2232       36       261       5  882157581\n",
      "2233       36       288       4  882157227\n",
      "2234       36       289       2  882157356\n",
      "2235       36       333       4  882157227\n",
      "2236       36       358       5  882157581\n",
      "2237       36       873       3  882157386\n",
      "2238       36       875       3  882157470\n",
      "2239       36       878       5  882157581\n",
      "2240       36      1026       5  882157581\n"
     ]
    }
   ],
   "source": [
    "#train.groupby(\"userId\")[\"rating\"].transform(\"median\")\n",
    "userId = 36\n",
    "user_training = data[data['user_id'] == userId]\n",
    "print(\"User avg rating\", user_training.groupby(\"user_id\")[\"rating\"].transform(\"mean\").iloc[0])\n",
    "#user_training['user-ranking'].iloc[0]\n",
    "\n",
    "print(data[data['user_id'] == userId])"
   ],
   "metadata": {
    "collapsed": false
   }
  },
  {
   "cell_type": "code",
   "execution_count": 15,
   "outputs": [
    {
     "data": {
      "text/plain": "[1,\n 2,\n 3,\n 4,\n 5,\n 7,\n 8,\n 9,\n 11,\n 13,\n 15,\n 16,\n 18,\n 19,\n 21,\n 22,\n 25,\n 26,\n 28,\n 29,\n 30,\n 32,\n 34,\n 35,\n 37,\n 38,\n 40,\n 41,\n 42,\n 43,\n 45,\n 46,\n 48,\n 50,\n 52,\n 55,\n 57,\n 58,\n 59,\n 63,\n 66,\n 68,\n 71,\n 75,\n 77,\n 79,\n 83,\n 87,\n 88,\n 89,\n 93,\n 94,\n 95,\n 99,\n 101,\n 105,\n 106,\n 109,\n 110,\n 111,\n 115,\n 116,\n 119,\n 122,\n 123,\n 124,\n 126,\n 127,\n 131,\n 133,\n 135,\n 136,\n 137,\n 138,\n 139,\n 141,\n 142,\n 144,\n 146,\n 147,\n 149,\n 152,\n 153,\n 156,\n 158,\n 162,\n 165,\n 166,\n 167,\n 168,\n 169,\n 172,\n 173,\n 176,\n 178,\n 179,\n 181,\n 182,\n 187,\n 191,\n 192,\n 194,\n 195,\n 197,\n 198,\n 199,\n 203,\n 204,\n 205,\n 207,\n 211,\n 216,\n 217,\n 220,\n 223,\n 231,\n 234,\n 237,\n 238,\n 239,\n 240,\n 244,\n 245,\n 246,\n 247,\n 249,\n 251,\n 256,\n 257,\n 261,\n 263,\n 268,\n 269,\n 270,\n 271,\n 1,\n 10,\n 14,\n 25,\n 100,\n 111,\n 127,\n 237,\n 242,\n 255,\n 258,\n 269,\n 272,\n 273,\n 274,\n 275,\n 276,\n 277,\n 278,\n 282,\n 283,\n 284,\n 285,\n 286,\n 287,\n 288,\n 289,\n 291,\n 293,\n 294,\n 295,\n 296,\n 300,\n 302,\n 304,\n 305,\n 306,\n 309,\n 310,\n 311,\n 181,\n 258,\n 260,\n 268,\n 271,\n 288,\n 302,\n 303,\n 317,\n 319,\n 320,\n 321,\n 322,\n 325,\n 326,\n 329,\n 333,\n 336,\n 338,\n 339,\n 340,\n 342,\n 344,\n 346,\n 347,\n 352,\n 353,\n 355,\n 11,\n 210,\n 258,\n 271,\n 300,\n 301,\n 324,\n 327,\n 328,\n 329,\n 358,\n 359,\n 360,\n 362,\n 21,\n 25,\n 29,\n 50,\n 63,\n 66,\n 70,\n 95,\n 99,\n 101,\n 105,\n 121,\n 135,\n 145,\n 151,\n 162,\n 163,\n 168,\n 169,\n 172,\n 174,\n 181,\n 183,\n 186,\n 189,\n 194,\n 200,\n 204,\n 208,\n 210,\n 216,\n 226,\n 228,\n 229,\n 233,\n 235,\n 239,\n 250,\n 257,\n 365,\n 366,\n 367,\n 368,\n 371,\n 373,\n 374,\n 375,\n 378,\n 380,\n 381,\n 383,\n 386,\n 387,\n 390,\n 392,\n 395,\n 396,\n 398,\n 399,\n 401,\n 404,\n 405,\n 406,\n 408,\n 409,\n 412,\n 414,\n 415,\n 416,\n 419,\n 420,\n 425,\n 427,\n 430,\n 431,\n 432,\n 434,\n 437,\n 438,\n 440,\n 442,\n 443,\n 446,\n 447,\n 448,\n 449,\n 450,\n 451,\n 452,\n 455,\n 456,\n 1,\n 7,\n 8,\n 9,\n 12,\n 13,\n 21,\n 22,\n 47,\n 50,\n 64,\n 71,\n 79,\n 89,\n 111,\n 127,\n 132,\n 137,\n 153,\n 165,\n 166,\n 168,\n 169,\n 170,\n 173,\n 174,\n 177,\n 178,\n 182,\n 185,\n 186,\n 191,\n 192,\n 194,\n 200,\n 202,\n 203,\n 216,\n 223,\n 237,\n 242,\n 246,\n 257,\n 259,\n 261,\n 268,\n 272,\n 274,\n 285,\n 293,\n 298,\n 302,\n 303,\n 306,\n 308,\n 309,\n 310,\n 317,\n 321,\n 340,\n 367,\n 405,\n 408,\n 410,\n 419,\n 425,\n 427,\n 435,\n 460,\n 461,\n 462,\n 464,\n 465,\n 468,\n 472,\n 473,\n 474,\n 482,\n 485,\n 489,\n 490,\n 491,\n 493,\n 494,\n 495,\n 496,\n 497,\n 501,\n 502,\n 503,\n 504,\n 505,\n 507,\n 510,\n 512,\n 514,\n 516,\n 519,\n 520,\n 522,\n 527,\n 529,\n 530,\n 531,\n 533,\n 535,\n 536,\n 537,\n 538,\n 539,\n 4,\n 9,\n 11,\n 12,\n 23,\n 25,\n 27,\n 29,\n 31,\n 39,\n 47,\n 50,\n 51,\n 52,\n 56,\n 62,\n 64,\n 68,\n 69,\n 70,\n 71,\n 73,\n 77,\n 80,\n 86,\n 91,\n 96,\n 97,\n 98,\n 99,\n 100,\n 125,\n 132,\n 134,\n 135,\n 140,\n 141,\n 143,\n 144,\n 145,\n 152,\n 157,\n 164,\n 173,\n 175,\n 178,\n 179,\n 180,\n 186,\n 187,\n 192,\n 194,\n 197,\n 198,\n 199,\n 201,\n 202,\n 204,\n 211,\n 213,\n 214,\n 215,\n 216,\n 217,\n 219,\n 229,\n 230,\n 231,\n 234,\n 237,\n 238,\n 258,\n 265,\n 275,\n 286,\n 294,\n 309,\n 317,\n 318,\n 324,\n 341,\n 356,\n 357,\n 365,\n 367,\n 379,\n 380,\n 384,\n 386,\n 387,\n 391,\n 402,\n 403,\n 405,\n 415,\n 416,\n 417,\n 419,\n 421,\n 427,\n 429,\n 433,\n 434,\n 436,\n 440,\n 441,\n 443,\n 444,\n 446,\n 447,\n 449,\n 452,\n 463,\n 465,\n 470,\n 474,\n 487,\n 488,\n 499,\n 502,\n 503,\n 506,\n 507,\n 509,\n 510,\n 513,\n 521,\n 523,\n 527,\n 529,\n 540,\n 544,\n 545,\n 546,\n 547,\n 549,\n 551,\n 552,\n 556,\n 557,\n 558,\n 561,\n 565,\n 566,\n 568,\n 569,\n 571,\n 572,\n 573,\n 574,\n 575,\n 577,\n 578,\n 583,\n 584,\n 585,\n 586,\n 588,\n 590,\n 591,\n 592,\n 593,\n 594,\n 595,\n 596,\n 597,\n 598,\n 600,\n 601,\n 602,\n 603,\n 605,\n 606,\n 607,\n 609,\n 610,\n 611,\n 612,\n 613,\n 615,\n 616,\n 617,\n 620,\n 625,\n 628,\n 629,\n 631,\n 632,\n 634,\n 635,\n 638,\n 639,\n 640,\n 641,\n 646,\n 649,\n 651,\n 652,\n 655,\n 656,\n 660,\n 663,\n 664,\n 665,\n 666,\n 668,\n 670,\n 671,\n 672,\n 677,\n 678,\n 679,\n 682,\n 11,\n 55,\n 82,\n 96,\n 174,\n 177,\n 181,\n 187,\n 195,\n 222,\n 227,\n 228,\n 229,\n 233,\n 241,\n 243,\n 259,\n 260,\n 273,\n 336,\n 341,\n 358,\n 403,\n 431,\n 435,\n 510,\n 518,\n 566,\n 684,\n 688,\n 7,\n 50,\n 201,\n 242,\n 276,\n 294,\n 371,\n 385,\n 402,\n 483,\n 615,\n 690,\n 9,\n 11,\n 12,\n 23,\n 32,\n 33,\n 40,\n 50,\n 59,\n 60,\n 69,\n 70,\n 82,\n 85,\n 93,\n 116,\n 129,\n 134,\n 137,\n 153,\n 157,\n 161,\n 162,\n 170,\n 174,\n 178,\n 179,\n 180,\n 182,\n 185,\n 192,\n 197,\n 198,\n 205,\n 211,\n 216,\n 221,\n 230,\n 238,\n 245,\n 273,\n 274,\n 276,\n 286,\n 302,\n 319,\n 333,\n 334,\n 357,\n 404,\n 414,\n 430,\n 432,\n 462,\n 467,\n 470,\n 478,\n 479,\n 480,\n 482,\n 484,\n 499,\n 502,\n 510,\n 511,\n 513,\n 518,\n 525,\n 527,\n 529,\n 530,\n 531,\n 582,\n 589,\n 602,\n 604,\n 606,\n 610,\n 617,\n 629,\n 654,\n 663,\n 664,\n 686,\n 692,\n 693,\n 694,\n 697,\n 699,\n 700,\n 701,\n 707,\n 708,\n 709,\n 8,\n 11,\n 15,\n 24,\n 25,\n 28,\n 29,\n 39,\n 42,\n 52,\n 54,\n 56,\n 57,\n 58,\n 69,\n 70,\n 79,\n 83,\n 86,\n 88,\n 98,\n 107,\n 121,\n 123,\n 125,\n 168,\n 173,\n 176,\n 180,\n 196,\n 208,\n 211,\n 213,\n 222,\n 228,\n 229,\n 237,\n 238,\n 239,\n 258,\n 259,\n 274,\n 286,\n 290,\n 301,\n 317,\n 318,\n 324,\n 332,\n 356,\n 357,\n 365,\n 367,\n 370,\n 372,\n 382,\n 386,\n 393,\n 399,\n 401,\n 405,\n 414,\n 423,\n 427,\n 430,\n 431,\n 433,\n 434,\n 449,\n 451,\n 504,\n 508,\n 526,\n 527,\n 544,\n 549,\n 577,\n 580,\n 603,\n 646,\n 654,\n 659,\n 662,\n 690,\n 692,\n 699,\n 707,\n 715,\n 716,\n 717,\n 718,\n 719,\n 724,\n 727,\n 728,\n 729,\n 731,\n 737,\n 738,\n 742,\n 745,\n 747,\n 748,\n 749,\n 750,\n 4,\n 69,\n 88,\n 98,\n 127,\n 133,\n 159,\n 161,\n 168,\n 170,\n 174,\n 195,\n 202,\n 203,\n 215,\n 216,\n 228,\n 238,\n 242,\n 328,\n 392,\n 416,\n 480,\n 591,\n 708,\n 1,\n 4,\n 5,\n 7,\n 8,\n 9,\n 12,\n 13,\n 17,\n 22,\n 23,\n 28,\n 32,\n 33,\n 37,\n 38,\n 39,\n 49,\n 50,\n 51,\n 53,\n 58,\n 60,\n 62,\n 67,\n 68,\n 69,\n 70,\n 78,\n 79,\n 82,\n 83,\n 86,\n 87,\n 89,\n 91,\n 92,\n 95,\n 96,\n 99,\n 110,\n 111,\n 116,\n 117,\n 127,\n 128,\n 132,\n 135,\n 138,\n 141,\n 143,\n 145,\n 152,\n 155,\n 157,\n 158,\n 160,\n 163,\n 164,\n 165,\n 166,\n 170,\n 172,\n 174,\n 175,\n 176,\n 177,\n 179,\n 182,\n 183,\n 184,\n 187,\n 188,\n 191,\n 193,\n 194,\n 197,\n 199,\n 200,\n 202,\n 204,\n 205,\n 209,\n 211,\n 216,\n 218,\n 222,\n 223,\n 224,\n 225,\n 227,\n 228,\n 231,\n 233,\n 234,\n 235,\n 237,\n 239,\n 241,\n 242,\n 260,\n 262,\n 264,\n ...]"
     },
     "execution_count": 15,
     "metadata": {},
     "output_type": "execute_result"
    }
   ],
   "source": [
    "data.movie_id.tolist()"
   ],
   "metadata": {
    "collapsed": false
   }
  },
  {
   "cell_type": "code",
   "execution_count": 16,
   "metadata": {},
   "outputs": [
    {
     "name": "stdout",
     "output_type": "stream",
     "text": [
      "date and time = 31/12/2022 09:42:35\n"
     ]
    }
   ],
   "source": [
    "from datetime import datetime\n",
    "\n",
    "# datetime object containing current date and time\n",
    "now = datetime.now()\n",
    "# dd/mm/YY H:M:S\n",
    "dt_string = now.strftime(\"%d/%m/%Y %H:%M:%S\")\n",
    "print(\"date and time =\", dt_string)"
   ]
  },
  {
   "cell_type": "code",
   "execution_count": 16,
   "outputs": [],
   "source": [],
   "metadata": {
    "collapsed": false
   }
  }
 ],
 "metadata": {
  "kernelspec": {
   "display_name": "Python 3",
   "language": "python",
   "name": "python3"
  },
  "language_info": {
   "codemirror_mode": {
    "name": "ipython",
    "version": 3
   },
   "file_extension": ".py",
   "mimetype": "text/x-python",
   "name": "python",
   "nbconvert_exporter": "python",
   "pygments_lexer": "ipython3",
   "version": "3.6.10"
  }
 },
 "nbformat": 4,
 "nbformat_minor": 4
}
