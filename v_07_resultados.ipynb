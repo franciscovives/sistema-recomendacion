{
 "cells": [
  {
   "cell_type": "code",
   "execution_count": 13,
   "metadata": {},
   "outputs": [
    {
     "name": "stdout",
     "output_type": "stream",
     "text": [
      "The autoreload extension is already loaded. To reload it, use:\n",
      "  %reload_ext autoreload\n"
     ]
    }
   ],
   "source": [
    "%load_ext autoreload\n",
    "%autoreload 2"
   ]
  },
  {
   "cell_type": "code",
   "execution_count": 14,
   "outputs": [],
   "source": [
    "# ! pip install pyyaml h5py"
   ],
   "metadata": {
    "collapsed": false
   }
  },
  {
   "cell_type": "markdown",
   "source": [
    "# Estrategia de solucion:\n",
    "A. Armar un conjunto con todas las peliculas que le puede interesar.\n",
    "B. Poner en la red y ver que prediccion de rating da\n",
    "C. Tomar las N que mejor predigan.\n",
    "\n",
    "### A- El conjunto de peliculas base se toma de:\n",
    "1. Peliculas mayor rating (almacenado previamente en top_k_movies.csv)\n",
    "3. Peliculas similares a las que vio y rankeo bien (almacenadas en watched_ranked)\n",
    "4. Peliculas que vio un usuario similar\n",
    "\n",
    "### B- Poner en la red y predecir\n",
    "1. Usar la red hecha en el paso fv_05_Neural_Network.ipyb\n",
    "2. Poner todas las peliculas en el mismo set: movie_idxs\n",
    "3. Preparar todos los parametros de entrada a la red\n",
    "4. Predecir\n",
    "\n",
    "### C- Tomar las N mejores predicciones\n",
    "1. Usar cantidad_recomendaciones\n",
    "2. Ordenar las predicciones por rankin\n",
    "3. No considerar las que ya vio\n",
    "4. Almacenar las recomendaciones en processed/recommended.csv\n",
    "\n",
    "# Parametrizacion\n",
    "* userId: será el usuario del que querramos recomendarle peliculas\n",
    "* cantidad_recomendaciones = 10 peliculas se recomiendan\n",
    "* La fecha de cuando se hace la recomendacion esta basada en la ultima pelicula que se vio de la bd . Se hace la simulacion del dia para que la red pueda inferir diferente dado que como entrada esta el mes. (inputData.timestamp)\n"
   ],
   "metadata": {
    "collapsed": false
   }
  },
  {
   "cell_type": "code",
   "execution_count": 15,
   "outputs": [],
   "source": [
    "# userId = 1: tiene 136 calificaciones, avg: 3.68 - basar en red neuronal para tomar los mejores ratings estimados\n",
    "# userId = 944: usuario sin calificaciones mostrar top_k_movies.csv\n",
    "# userId = 310: usuario con menos de 10 calificaciones - usar movie_embedding, mostrar las peliculas similares y completar con top_k_movies.csv\n",
    "user_id = 310"
   ],
   "metadata": {
    "collapsed": false
   }
  },
  {
   "cell_type": "code",
   "execution_count": 16,
   "outputs": [],
   "source": [
    "# Simulo el dia actual para la recomendacion, porque la red podria inferir diferente dado que como entrada esta el mes.\n",
    "# La fecha esta basada en la ultima pelicula que se vio de la bd\n",
    "recommendation_timestamp = 893286638\n",
    "\n",
    "cantidad_recomendaciones = 10"
   ],
   "metadata": {
    "collapsed": false
   }
  },
  {
   "cell_type": "code",
   "execution_count": 17,
   "outputs": [],
   "source": [
    "recommendations = {\n",
    "    'user_id': [user_id],\n",
    "    'movies': ['']\n",
    "}"
   ],
   "metadata": {
    "collapsed": false
   }
  },
  {
   "cell_type": "code",
   "execution_count": 18,
   "outputs": [],
   "source": [
    "def mostrar_peliculas_delete(peliculas, menos, cantidad=cantidad_recomendaciones):\n",
    "    for movie in peliculas:\n",
    "        if (movie not in menos):\n",
    "            pass\n",
    "    pass\n",
    "\n",
    "def mostrar_peliculas_usuario_delete(usuarios, menos, cantidad=cantidad_recomendaciones):\n",
    "    for user in usuarios:\n",
    "        for movie in user.movies:\n",
    "            pass\n",
    "\n",
    "def mostrar_peliculas_top_delete(menos, cantidad=cantidad_recomendaciones):\n",
    "        print(\"Recomendaciones para el usuario:\\n\")\n",
    "        n, m = top_movies.shape\n",
    "        recommended_movies = \"\"\n",
    "        for i in range(min(n, cantidad_recomendaciones)):\n",
    "            row = top_movies.loc[i]\n",
    "            if (row not in menos):\n",
    "                movie_show = item[item['movie_id'] == row.movie_id]\n",
    "                recommended_movies += str(row.movie_id) + \"/\"\n",
    "                print(i + 1, movie_show.iloc[0].movie_title)\n",
    "                if (cantidad <= i):\n",
    "                    save_recommendations_delete(recommended_movies)\n",
    "\n",
    "def save_recommendations_delete(recommended_movies):\n",
    "        recommendations['movies'] += [recommended_movies]\n",
    "        newRecommendations = pd.DataFrame.from_dict(recommendations)\n",
    "        newRecommendations.to_csv(PATH_PROCESSED + 'recommended.txt', mode='a', index=False, header=False, sep=\"|\")\n"
   ],
   "metadata": {
    "collapsed": false
   }
  },
  {
   "cell_type": "markdown",
   "source": [
    "# Levanto datos de files"
   ],
   "metadata": {
    "collapsed": false
   }
  },
  {
   "cell_type": "code",
   "execution_count": 19,
   "outputs": [],
   "source": [
    "import pandas as pd\n",
    "import numpy as np\n",
    "import sys\n",
    "from datetime import datetime\n",
    "\n",
    "# datetime object containing current date and time\n",
    "start = datetime.now()"
   ],
   "metadata": {
    "collapsed": false
   }
  },
  {
   "cell_type": "code",
   "execution_count": 20,
   "outputs": [],
   "source": [
    "PATH = 'ml-100k/'\n",
    "PATH_PROCESSED='processed/'\n",
    "ratings = pd.read_feather(PATH_PROCESSED + 'joined.fth')"
   ],
   "metadata": {
    "collapsed": false
   }
  },
  {
   "cell_type": "code",
   "execution_count": 21,
   "outputs": [],
   "source": [
    "top_movies = pd.read_csv(PATH_PROCESSED +'top_k_movies.csv', sep=\",\", header=0)"
   ],
   "metadata": {
    "collapsed": false
   }
  },
  {
   "cell_type": "code",
   "execution_count": 22,
   "outputs": [],
   "source": [
    "u_unique = ratings.user_id.unique()\n",
    "user2Idx = {o:i+1 for i,o in enumerate(u_unique)}\n",
    "\n",
    "m_unique = ratings.movie_id.unique()\n",
    "movie2Idx = {o:i+1 for i,o in enumerate(m_unique)}"
   ],
   "metadata": {
    "collapsed": false
   }
  },
  {
   "cell_type": "code",
   "execution_count": 23,
   "outputs": [],
   "source": [
    "ratings.user_id = ratings.user_id.apply(lambda x: user2Idx[x])\n",
    "ratings.movie_id = ratings.movie_id.apply(lambda x: movie2Idx[x])"
   ],
   "metadata": {
    "collapsed": false
   }
  },
  {
   "cell_type": "code",
   "execution_count": 24,
   "outputs": [],
   "source": [
    "PATH_PROCESSED='processed/'\n",
    "PATH = 'dataset/'\n",
    "\n",
    "user, occupation = [pd.read_csv(PATH + fname+'.csv', low_memory=False, sep=\"|\") for fname in ['user', 'occupation']]\n",
    "info, train = [pd.read_csv(PATH + fname+'.csv', low_memory=False, sep=\"\\t\") for fname in ['info', 'train']]\n",
    "test = pd.read_csv(PATH + 'test.csv', low_memory=False, sep=\",\")\n",
    "item = pd.read_csv(PATH + 'item.csv',  low_memory=False, encoding='latin-1', sep=\"|\")\n",
    "\n",
    "item.rename( columns={'movieId' :'movie_id', 'movieTitle' :'movie_title', 'release date' :'release_date', 'video release date' :'video_release_date', 'IMDb URL' :'imdb_url', 'unknown' :'unknown', 'Action' :'action', 'Adventure' :'adventure', 'Animation' :'animation', 'Children\\'s' :'children', 'Comedy' :'comedy', 'Crime' :'crime', 'Documentary' :'documentary', 'Drama' :'drama', 'Fantasy' :'fantasy', 'Film-Noir' :'film-noir', 'Horror' :'horror', 'Musical' :'musical', 'Mystery' :'mystery', 'Romance' :'romance', 'Sci-Fi' :'sci-fi', 'Thriller' :'thriller', 'War' :'war', 'Western' :'western'}, inplace=True)\n",
    "\n",
    "user.rename( columns={'user id' :'user_id', 'age' :'age', 'gender' :'gender', 'occupation' :'occupation', 'zip code' :'zip_code'}, inplace=True)\n",
    "\n",
    "train.rename( columns={'userId' :'user_id', 'movieId' :'movie_id'}, inplace=True)\n",
    "test.rename( columns={'Id' :'id', 'userId' :'user_id', 'movieId' :'movie_id'}, inplace=True)\n",
    "#data = train + test\n",
    "data = train\n",
    "\n",
    "\n",
    "u_unique = data.user_id.unique()\n",
    "user2Idx = {o:i+1 for i,o in enumerate(u_unique)}\n",
    "\n",
    "m_unique = data.movie_id.unique()\n",
    "movie2Idx = {o:i+1 for i,o in enumerate(m_unique)}"
   ],
   "metadata": {
    "collapsed": false
   }
  },
  {
   "cell_type": "markdown",
   "source": [
    "# Extraigo datos del usuario seleccionado"
   ],
   "metadata": {
    "collapsed": false
   }
  },
  {
   "cell_type": "code",
   "execution_count": 25,
   "outputs": [],
   "source": [
    "inputData = user[user['user_id'] == user_id].iloc[0]"
   ],
   "metadata": {
    "collapsed": false
   }
  },
  {
   "cell_type": "markdown",
   "source": [
    "# SOLUCION 1: Caso nuevo usuario"
   ],
   "metadata": {
    "collapsed": false
   }
  },
  {
   "cell_type": "code",
   "execution_count": 26,
   "outputs": [],
   "source": [
    "user_ratings = ratings[ratings['user_id'] == user_id]\n",
    "inputData['rating_mean'] = user_ratings.groupby(\"user_id\")[\"rating\"].transform(\"mean\").iloc[0]\n",
    "inputData['rating_median'] = user_ratings.groupby(\"user_id\")[\"rating\"].transform(\"median\").iloc[0]\n",
    "inputData['rating_count'] = user_ratings.groupby(\"user_id\")[\"rating\"].transform(\"count\").iloc[0]\n",
    "inputData['ageRange'] = user_ratings.ageRange.iloc[0]\n",
    "inputData['occupation'] = user_ratings.occupation.iloc[0]\n",
    "inputData['gender'] = user_ratings.gender.iloc[0]\n",
    "\n",
    "inputData['timestamp'] = 0\n",
    "\n",
    "inputData['movie_id'] = 0\n",
    "genre = ['action', 'adventure', 'animation',\n",
    "         \"children\", 'comedy', 'crime', 'documentary', 'drama', 'fantasy',\n",
    "         'film-noir', 'horror', 'musical', 'mystery', 'romance', 'sci-fi',\n",
    "         'thriller', 'war', 'western']\n",
    "inputData['genre'] = genre\n",
    "inputData['watched'] = user_ratings.movie_id.to_list()\n",
    "inputData['watched_ranked'] = user_ratings[user_ratings['rating'] >= inputData['rating_mean']].movie_id.to_list()\n"
   ],
   "metadata": {
    "collapsed": false
   }
  },
  {
   "cell_type": "code",
   "execution_count": 27,
   "outputs": [],
   "source": [
    "if len(ratings[ratings['user_id'] == user_id]) == 0:\n",
    "    print(\"Usuario sin votaciones\")\n",
    "\n",
    "    print(\"Recomendaciones para el usuario:\\n\")\n",
    "    n,m = top_movies.shape\n",
    "    recommended_movies = \"\"\n",
    "    for i in range(min(n,cantidad_recomendaciones)):\n",
    "        row = top_movies.loc[i]\n",
    "        movie_show = item[item['movie_id'] == row.movie_id]\n",
    "        recommended_movies += str(row.movie_id) + \"/\"\n",
    "        print(i+1,movie_show.iloc[0].movie_title)\n",
    "\n",
    "    recommendations['movies'] = [recommended_movies]\n",
    "    newRecommendations = pd.DataFrame.from_dict(recommendations)\n",
    "    #newRecommendations.to_csv(PATH_PROCESSED + 'recommended.txt', mode='a', index=False, header=False, sep=\"|\")\n",
    "    #sys.exit(0)"
   ],
   "metadata": {
    "collapsed": false
   }
  },
  {
   "cell_type": "markdown",
   "source": [
    "# Preparacion de recomendaciones\n",
    "Levantar la red"
   ],
   "metadata": {
    "collapsed": false
   }
  },
  {
   "cell_type": "code",
   "execution_count": 28,
   "outputs": [],
   "source": [
    "import tensorflow as tf\n",
    "from keras import Model\n",
    "import keras.backend as K\n",
    "def root_mean_squared_error(y_true, y_pred):\n",
    "    return K.sqrt(K.mean(K.square(y_pred - y_true)))"
   ],
   "metadata": {
    "collapsed": false
   }
  },
  {
   "cell_type": "code",
   "execution_count": 29,
   "outputs": [],
   "source": [
    "max_rating = 5\n",
    "min_rating = 1\n",
    "av_rating=3.524453125\n",
    "n_users = int(ratings.user_id.nunique())\n",
    "n_movies = int(ratings.movie_id.nunique())"
   ],
   "metadata": {
    "collapsed": false
   }
  },
  {
   "cell_type": "code",
   "execution_count": 30,
   "outputs": [
    {
     "name": "stdout",
     "output_type": "stream",
     "text": [
      "Model: \"model_1\"\n",
      "__________________________________________________________________________________________________\n",
      " Layer (type)                   Output Shape         Param #     Connected to                     \n",
      "==================================================================================================\n",
      " Item (InputLayer)              [(None, 1)]          0           []                               \n",
      "                                                                                                  \n",
      " User (InputLayer)              [(None, 1)]          0           []                               \n",
      "                                                                                                  \n",
      " gender (InputLayer)            [(None, 1)]          0           []                               \n",
      "                                                                                                  \n",
      " occupation (InputLayer)        [(None, 1)]          0           []                               \n",
      "                                                                                                  \n",
      " age (InputLayer)               [(None, 1)]          0           []                               \n",
      "                                                                                                  \n",
      " Movie-Embedding (Embedding)    (None, 1, 20)        33660       ['Item[0][0]']                   \n",
      "                                                                                                  \n",
      " User-Embedding (Embedding)     (None, 1, 8)         7552        ['User[0][0]']                   \n",
      "                                                                                                  \n",
      " Gender-Embedding (Embedding)   (None, 1, 1)         2           ['gender[0][0]']                 \n",
      "                                                                                                  \n",
      " Occupation-Embedding (Embeddin  (None, 1, 3)        63          ['occupation[0][0]']             \n",
      " g)                                                                                               \n",
      "                                                                                                  \n",
      " Age-Embedding (Embedding)      (None, 1, 3)         21          ['age[0][0]']                    \n",
      "                                                                                                  \n",
      " FlattenMovies (Flatten)        (None, 20)           0           ['Movie-Embedding[0][0]']        \n",
      "                                                                                                  \n",
      " FlattenUsers (Flatten)         (None, 8)            0           ['User-Embedding[0][0]']         \n",
      "                                                                                                  \n",
      " timestamp (InputLayer)         [(None, 1)]          0           []                               \n",
      "                                                                                                  \n",
      " genre (InputLayer)             [(None, 18)]         0           []                               \n",
      "                                                                                                  \n",
      " FlattenGender (Flatten)        (None, 1)            0           ['Gender-Embedding[0][0]']       \n",
      "                                                                                                  \n",
      " FlattenOccupation (Flatten)    (None, 3)            0           ['Occupation-Embedding[0][0]']   \n",
      "                                                                                                  \n",
      " watchReleaseDiff (InputLayer)  [(None, 1)]          0           []                               \n",
      "                                                                                                  \n",
      " FlattenAge (Flatten)           (None, 3)            0           ['Age-Embedding[0][0]']          \n",
      "                                                                                                  \n",
      " ReleaseYear (InputLayer)       [(None, 1)]          0           []                               \n",
      "                                                                                                  \n",
      " Concat (Concatenate)           (None, 56)           0           ['FlattenMovies[0][0]',          \n",
      "                                                                  'FlattenUsers[0][0]',           \n",
      "                                                                  'timestamp[0][0]',              \n",
      "                                                                  'genre[0][0]',                  \n",
      "                                                                  'FlattenGender[0][0]',          \n",
      "                                                                  'FlattenOccupation[0][0]',      \n",
      "                                                                  'watchReleaseDiff[0][0]',       \n",
      "                                                                  'FlattenAge[0][0]',             \n",
      "                                                                  'ReleaseYear[0][0]']            \n",
      "                                                                                                  \n",
      " dropout_3 (Dropout)            (None, 56)           0           ['Concat[0][0]']                 \n",
      "                                                                                                  \n",
      " FullyConnected-1 (Dense)       (None, 50)           2850        ['dropout_3[0][0]']              \n",
      "                                                                                                  \n",
      " dropout_4 (Dropout)            (None, 50)           0           ['FullyConnected-1[0][0]']       \n",
      "                                                                                                  \n",
      " FullyConnected-2 (Dense)       (None, 50)           2550        ['dropout_4[0][0]']              \n",
      "                                                                                                  \n",
      " dropout_5 (Dropout)            (None, 50)           0           ['FullyConnected-2[0][0]']       \n",
      "                                                                                                  \n",
      " Activation (Dense)             (None, 1)            51          ['dropout_5[0][0]']              \n",
      "                                                                                                  \n",
      " lambda_1 (Lambda)              (None, 1)            0           ['Activation[0][0]']             \n",
      "                                                                                                  \n",
      "==================================================================================================\n",
      "Total params: 46,749\n",
      "Trainable params: 46,749\n",
      "Non-trainable params: 0\n",
      "__________________________________________________________________________________________________\n"
     ]
    }
   ],
   "source": [
    "model = tf.keras.models.load_model(PATH_PROCESSED + 'fv_model.h5', custom_objects={\"root_mean_squared_error\": root_mean_squared_error })\n",
    "#model.load_weights(PATH_PROCESSED + 'fv_weights.hdf5')\n",
    "model.summary()"
   ],
   "metadata": {
    "collapsed": false
   }
  },
  {
   "cell_type": "code",
   "execution_count": 31,
   "metadata": {},
   "outputs": [],
   "source": [
    "model.compile('adam', loss= 'mean_squared_error', metrics=[root_mean_squared_error])"
   ]
  },
  {
   "cell_type": "markdown",
   "metadata": {},
   "source": [
    "# Obtengo embeddings"
   ]
  },
  {
   "cell_type": "code",
   "execution_count": 32,
   "metadata": {},
   "outputs": [
    {
     "data": {
      "text/plain": "('Movie-Embedding', 'User-Embedding')"
     },
     "execution_count": 32,
     "metadata": {},
     "output_type": "execute_result"
    }
   ],
   "source": [
    "movie_embeddings_layer = model.layers[5]\n",
    "user_embeddings_layer = model.layers[6]\n",
    "movie_embeddings_layer.name, user_embeddings_layer.name"
   ]
  },
  {
   "cell_type": "code",
   "execution_count": 33,
   "metadata": {},
   "outputs": [
    {
     "data": {
      "text/plain": "((1683, 20), (944, 8))"
     },
     "execution_count": 33,
     "metadata": {},
     "output_type": "execute_result"
    }
   ],
   "source": [
    "movie_embeddings_matrix = movie_embeddings_layer.get_weights()[0]\n",
    "user_embeddings_matrix = user_embeddings_layer.get_weights()[0]\n",
    "movie_embeddings_matrix.shape, user_embeddings_matrix.shape"
   ]
  },
  {
   "cell_type": "code",
   "execution_count": 34,
   "metadata": {},
   "outputs": [
    {
     "data": {
      "text/plain": "array([[ 2.19576350e-32, -1.62225068e-32, -1.25207722e-32, ...,\n        -2.04252708e-32, -6.93971722e-32, -4.33982853e-33],\n       [ 2.25388141e-32,  6.86170730e-33,  6.28750255e-34, ...,\n         2.11964421e-32, -6.40716597e-32,  1.00525485e-32],\n       [-2.14986911e-32,  1.42217419e-32, -1.89437850e-32, ...,\n         1.02486886e-32,  1.56902753e-32,  1.00575267e-32],\n       ...,\n       [ 1.08453613e-02, -8.05182476e-03,  3.20736915e-02, ...,\n        -3.10995691e-02, -8.06206279e-03,  2.17886306e-02],\n       [ 6.05563037e-02, -4.19338271e-02,  7.03833029e-02, ...,\n        -6.24318309e-02, -5.77787384e-02,  6.85254335e-02],\n       [ 2.28106715e-02, -9.83318314e-03,  1.00313732e-02, ...,\n         2.23245677e-02,  1.23228310e-02, -1.78704169e-02]], dtype=float32)"
     },
     "execution_count": 34,
     "metadata": {},
     "output_type": "execute_result"
    }
   ],
   "source": [
    "user_embeddings_matrix"
   ]
  },
  {
   "cell_type": "code",
   "execution_count": 35,
   "metadata": {},
   "outputs": [
    {
     "data": {
      "text/plain": "array([[-0.00923054, -0.04325443, -0.00411074,  0.00241773, -0.00786701,\n         0.04989532, -0.0167722 , -0.00253602,  0.01196022,  0.06542718,\n         0.00255265,  0.01099029, -0.03162089,  0.02188444,  0.03408203,\n        -0.0629614 , -0.027903  ,  0.01207565,  0.00351955,  0.02993242],\n       [ 0.00346067, -0.0090881 ,  0.00779559,  0.00500195,  0.00567791,\n         0.01018028, -0.00224234, -0.00051738,  0.00885171,  0.01310112,\n        -0.00797035,  0.00164361, -0.02838109, -0.00228153,  0.00907109,\n         0.00523848, -0.00493635, -0.00440257,  0.0044716 ,  0.02011755]],\n      dtype=float32)"
     },
     "execution_count": 35,
     "metadata": {},
     "output_type": "execute_result"
    }
   ],
   "source": [
    "movie_embeddings_matrix[1:3]"
   ]
  },
  {
   "cell_type": "markdown",
   "source": [
    "# Usuarios Similares\n",
    "\n",
    "Esto sirve si el usuario no tiene peliculas vistas o para completar"
   ],
   "metadata": {
    "collapsed": false
   }
  },
  {
   "cell_type": "code",
   "execution_count": 36,
   "outputs": [],
   "source": [
    "from sklearn.neighbors import NearestNeighbors\n",
    "suggestions_count=30"
   ],
   "metadata": {
    "collapsed": false
   }
  },
  {
   "cell_type": "code",
   "execution_count": 37,
   "outputs": [
    {
     "data": {
      "text/plain": "(array([[0.        , 0.02622306, 0.02708387, 0.0359835 , 0.03948975,\n         0.04243946, 0.04597127, 0.04630256, 0.0472126 , 0.05097091,\n         0.05169976, 0.05982661, 0.06428862, 0.06639254, 0.06690037,\n         0.06780797, 0.06904942, 0.06915396, 0.07092977, 0.07104754,\n         0.07105756, 0.0733754 , 0.07404542, 0.08057833, 0.08188099,\n         0.08316839, 0.08714199, 0.08715987, 0.08730149, 0.08803898]],\n       dtype=float32),\n array([[310, 933, 735, 652, 865, 685, 609, 526, 724, 900, 913, 490, 578,\n         833, 435, 869, 852, 635, 797, 773, 380, 509, 430, 405, 538, 937,\n         452, 702, 731, 601]]))"
     },
     "execution_count": 37,
     "metadata": {},
     "output_type": "execute_result"
    }
   ],
   "source": [
    "nbrs_user = NearestNeighbors(n_neighbors=suggestions_count, metric='cosine').fit(user_embeddings_matrix)\n",
    "neighbors_users = nbrs_user.kneighbors([user_embeddings_matrix[user_id]])\n",
    "neighbors_users"
   ],
   "metadata": {
    "collapsed": false
   }
  },
  {
   "cell_type": "code",
   "execution_count": 38,
   "outputs": [
    {
     "data": {
      "text/plain": "[34,\n 973,\n 1,\n 4,\n 6,\n 8,\n 9,\n 270,\n 16,\n 19,\n 328,\n 34,\n 35,\n 330,\n 38,\n 272,\n 332,\n 749,\n 333,\n 46,\n 464,\n 48,\n 49,\n 50,\n 53,\n 339,\n 138,\n 202,\n 340,\n 68,\n 273,\n 71,\n 78,\n 204,\n 83,\n 84,\n 344,\n 538,\n 548,\n 88,\n 90,\n 93,\n 206,\n 346,\n 94,\n 275,\n 96,\n 347,\n 98,\n 207,\n 208,\n 99,\n 551,\n 102,\n 103,\n 507,\n 210,\n 108,\n 192,\n 111,\n 350,\n 351,\n 112,\n 553,\n 213,\n 353,\n 117,\n 120,\n 354,\n 143,\n 149,\n 172,\n 355,\n 358,\n 220,\n 472,\n 233,\n 237,\n 363,\n 240,\n 281,\n 282,\n 482,\n 372,\n 576,\n 291,\n 473,\n 515,\n 579,\n 380,\n 392,\n 404,\n 447,\n 448,\n 492,\n 606,\n 762,\n 611,\n 620,\n 634,\n 809,\n 835,\n 1070,\n 1330,\n 1,\n 6,\n 8,\n 10,\n 17,\n 34,\n 57,\n 545,\n 65,\n 66,\n 67,\n 68,\n 97,\n 118,\n 139,\n 123,\n 141,\n 133,\n 145,\n 146,\n 147,\n 152,\n 153,\n 155,\n 158,\n 279,\n 162,\n 193,\n 164,\n 173,\n 175,\n 195,\n 984,\n 509,\n 180,\n 577,\n 579,\n 435,\n 721,\n 474,\n 957,\n 535,\n 890,\n 651,\n 337,\n 123,\n 145,\n 149,\n 153,\n 162,\n 562,\n 565,\n 196,\n 180,\n 234,\n 323,\n 498,\n 535,\n 685,\n 6,\n 504,\n 336,\n 138,\n 64,\n 781,\n 91,\n 209,\n 123,\n 141,\n 132,\n 159,\n 163,\n 196,\n 242,\n 268,\n 290,\n 577,\n 385,\n 978,\n 957,\n 969,\n 713,\n 958,\n 1095,\n 133,\n 163,\n 194,\n 177,\n 841,\n 688,\n 11,\n 340,\n 141,\n 152,\n 154,\n 164,\n 563,\n 242,\n 537,\n 791,\n 1,\n 6,\n 34,\n 138,\n 65,\n 68,\n 80,\n 97,\n 718,\n 141,\n 133,\n 134,\n 135,\n 142,\n 146,\n 149,\n 150,\n 152,\n 155,\n 158,\n 159,\n 279,\n 163,\n 563,\n 839,\n 177,\n 984,\n 180,\n 867,\n 187,\n 242,\n 577,\n 515,\n 410,\n 721,\n 474,\n 532,\n 537,\n 670,\n 841,\n 685,\n 691,\n 713,\n 732,\n 823,\n 932,\n 141,\n 557,\n 132,\n 133,\n 142,\n 155,\n 159,\n 162,\n 193,\n 163,\n 164,\n 165,\n 562,\n 168,\n 563,\n 178,\n 195,\n 196,\n 179,\n 984,\n 509,\n 180,\n 182,\n 185,\n 188,\n 536,\n 684,\n 686,\n 780,\n 694,\n 695,\n 849,\n 733,\n 1193,\n 138,\n 66,\n 478,\n 73,\n 207,\n 109,\n 118,\n 159,\n 355,\n 240,\n 291,\n 485,\n 473,\n 515,\n 490,\n 939,\n 595,\n 4,\n 6,\n 8,\n 9,\n 270,\n 11,\n 14,\n 16,\n 17,\n 19,\n 29,\n 34,\n 330,\n 37,\n 38,\n 476,\n 272,\n 46,\n 464,\n 47,\n 50,\n 544,\n 53,\n 337,\n 339,\n 54,\n 138,\n 68,\n 69,\n 273,\n 343,\n 78,\n 204,\n 84,\n 90,\n 91,\n 818,\n 92,\n 93,\n 206,\n 346,\n 94,\n 96,\n 347,\n 97,\n 207,\n 549,\n 276,\n 208,\n 209,\n 100,\n 103,\n 210,\n 277,\n 107,\n 108,\n 112,\n 465,\n 213,\n 117,\n 118,\n 119,\n 141,\n 354,\n 133,\n 143,\n 146,\n 156,\n 163,\n 168,\n 172,\n 355,\n 187,\n 358,\n 242,\n 752,\n 248,\n 514,\n 251,\n 710,\n 254,\n 368,\n 284,\n 285,\n 937,\n 734,\n 291,\n 577,\n 483,\n 1002,\n 473,\n 736,\n 515,\n 469,\n 315,\n 408,\n 421,\n 429,\n 449,\n 450,\n 594,\n 474,\n 528,\n 916,\n 532,\n 534,\n 537,\n 634,\n 713,\n 775,\n 1,\n 6,\n 8,\n 504,\n 34,\n 51,\n 138,\n 58,\n 66,\n 68,\n 73,\n 745,\n 97,\n 465,\n 129,\n 147,\n 151,\n 560,\n 279,\n 163,\n 180,\n 281,\n 268,\n 827,\n 577,\n 579,\n 385,\n 916,\n 969,\n 713,\n 801,\n 832,\n 996,\n 1394,\n 465,\n 123,\n 155,\n 159,\n 279,\n 162,\n 563,\n 565,\n 187,\n 227,\n 461,\n 612,\n 857,\n 1126,\n 4,\n 6,\n 9,\n 270,\n 16,\n 325,\n 504,\n 19,\n 21,\n 22,\n 271,\n 35,\n 36,\n 330,\n 272,\n 542,\n 42,\n 46,\n 50,\n 51,\n 337,\n 339,\n 138,\n 68,\n 546,\n 478,\n 341,\n 71,\n 78,\n 745,\n 204,\n 83,\n 817,\n 84,\n 548,\n 205,\n 90,\n 346,\n 275,\n 96,\n 347,\n 98,\n 207,\n 549,\n 276,\n 99,\n 550,\n 100,\n 101,\n 102,\n 103,\n 104,\n 105,\n 210,\n 348,\n 277,\n 107,\n 109,\n 1341,\n 211,\n 552,\n 111,\n 553,\n 352,\n 115,\n 212,\n 117,\n 216,\n 121,\n 217,\n 135,\n 143,\n 157,\n 158,\n 279,\n 163,\n 174,\n 194,\n 177,\n 184,\n 186,\n 187,\n 188,\n 358,\n 220,\n 226,\n 228,\n 360,\n 472,\n 235,\n 240,\n 281,\n 251,\n 366,\n 252,\n 254,\n 367,\n 255,\n 260,\n 370,\n 574,\n 262,\n 263,\n 268,\n 291,\n 577,\n 473,\n 374,\n 305,\n 515,\n 487,\n 309,\n 579,\n 469,\n 379,\n 380,\n 516,\n 388,\n 391,\n 586,\n 490,\n 431,\n 435,\n 590,\n 443,\n 444,\n 737,\n 928,\n 445,\n 592,\n 446,\n 1306,\n 492,\n 450,\n 594,\n 452,\n 453,\n 454,\n 458,\n 854,\n 599,\n 462,\n 470,\n 1111,\n 929,\n 532,\n 533,\n 648,\n 787,\n 1446,\n 716,\n 729,\n 1182,\n 740,\n 796,\n 832,\n 835,\n 838,\n 931,\n 904,\n 1020,\n 1304,\n 1305,\n 989,\n 1199,\n 1064,\n 1084,\n 1223,\n 1394,\n 1347,\n 1278,\n 1511,\n 1585,\n 1,\n 2,\n 3,\n 6,\n 7,\n 8,\n 136,\n 9,\n 270,\n 11,\n 15,\n 16,\n 325,\n 504,\n 17,\n 19,\n 20,\n 327,\n 475,\n 328,\n 27,\n 29,\n 31,\n 540,\n 34,\n 35,\n 541,\n 505,\n 36,\n 330,\n 38,\n 331,\n 272,\n 542,\n 42,\n 332,\n 43,\n 749,\n 333,\n 955,\n 46,\n 709,\n 464,\n 47,\n 477,\n 335,\n 50,\n 888,\n 336,\n 53,\n 337,\n 339,\n 138,\n 55,\n 56,\n 58,\n 60,\n 545,\n 202,\n 64,\n 340,\n 68,\n 546,\n 273,\n 71,\n 72,\n 78,\n 781,\n 204,\n 82,\n 83,\n 817,\n 547,\n 84,\n 344,\n 538,\n 479,\n 205,\n 89,\n 90,\n 91,\n 818,\n 92,\n 206,\n 346,\n 94,\n 275,\n 96,\n 97,\n 98,\n 207,\n 549,\n 208,\n 99,\n 889,\n 100,\n 551,\n 102,\n 103,\n 507,\n 106,\n 210,\n 348,\n 277,\n 107,\n 108,\n 1341,\n 211,\n 192,\n 111,\n 350,\n 112,\n 553,\n 352,\n 465,\n 555,\n 212,\n 466,\n 213,\n 353,\n 216,\n 120,\n 124,\n 126,\n 217,\n 880,\n 140,\n 129,\n 141,\n 170,\n 557,\n 354,\n 132,\n 135,\n 155,\n 508,\n 157,\n 159,\n 279,\n 562,\n 563,\n 355,\n 175,\n 195,\n 984,\n 180,\n 867,\n 881,\n 358,\n 197,\n 220,\n 228,\n 512,\n 360,\n 472,\n 233,\n 568,\n 237,\n 238,\n 362,\n 363,\n 240,\n 241,\n 243,\n 281,\n 570,\n 244,\n 249,\n 251,\n 252,\n 254,\n 367,\n 282,\n 368,\n 369,\n 370,\n 262,\n 263,\n 266,\n 268,\n 290,\n 291,\n 735,\n 484,\n 300,\n 302,\n 313,\n 315,\n 580,\n 384,\n 386,\n 581,\n 584,\n 1178,\n 394,\n 785,\n 396,\n 402,\n 403,\n 405,\n 406,\n 1066,\n 408,\n 415,\n 416,\n 421,\n 425,\n 757,\n 440,\n 590,\n 591,\n 443,\n 446,\n 871,\n 518,\n 454,\n 854,\n 462,\n 470,\n 497,\n 503,\n 926,\n 819,\n 520,\n 522,\n 1034,\n 605,\n 606,\n 532,\n 1055,\n 535,\n 612,\n 1141,\n 619,\n 620,\n 623,\n 631,\n 764,\n 1067,\n 635,\n 637,\n 641,\n 644,\n 658,\n 664,\n 670,\n 1086,\n 695,\n 713,\n 874,\n 725,\n 727,\n 728,\n 740,\n 942,\n 857,\n 869,\n 972,\n 877,\n 1195,\n 903,\n 1004,\n 1327,\n 1049,\n 1162,\n 1076,\n 1095,\n 1272,\n 1248,\n 1470,\n 10,\n 34,\n 138,\n 62,\n 64,\n 340,\n 68,\n 204,\n 97,\n 118,\n 121,\n 126,\n 1113,\n 133,\n 145,\n 146,\n 149,\n 155,\n 159,\n 279,\n 168,\n 839,\n 570,\n 244,\n 579,\n 415,\n 834,\n 1235,\n 1,\n 6,\n 17,\n 34,\n 138,\n 58,\n 545,\n 717,\n 202,\n 68,\n 204,\n 97,\n 216,\n 217,\n 719,\n 129,\n 278,\n 170,\n 557,\n 144,\n 508,\n 565,\n 197,\n 240,\n 1097,\n 242,\n 289,\n 290,\n 376,\n 579,\n 384,\n 395,\n 416,\n 461,\n 855,\n 978,\n 712,\n 658,\n 659,\n 809,\n 668,\n 725,\n 728,\n 777,\n 884,\n 1,\n 11,\n 745,\n 118,\n 124,\n 140,\n 556,\n 132,\n 133,\n 146,\n 159,\n 162,\n 193,\n 163,\n 562,\n 565,\n 195,\n 196,\n 984,\n 180,\n 532,\n 684,\n 789,\n 791,\n 685,\n ...]"
     },
     "execution_count": 38,
     "metadata": {},
     "output_type": "execute_result"
    }
   ],
   "source": [
    "# Tomo las peliculas de usuarios similares que tengan mayor ranking que el promedio\n",
    "recommended_movies_similar_users = []\n",
    "for usr in neighbors_users[1][0]:\n",
    "    selected_ratings = ratings[(ratings['user_id'] == usr) & (ratings['rating'] >= inputData['rating_mean'])]\n",
    "    recommended_movies_similar_users += selected_ratings.movie_id.to_list()\n",
    "recommended_movies_similar_users"
   ],
   "metadata": {
    "collapsed": false
   }
  },
  {
   "cell_type": "markdown",
   "source": [
    "# Peliculas Similares\n",
    "\n",
    "Puede servir si el usuario tiene pocas peliculas vistas. Basadas en las que vio"
   ],
   "metadata": {
    "collapsed": false
   }
  },
  {
   "cell_type": "markdown",
   "source": [
    "### Nearest Neighbors"
   ],
   "metadata": {
    "collapsed": false
   }
  },
  {
   "cell_type": "code",
   "execution_count": 39,
   "metadata": {},
   "outputs": [],
   "source": [
    "nbrs_movies = NearestNeighbors(n_neighbors=suggestions_count, metric='cosine').fit(movie_embeddings_matrix)"
   ]
  },
  {
   "cell_type": "code",
   "execution_count": 40,
   "metadata": {},
   "outputs": [],
   "source": [
    "neighbors_movies = nbrs_movies.kneighbors([movie_embeddings_matrix[2]]) # movie_id?"
   ]
  },
  {
   "cell_type": "code",
   "execution_count": 41,
   "metadata": {},
   "outputs": [
    {
     "data": {
      "text/plain": "[34,\n 503,\n 62,\n 355,\n 766,\n 306,\n 741,\n 920,\n 358,\n 981,\n 90,\n 485,\n 105,\n 775,\n 579,\n 894,\n 473,\n 207,\n 869,\n 31,\n 270,\n 115,\n 129,\n 765,\n 427,\n 95,\n 272,\n 711,\n 211,\n 483,\n 973,\n 88,\n 421,\n 1331,\n 273,\n 251,\n 21,\n 115,\n 1236,\n 91,\n 741,\n 981,\n 485,\n 501,\n 31,\n 716,\n 355,\n 1358,\n 306,\n 920,\n 354,\n 242,\n 378,\n 66,\n 563,\n 889,\n 207,\n 758,\n 7,\n 90]"
     },
     "execution_count": 41,
     "metadata": {},
     "output_type": "execute_result"
    }
   ],
   "source": [
    "# Tomo las peliculas similares a las que vio con buen promedio\n",
    "recommended_movies_similar_watched = []\n",
    "\n",
    "for watched_movie_id in inputData.watched_ranked:\n",
    "    for mov in nbrs_movies.kneighbors([movie_embeddings_matrix[watched_movie_id]])[1][0]:\n",
    "        recommended_movies_similar_watched += [mov]\n",
    "recommended_movies_similar_watched"
   ]
  },
  {
   "cell_type": "markdown",
   "metadata": {},
   "source": [
    "# Preparar input de la red con peliculas a sugerir"
   ]
  },
  {
   "cell_type": "code",
   "execution_count": 42,
   "outputs": [
    {
     "data": {
      "text/plain": "{1,\n 2,\n 3,\n 4,\n 5,\n 6,\n 7,\n 8,\n 9,\n 10,\n 11,\n 12,\n 14,\n 15,\n 16,\n 17,\n 18,\n 19,\n 20,\n 21,\n 22,\n 25,\n 26,\n 27,\n 29,\n 31,\n 33,\n 34,\n 35,\n 36,\n 37,\n 38,\n 39,\n 40,\n 41,\n 42,\n 43,\n 45,\n 46,\n 47,\n 48,\n 49,\n 50,\n 51,\n 52,\n 53,\n 54,\n 55,\n 56,\n 57,\n 58,\n 60,\n 62,\n 64,\n 65,\n 66,\n 67,\n 68,\n 69,\n 70,\n 71,\n 72,\n 73,\n 75,\n 76,\n 78,\n 80,\n 82,\n 83,\n 84,\n 86,\n 87,\n 88,\n 89,\n 90,\n 91,\n 92,\n 93,\n 94,\n 95,\n 96,\n 97,\n 98,\n 99,\n 100,\n 101,\n 102,\n 103,\n 104,\n 105,\n 106,\n 107,\n 108,\n 109,\n 110,\n 111,\n 112,\n 113,\n 115,\n 116,\n 117,\n 118,\n 119,\n 120,\n 121,\n 123,\n 124,\n 126,\n 127,\n 129,\n 132,\n 133,\n 134,\n 135,\n 136,\n 137,\n 138,\n 139,\n 140,\n 141,\n 142,\n 143,\n 144,\n 145,\n 146,\n 147,\n 149,\n 150,\n 151,\n 152,\n 153,\n 154,\n 155,\n 156,\n 157,\n 158,\n 159,\n 160,\n 162,\n 163,\n 164,\n 165,\n 166,\n 167,\n 168,\n 169,\n 170,\n 171,\n 172,\n 173,\n 174,\n 175,\n 177,\n 178,\n 179,\n 180,\n 182,\n 184,\n 185,\n 186,\n 187,\n 188,\n 192,\n 193,\n 194,\n 195,\n 196,\n 197,\n 201,\n 202,\n 203,\n 204,\n 205,\n 206,\n 207,\n 208,\n 209,\n 210,\n 211,\n 212,\n 213,\n 214,\n 216,\n 217,\n 218,\n 220,\n 222,\n 226,\n 227,\n 228,\n 230,\n 231,\n 233,\n 234,\n 235,\n 237,\n 238,\n 239,\n 240,\n 241,\n 242,\n 243,\n 244,\n 247,\n 248,\n 249,\n 250,\n 251,\n 252,\n 253,\n 254,\n 255,\n 260,\n 262,\n 263,\n 264,\n 266,\n 267,\n 268,\n 270,\n 271,\n 272,\n 273,\n 274,\n 275,\n 276,\n 277,\n 278,\n 279,\n 281,\n 282,\n 284,\n 285,\n 287,\n 288,\n 289,\n 290,\n 291,\n 292,\n 293,\n 295,\n 296,\n 298,\n 300,\n 302,\n 305,\n 306,\n 307,\n 308,\n 309,\n 310,\n 311,\n 313,\n 314,\n 315,\n 316,\n 317,\n 318,\n 323,\n 325,\n 326,\n 327,\n 328,\n 330,\n 331,\n 332,\n 333,\n 335,\n 336,\n 337,\n 338,\n 339,\n 340,\n 341,\n 342,\n 343,\n 344,\n 345,\n 346,\n 347,\n 348,\n 349,\n 350,\n 351,\n 352,\n 353,\n 354,\n 355,\n 357,\n 358,\n 360,\n 362,\n 363,\n 366,\n 367,\n 368,\n 369,\n 370,\n 371,\n 372,\n 373,\n 374,\n 376,\n 377,\n 378,\n 379,\n 380,\n 384,\n 385,\n 386,\n 388,\n 391,\n 392,\n 394,\n 395,\n 396,\n 397,\n 399,\n 402,\n 403,\n 404,\n 405,\n 406,\n 407,\n 408,\n 410,\n 415,\n 416,\n 421,\n 423,\n 424,\n 425,\n 427,\n 429,\n 430,\n 431,\n 434,\n 435,\n 437,\n 440,\n 442,\n 443,\n 444,\n 445,\n 446,\n 447,\n 448,\n 449,\n 450,\n 451,\n 452,\n 453,\n 454,\n 458,\n 461,\n 462,\n 464,\n 465,\n 466,\n 467,\n 468,\n 469,\n 470,\n 472,\n 473,\n 474,\n 475,\n 476,\n 477,\n 478,\n 479,\n 480,\n 482,\n 483,\n 484,\n 485,\n 486,\n 487,\n 489,\n 490,\n 492,\n 494,\n 496,\n 497,\n 498,\n 501,\n 502,\n 503,\n 504,\n 505,\n 506,\n 507,\n 508,\n 509,\n 512,\n 513,\n 514,\n 515,\n 516,\n 518,\n 519,\n 520,\n 522,\n 527,\n 528,\n 529,\n 530,\n 532,\n 533,\n 534,\n 535,\n 536,\n 537,\n 538,\n 540,\n 541,\n 542,\n 544,\n 545,\n 546,\n 547,\n 548,\n 549,\n 550,\n 551,\n 552,\n 553,\n 554,\n 555,\n 556,\n 557,\n 560,\n 562,\n 563,\n 565,\n 568,\n 570,\n 574,\n 575,\n 576,\n 577,\n 578,\n 579,\n 580,\n 581,\n 583,\n 584,\n 586,\n 590,\n 591,\n 592,\n 594,\n 595,\n 598,\n 599,\n 604,\n 605,\n 606,\n 608,\n 610,\n 611,\n 612,\n 619,\n 620,\n 623,\n 625,\n 631,\n 634,\n 635,\n 637,\n 640,\n 641,\n 644,\n 648,\n 651,\n 658,\n 659,\n 664,\n 668,\n 670,\n 678,\n 684,\n 685,\n 686,\n 688,\n 691,\n 694,\n 695,\n 709,\n 710,\n 711,\n 712,\n 713,\n 715,\n 716,\n 717,\n 718,\n 719,\n 720,\n 721,\n 725,\n 727,\n 728,\n 729,\n 732,\n 733,\n 734,\n 735,\n 736,\n 737,\n 738,\n 740,\n 741,\n 743,\n 745,\n 746,\n 747,\n 748,\n 749,\n 751,\n 752,\n 753,\n 754,\n 755,\n 756,\n 757,\n 758,\n 762,\n 764,\n 765,\n 766,\n 767,\n 770,\n 772,\n 773,\n 775,\n 777,\n 780,\n 781,\n 785,\n 787,\n 789,\n 791,\n 796,\n 801,\n 809,\n 817,\n 818,\n 819,\n 820,\n 823,\n 827,\n 832,\n 834,\n 835,\n 838,\n 839,\n 841,\n 843,\n 845,\n 849,\n 850,\n 854,\n 855,\n 857,\n 864,\n 865,\n 867,\n 869,\n 871,\n 872,\n 874,\n 877,\n 880,\n 881,\n 884,\n 886,\n 888,\n 889,\n 890,\n 893,\n 894,\n 895,\n 900,\n 903,\n 904,\n 907,\n 910,\n 915,\n 916,\n 917,\n 920,\n 921,\n 922,\n 923,\n 926,\n 928,\n 929,\n 931,\n 932,\n 934,\n 937,\n 938,\n 939,\n 941,\n 942,\n 949,\n 955,\n 957,\n 958,\n 969,\n 971,\n 972,\n 973,\n 978,\n 981,\n 984,\n 989,\n 996,\n 998,\n 1002,\n 1004,\n 1005,\n 1008,\n 1015,\n 1016,\n 1020,\n 1034,\n 1037,\n 1039,\n 1040,\n 1049,\n 1054,\n 1055,\n 1064,\n 1066,\n 1067,\n 1070,\n 1071,\n 1072,\n 1076,\n 1080,\n 1081,\n 1084,\n 1086,\n 1095,\n 1097,\n 1104,\n 1111,\n 1113,\n 1114,\n 1122,\n 1126,\n 1131,\n 1132,\n 1138,\n 1141,\n 1162,\n 1178,\n 1182,\n 1189,\n 1193,\n 1195,\n 1199,\n 1200,\n 1201,\n 1223,\n 1235,\n 1236,\n 1248,\n 1252,\n 1272,\n 1278,\n 1293,\n 1304,\n 1305,\n 1306,\n 1307,\n 1327,\n 1330,\n 1331,\n 1340,\n 1341,\n 1347,\n 1358,\n 1367,\n 1374,\n 1394,\n 1446,\n 1449,\n 1462,\n 1467,\n 1470,\n 1500,\n 1507,\n 1511,\n 1522,\n 1547,\n 1548,\n 1572,\n 1585,\n 1594,\n 1599,\n 1642,\n 1653}"
     },
     "execution_count": 42,
     "metadata": {},
     "output_type": "execute_result"
    }
   ],
   "source": [
    "# No se usaran todas las peliculas para recomendar, asi acortamos el unierso\n",
    "#all_movie_idxs = np.linspace(1, ratings.movie_id.max(), n_movies, dtype=int)\n",
    "\n",
    "# Unimos las distintas peliculas a recomendar\n",
    "all_movie_idxs = recommended_movies_similar_watched + recommended_movies_similar_users + top_movies.movie_id.to_list()\n",
    "all_movie_idxs = set(all_movie_idxs)\n",
    "n_movies = len(all_movie_idxs)\n",
    "all_movie_idxs"
   ],
   "metadata": {
    "collapsed": false
   }
  },
  {
   "cell_type": "code",
   "execution_count": 43,
   "outputs": [],
   "source": [
    "# Preparar la entrada a la red: Datos de pelicula\n",
    "releaseYears = []\n",
    "watchedReleaseDiffs = []\n",
    "genres = ratings[ratings['movie_id'] == -1].head(1)[genre]\n",
    "movie_idxs = []\n",
    "for movie in all_movie_idxs:\n",
    "    result = ratings[ratings['movie_id'] == movie]\n",
    "    if (len(result) > 0):\n",
    "        releaseYears += [result.ReleaseYear.values[0]]\n",
    "        watchedReleaseDiffs += [result.watchReleaseDiff.values[0]]\n",
    "        genres = genres.append(result.head(1)[genre])\n",
    "        movie_idxs += [result.movie_id.values[0]]"
   ],
   "metadata": {
    "collapsed": false
   }
  },
  {
   "cell_type": "code",
   "execution_count": 44,
   "outputs": [],
   "source": [
    "# computes the max timestamp to be considered as today\n",
    "inputData.timestamp = ratings.timestamp.max()"
   ],
   "metadata": {
    "collapsed": false
   }
  },
  {
   "cell_type": "code",
   "execution_count": 45,
   "outputs": [],
   "source": [
    "# Preparar la entrada a la red: Datos de usuario\n",
    "n_movies = n_movies - 1\n",
    "user_idxs = np.zeros(n_movies, dtype=int) + user_id\n",
    "user_genders = np.zeros(n_movies, dtype=int) + inputData.gender\n",
    "user_occupations = np.zeros(n_movies, dtype=int) + inputData.occupation\n",
    "timestamps = np.zeros(n_movies, dtype=int) + inputData.timestamp\n",
    "ageRanges = np.zeros(n_movies, dtype=int) + inputData.ageRange"
   ],
   "metadata": {
    "collapsed": false
   }
  },
  {
   "cell_type": "markdown",
   "source": [
    "# Verify"
   ],
   "metadata": {
    "collapsed": false
   }
  },
  {
   "cell_type": "code",
   "execution_count": 46,
   "outputs": [],
   "source": [
    "inputs_val = [user_idxs, movie_idxs, timestamps, genres,\n",
    "              user_genders, user_occupations, watchedReleaseDiffs, ageRanges, releaseYears]"
   ],
   "metadata": {
    "collapsed": false
   }
  },
  {
   "cell_type": "code",
   "execution_count": 47,
   "outputs": [],
   "source": [
    "# Convert input data into series\n",
    "for i in range(len(inputs_val)):\n",
    "    if (i != 3):\n",
    "        inputs_val[i] = pd.Series(inputs_val[i])"
   ],
   "metadata": {
    "collapsed": false
   }
  },
  {
   "cell_type": "code",
   "execution_count": 48,
   "outputs": [
    {
     "name": "stdout",
     "output_type": "stream",
     "text": [
      "0 <class 'pandas.core.series.Series'> 704 <class 'numpy.int64'> 310\n",
      "1 <class 'pandas.core.series.Series'> 704 <class 'numpy.int64'> 1\n",
      "2 <class 'pandas.core.series.Series'> 704 <class 'numpy.float64'> 1.82796423103278\n",
      "3 <class 'pandas.core.frame.DataFrame'>\n",
      "4 <class 'pandas.core.series.Series'> 704 <class 'numpy.int64'> 1\n",
      "5 <class 'pandas.core.series.Series'> 704 <class 'numpy.int64'> 3\n",
      "6 <class 'pandas.core.series.Series'> 704 <class 'numpy.float64'> -0.5019160586050823\n",
      "7 <class 'pandas.core.series.Series'> 704 <class 'numpy.int64'> 2\n",
      "8 <class 'pandas.core.series.Series'> 704 <class 'numpy.float64'> -135.55962914359867\n"
     ]
    }
   ],
   "source": [
    "# Verify input values\n",
    "for i in range(len(inputs_val)):\n",
    "    if (i == 3):\n",
    "        print(i, type(inputs_val[i]))\n",
    "    else:\n",
    "        print(i, type(inputs_val[i]), len(inputs_val[i]), type(inputs_val[i][0]), inputs_val[i][0])"
   ],
   "metadata": {
    "collapsed": false
   }
  },
  {
   "cell_type": "code",
   "execution_count": 49,
   "outputs": [
    {
     "name": "stdout",
     "output_type": "stream",
     "text": [
      "22/22 [==============================] - 0s 1ms/step\n"
     ]
    }
   ],
   "source": [
    "predictions = model.predict(inputs_val)"
   ],
   "metadata": {
    "collapsed": false
   }
  },
  {
   "cell_type": "code",
   "execution_count": 50,
   "outputs": [
    {
     "name": "stdout",
     "output_type": "stream",
     "text": [
      "3.5273888 3.5273888\n"
     ]
    },
    {
     "data": {
      "text/plain": "array([[3.5273888],\n       [3.5273888],\n       [3.5273888],\n       [3.5273888],\n       [3.5273888],\n       [3.5273888],\n       [3.5273888],\n       [3.5273888],\n       [3.5273888],\n       [3.5273888],\n       [3.5273888],\n       [3.5273888],\n       [3.5273888],\n       [3.5273888],\n       [3.5273888],\n       [3.5273888],\n       [3.5273888],\n       [3.5273888],\n       [3.5273888],\n       [3.5273888],\n       [3.5273888],\n       [3.5273888],\n       [3.5273888],\n       [3.5273888],\n       [3.5273888],\n       [3.5273888],\n       [3.5273888],\n       [3.5273888],\n       [3.5273888],\n       [3.5273888],\n       [3.5273888],\n       [3.5273888],\n       [3.5273888],\n       [3.5273888],\n       [3.5273888],\n       [3.5273888],\n       [3.5273888],\n       [3.5273888],\n       [3.5273888],\n       [3.5273888],\n       [3.5273888],\n       [3.5273888],\n       [3.5273888],\n       [3.5273888],\n       [3.5273888],\n       [3.5273888],\n       [3.5273888],\n       [3.5273888],\n       [3.5273888],\n       [3.5273888],\n       [3.5273888],\n       [3.5273888],\n       [3.5273888],\n       [3.5273888],\n       [3.5273888],\n       [3.5273888],\n       [3.5273888],\n       [3.5273888],\n       [3.5273888],\n       [3.5273888],\n       [3.5273888],\n       [3.5273888],\n       [3.5273888],\n       [3.5273888],\n       [3.5273888],\n       [3.5273888],\n       [3.5273888],\n       [3.5273888],\n       [3.5273888],\n       [3.5273888],\n       [3.5273888],\n       [3.5273888],\n       [3.5273888],\n       [3.5273888],\n       [3.5273888],\n       [3.5273888],\n       [3.5273888],\n       [3.5273888],\n       [3.5273888],\n       [3.5273888],\n       [3.5273888],\n       [3.5273888],\n       [3.5273888],\n       [3.5273888],\n       [3.5273888],\n       [3.5273888],\n       [3.5273888],\n       [3.5273888],\n       [3.5273888],\n       [3.5273888],\n       [3.5273888],\n       [3.5273888],\n       [3.5273888],\n       [3.5273888],\n       [3.5273888],\n       [3.5273888],\n       [3.5273888],\n       [3.5273888],\n       [3.5273888],\n       [3.5273888],\n       [3.5273888],\n       [3.5273888],\n       [3.5273888],\n       [3.5273888],\n       [3.5273888],\n       [3.5273888],\n       [3.5273888],\n       [3.5273888],\n       [3.5273888],\n       [3.5273888],\n       [3.5273888],\n       [3.5273888],\n       [3.5273888],\n       [3.5273888],\n       [3.5273888],\n       [3.5273888],\n       [3.5273888],\n       [3.5273888],\n       [3.5273888],\n       [3.5273888],\n       [3.5273888],\n       [3.5273888],\n       [3.5273888],\n       [3.5273888],\n       [3.5273888],\n       [3.5273888],\n       [3.5273888],\n       [3.5273888],\n       [3.5273888],\n       [3.5273888],\n       [3.5273888],\n       [3.5273888],\n       [3.5273888],\n       [3.5273888],\n       [3.5273888],\n       [3.5273888],\n       [3.5273888],\n       [3.5273888],\n       [3.5273888],\n       [3.5273888],\n       [3.5273888],\n       [3.5273888],\n       [3.5273888],\n       [3.5273888],\n       [3.5273888],\n       [3.5273888],\n       [3.5273888],\n       [3.5273888],\n       [3.5273888],\n       [3.5273888],\n       [3.5273888],\n       [3.5273888],\n       [3.5273888],\n       [3.5273888],\n       [3.5273888],\n       [3.5273888],\n       [3.5273888],\n       [3.5273888],\n       [3.5273888],\n       [3.5273888],\n       [3.5273888],\n       [3.5273888],\n       [3.5273888],\n       [3.5273888],\n       [3.5273888],\n       [3.5273888],\n       [3.5273888],\n       [3.5273888],\n       [3.5273888],\n       [3.5273888],\n       [3.5273888],\n       [3.5273888],\n       [3.5273888],\n       [3.5273888],\n       [3.5273888],\n       [3.5273888],\n       [3.5273888],\n       [3.5273888],\n       [3.5273888],\n       [3.5273888],\n       [3.5273888],\n       [3.5273888],\n       [3.5273888],\n       [3.5273888],\n       [3.5273888],\n       [3.5273888],\n       [3.5273888],\n       [3.5273888],\n       [3.5273888],\n       [3.5273888],\n       [3.5273888],\n       [3.5273888],\n       [3.5273888],\n       [3.5273888],\n       [3.5273888],\n       [3.5273888],\n       [3.5273888],\n       [3.5273888],\n       [3.5273888],\n       [3.5273888],\n       [3.5273888],\n       [3.5273888],\n       [3.5273888],\n       [3.5273888],\n       [3.5273888],\n       [3.5273888],\n       [3.5273888],\n       [3.5273888],\n       [3.5273888],\n       [3.5273888],\n       [3.5273888],\n       [3.5273888],\n       [3.5273888],\n       [3.5273888],\n       [3.5273888],\n       [3.5273888],\n       [3.5273888],\n       [3.5273888],\n       [3.5273888],\n       [3.5273888],\n       [3.5273888],\n       [3.5273888],\n       [3.5273888],\n       [3.5273888],\n       [3.5273888],\n       [3.5273888],\n       [3.5273888],\n       [3.5273888],\n       [3.5273888],\n       [3.5273888],\n       [3.5273888],\n       [3.5273888],\n       [3.5273888],\n       [3.5273888],\n       [3.5273888],\n       [3.5273888],\n       [3.5273888],\n       [3.5273888],\n       [3.5273888],\n       [3.5273888],\n       [3.5273888],\n       [3.5273888],\n       [3.5273888],\n       [3.5273888],\n       [3.5273888],\n       [3.5273888],\n       [3.5273888],\n       [3.5273888],\n       [3.5273888],\n       [3.5273888],\n       [3.5273888],\n       [3.5273888],\n       [3.5273888],\n       [3.5273888],\n       [3.5273888],\n       [3.5273888],\n       [3.5273888],\n       [3.5273888],\n       [3.5273888],\n       [3.5273888],\n       [3.5273888],\n       [3.5273888],\n       [3.5273888],\n       [3.5273888],\n       [3.5273888],\n       [3.5273888],\n       [3.5273888],\n       [3.5273888],\n       [3.5273888],\n       [3.5273888],\n       [3.5273888],\n       [3.5273888],\n       [3.5273888],\n       [3.5273888],\n       [3.5273888],\n       [3.5273888],\n       [3.5273888],\n       [3.5273888],\n       [3.5273888],\n       [3.5273888],\n       [3.5273888],\n       [3.5273888],\n       [3.5273888],\n       [3.5273888],\n       [3.5273888],\n       [3.5273888],\n       [3.5273888],\n       [3.5273888],\n       [3.5273888],\n       [3.5273888],\n       [3.5273888],\n       [3.5273888],\n       [3.5273888],\n       [3.5273888],\n       [3.5273888],\n       [3.5273888],\n       [3.5273888],\n       [3.5273888],\n       [3.5273888],\n       [3.5273888],\n       [3.5273888],\n       [3.5273888],\n       [3.5273888],\n       [3.5273888],\n       [3.5273888],\n       [3.5273888],\n       [3.5273888],\n       [3.5273888],\n       [3.5273888],\n       [3.5273888],\n       [3.5273888],\n       [3.5273888],\n       [3.5273888],\n       [3.5273888],\n       [3.5273888],\n       [3.5273888],\n       [3.5273888],\n       [3.5273888],\n       [3.5273888],\n       [3.5273888],\n       [3.5273888],\n       [3.5273888],\n       [3.5273888],\n       [3.5273888],\n       [3.5273888],\n       [3.5273888],\n       [3.5273888],\n       [3.5273888],\n       [3.5273888],\n       [3.5273888],\n       [3.5273888],\n       [3.5273888],\n       [3.5273888],\n       [3.5273888],\n       [3.5273888],\n       [3.5273888],\n       [3.5273888],\n       [3.5273888],\n       [3.5273888],\n       [3.5273888],\n       [3.5273888],\n       [3.5273888],\n       [3.5273888],\n       [3.5273888],\n       [3.5273888],\n       [3.5273888],\n       [3.5273888],\n       [3.5273888],\n       [3.5273888],\n       [3.5273888],\n       [3.5273888],\n       [3.5273888],\n       [3.5273888],\n       [3.5273888],\n       [3.5273888],\n       [3.5273888],\n       [3.5273888],\n       [3.5273888],\n       [3.5273888],\n       [3.5273888],\n       [3.5273888],\n       [3.5273888],\n       [3.5273888],\n       [3.5273888],\n       [3.5273888],\n       [3.5273888],\n       [3.5273888],\n       [3.5273888],\n       [3.5273888],\n       [3.5273888],\n       [3.5273888],\n       [3.5273888],\n       [3.5273888],\n       [3.5273888],\n       [3.5273888],\n       [3.5273888],\n       [3.5273888],\n       [3.5273888],\n       [3.5273888],\n       [3.5273888],\n       [3.5273888],\n       [3.5273888],\n       [3.5273888],\n       [3.5273888],\n       [3.5273888],\n       [3.5273888],\n       [3.5273888],\n       [3.5273888],\n       [3.5273888],\n       [3.5273888],\n       [3.5273888],\n       [3.5273888],\n       [3.5273888],\n       [3.5273888],\n       [3.5273888],\n       [3.5273888],\n       [3.5273888],\n       [3.5273888],\n       [3.5273888],\n       [3.5273888],\n       [3.5273888],\n       [3.5273888],\n       [3.5273888],\n       [3.5273888],\n       [3.5273888],\n       [3.5273888],\n       [3.5273888],\n       [3.5273888],\n       [3.5273888],\n       [3.5273888],\n       [3.5273888],\n       [3.5273888],\n       [3.5273888],\n       [3.5273888],\n       [3.5273888],\n       [3.5273888],\n       [3.5273888],\n       [3.5273888],\n       [3.5273888],\n       [3.5273888],\n       [3.5273888],\n       [3.5273888],\n       [3.5273888],\n       [3.5273888],\n       [3.5273888],\n       [3.5273888],\n       [3.5273888],\n       [3.5273888],\n       [3.5273888],\n       [3.5273888],\n       [3.5273888],\n       [3.5273888],\n       [3.5273888],\n       [3.5273888],\n       [3.5273888],\n       [3.5273888],\n       [3.5273888],\n       [3.5273888],\n       [3.5273888],\n       [3.5273888],\n       [3.5273888],\n       [3.5273888],\n       [3.5273888],\n       [3.5273888],\n       [3.5273888],\n       [3.5273888],\n       [3.5273888],\n       [3.5273888],\n       [3.5273888],\n       [3.5273888],\n       [3.5273888],\n       [3.5273888],\n       [3.5273888],\n       [3.5273888],\n       [3.5273888],\n       [3.5273888],\n       [3.5273888],\n       [3.5273888],\n       [3.5273888],\n       [3.5273888],\n       [3.5273888],\n       [3.5273888],\n       [3.5273888],\n       [3.5273888],\n       [3.5273888],\n       [3.5273888],\n       [3.5273888],\n       [3.5273888],\n       [3.5273888],\n       [3.5273888],\n       [3.5273888],\n       [3.5273888],\n       [3.5273888],\n       [3.5273888],\n       [3.5273888],\n       [3.5273888],\n       [3.5273888],\n       [3.5273888],\n       [3.5273888],\n       [3.5273888],\n       [3.5273888],\n       [3.5273888],\n       [3.5273888],\n       [3.5273888],\n       [3.5273888],\n       [3.5273888],\n       [3.5273888],\n       [3.5273888],\n       [3.5273888],\n       [3.5273888],\n       [3.5273888],\n       [3.5273888],\n       [3.5273888],\n       [3.5273888],\n       [3.5273888],\n       [3.5273888],\n       [3.5273888],\n       [3.5273888],\n       [3.5273888],\n       [3.5273888],\n       [3.5273888],\n       [3.5273888],\n       [3.5273888],\n       [3.5273888],\n       [3.5273888],\n       [3.5273888],\n       [3.5273888],\n       [3.5273888],\n       [3.5273888],\n       [3.5273888],\n       [3.5273888],\n       [3.5273888],\n       [3.5273888],\n       [3.5273888],\n       [3.5273888],\n       [3.5273888],\n       [3.5273888],\n       [3.5273888],\n       [3.5273888],\n       [3.5273888],\n       [3.5273888],\n       [3.5273888],\n       [3.5273888],\n       [3.5273888],\n       [3.5273888],\n       [3.5273888],\n       [3.5273888],\n       [3.5273888],\n       [3.5273888],\n       [3.5273888],\n       [3.5273888],\n       [3.5273888],\n       [3.5273888],\n       [3.5273888],\n       [3.5273888],\n       [3.5273888],\n       [3.5273888],\n       [3.5273888],\n       [3.5273888],\n       [3.5273888],\n       [3.5273888],\n       [3.5273888],\n       [3.5273888],\n       [3.5273888],\n       [3.5273888],\n       [3.5273888],\n       [3.5273888],\n       [3.5273888],\n       [3.5273888],\n       [3.5273888],\n       [3.5273888],\n       [3.5273888],\n       [3.5273888],\n       [3.5273888],\n       [3.5273888],\n       [3.5273888],\n       [3.5273888],\n       [3.5273888],\n       [3.5273888],\n       [3.5273888],\n       [3.5273888],\n       [3.5273888],\n       [3.5273888],\n       [3.5273888],\n       [3.5273888],\n       [3.5273888],\n       [3.5273888],\n       [3.5273888],\n       [3.5273888],\n       [3.5273888],\n       [3.5273888],\n       [3.5273888],\n       [3.5273888],\n       [3.5273888],\n       [3.5273888],\n       [3.5273888],\n       [3.5273888],\n       [3.5273888],\n       [3.5273888],\n       [3.5273888],\n       [3.5273888],\n       [3.5273888],\n       [3.5273888],\n       [3.5273888],\n       [3.5273888],\n       [3.5273888],\n       [3.5273888],\n       [3.5273888],\n       [3.5273888],\n       [3.5273888],\n       [3.5273888],\n       [3.5273888],\n       [3.5273888],\n       [3.5273888],\n       [3.5273888],\n       [3.5273888],\n       [3.5273888],\n       [3.5273888],\n       [3.5273888],\n       [3.5273888],\n       [3.5273888],\n       [3.5273888],\n       [3.5273888],\n       [3.5273888],\n       [3.5273888],\n       [3.5273888],\n       [3.5273888],\n       [3.5273888],\n       [3.5273888],\n       [3.5273888],\n       [3.5273888],\n       [3.5273888],\n       [3.5273888],\n       [3.5273888],\n       [3.5273888],\n       [3.5273888],\n       [3.5273888],\n       [3.5273888],\n       [3.5273888],\n       [3.5273888],\n       [3.5273888],\n       [3.5273888],\n       [3.5273888],\n       [3.5273888],\n       [3.5273888],\n       [3.5273888],\n       [3.5273888],\n       [3.5273888],\n       [3.5273888],\n       [3.5273888],\n       [3.5273888],\n       [3.5273888],\n       [3.5273888],\n       [3.5273888],\n       [3.5273888],\n       [3.5273888],\n       [3.5273888],\n       [3.5273888],\n       [3.5273888],\n       [3.5273888],\n       [3.5273888],\n       [3.5273888],\n       [3.5273888],\n       [3.5273888],\n       [3.5273888],\n       [3.5273888],\n       [3.5273888],\n       [3.5273888],\n       [3.5273888],\n       [3.5273888],\n       [3.5273888],\n       [3.5273888],\n       [3.5273888],\n       [3.5273888],\n       [3.5273888],\n       [3.5273888],\n       [3.5273888],\n       [3.5273888],\n       [3.5273888],\n       [3.5273888],\n       [3.5273888],\n       [3.5273888],\n       [3.5273888],\n       [3.5273888],\n       [3.5273888],\n       [3.5273888],\n       [3.5273888],\n       [3.5273888],\n       [3.5273888],\n       [3.5273888],\n       [3.5273888],\n       [3.5273888],\n       [3.5273888],\n       [3.5273888],\n       [3.5273888],\n       [3.5273888],\n       [3.5273888],\n       [3.5273888],\n       [3.5273888],\n       [3.5273888],\n       [3.5273888],\n       [3.5273888],\n       [3.5273888],\n       [3.5273888],\n       [3.5273888],\n       [3.5273888],\n       [3.5273888],\n       [3.5273888],\n       [3.5273888],\n       [3.5273888],\n       [3.5273888],\n       [3.5273888],\n       [3.5273888],\n       [3.5273888],\n       [3.5273888],\n       [3.5273888],\n       [3.5273888],\n       [3.5273888],\n       [3.5273888],\n       [3.5273888],\n       [3.5273888],\n       [3.5273888],\n       [3.5273888],\n       [3.5273888]], dtype=float32)"
     },
     "execution_count": 50,
     "metadata": {},
     "output_type": "execute_result"
    }
   ],
   "source": [
    "print(predictions.max(), predictions.min())\n",
    "predictions"
   ],
   "metadata": {
    "collapsed": false
   }
  },
  {
   "cell_type": "code",
   "execution_count": 51,
   "outputs": [
    {
     "data": {
      "text/plain": "704"
     },
     "execution_count": 51,
     "metadata": {},
     "output_type": "execute_result"
    }
   ],
   "source": [
    "sortedMovies = np.argsort(predictions[:,0])[::-1]\n",
    "len(sortedMovies)"
   ],
   "metadata": {
    "collapsed": false
   }
  },
  {
   "cell_type": "code",
   "execution_count": 52,
   "outputs": [],
   "source": [
    "# datetime object containing current date and time\n",
    "now = datetime.now()\n",
    "# dd/mm/YY H:M:S\n",
    "dt_string = now.strftime(\"%d/%m/%Y %H:%M:%S\")"
   ],
   "metadata": {
    "collapsed": false
   }
  },
  {
   "cell_type": "code",
   "execution_count": 53,
   "outputs": [
    {
     "name": "stdout",
     "output_type": "stream",
     "text": [
      "31/12/2022 10:02:17 - 10 Peliculas Recomendadas para el Usuario: 310\n",
      "[\"Widows' Peak (1994)\", 'Barcelona (1994)', 'Sneakers (1992)', 'Raising Arizona (1987)', 'Jerry Maguire (1996)', 'Citizen Ruth (1996)', 'Mars Attacks! (1996)', 'Jaws (1975)', 'Under Siege (1992)', 'Young Guns (1988)']\n"
     ]
    }
   ],
   "source": [
    "# Finalmente obtener los nombres de las peliculas a recomendar y almacenarlo\n",
    "import csv\n",
    "\n",
    "recommended_movies = []\n",
    "i = 0\n",
    "for movie in sortedMovies:\n",
    "    movie_show = item[item['movie_id'] == movie]\n",
    "    if (len(movie_show) > 0):\n",
    "        if (movie not in inputData['watched']):\n",
    "            recommended_movies += [str(movie_show.iloc[0].movie_title)]\n",
    "            # print(i+1,movie_show.iloc[0].movie_title)\n",
    "            i += 1\n",
    "    if i >= cantidad_recomendaciones:\n",
    "        break\n",
    "\n",
    "recommendations['movies'] = recommended_movies\n",
    "\n",
    "header = str(len(recommended_movies)) + \" Peliculas Recomendadas para el Usuario: \" + str(user_id)\n",
    "print(dt_string, \"-\", header)\n",
    "with open(PATH_PROCESSED + 'recommended.txt', 'a') as recfile:\n",
    "    recfile.writelines(\"\\n\")\n",
    "    recfile.writelines(dt_string)\n",
    "    recfile.writelines(\"\\n\")\n",
    "    recfile.writelines(header)\n",
    "    recfile.writelines(\"\\n\")\n",
    "    idx = 1\n",
    "    for title in recommended_movies:\n",
    "        recfile.writelines(str(idx) + \". \" + title)\n",
    "        recfile.writelines(\"\\n\")\n",
    "        idx += 1\n",
    "\n",
    "print(recommended_movies)"
   ],
   "metadata": {
    "collapsed": false
   }
  },
  {
   "cell_type": "code",
   "execution_count": 54,
   "outputs": [
    {
     "name": "stdout",
     "output_type": "stream",
     "text": [
      "date and time = 31/12/2022 10:02:17\n",
      "Elapsed 0:00:12.179888\n"
     ]
    }
   ],
   "source": [
    "# datetime object containing current date and time\n",
    "now = datetime.now()\n",
    "# dd/mm/YY H:M:S\n",
    "dt_string = now.strftime(\"%d/%m/%Y %H:%M:%S\")\n",
    "print(\"date and time =\", dt_string)\n",
    "print(\"Elapsed\", now - start)"
   ],
   "metadata": {
    "collapsed": false
   }
  },
  {
   "cell_type": "code",
   "execution_count": 54,
   "outputs": [],
   "source": [],
   "metadata": {
    "collapsed": false
   }
  }
 ],
 "metadata": {
  "kernelspec": {
   "display_name": "Python 3",
   "language": "python",
   "name": "python3"
  },
  "language_info": {
   "codemirror_mode": {
    "name": "ipython",
    "version": 3
   },
   "file_extension": ".py",
   "mimetype": "text/x-python",
   "name": "python",
   "nbconvert_exporter": "python",
   "pygments_lexer": "ipython3",
   "version": "3.6.8"
  }
 },
 "nbformat": 4,
 "nbformat_minor": 2
}
