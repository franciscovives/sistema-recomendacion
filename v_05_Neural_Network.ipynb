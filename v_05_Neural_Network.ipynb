{
 "cells": [
  {
   "cell_type": "code",
   "execution_count": 23,
   "metadata": {},
   "outputs": [
    {
     "name": "stdout",
     "output_type": "stream",
     "text": [
      "The autoreload extension is already loaded. To reload it, use:\n",
      "  %reload_ext autoreload\n"
     ]
    }
   ],
   "source": [
    "%load_ext autoreload\n",
    "%autoreload 2"
   ]
  },
  {
   "cell_type": "code",
   "execution_count": 24,
   "metadata": {},
   "outputs": [],
   "source": [
    "import pandas as pd\n",
    "from pandas_summary import DataFrameSummary"
   ]
  },
  {
   "cell_type": "code",
   "execution_count": 25,
   "outputs": [],
   "source": [
    "PATH_PROCESSED='processed/'\n",
    "PATH = 'dataset/'\n",
    "\n",
    "user, occupation = [pd.read_csv(PATH + fname+'.csv', low_memory=False, sep=\"|\") for fname in ['user', 'occupation']]\n",
    "info, train = [pd.read_csv(PATH + fname+'.csv', low_memory=False, sep=\"\\t\") for fname in ['info', 'train']]\n",
    "test = pd.read_csv(PATH + 'test.csv', low_memory=False, sep=\",\")\n",
    "item = pd.read_csv(PATH + 'item.csv',  low_memory=False, encoding='latin-1', sep=\"|\")\n",
    "\n",
    "item.rename( columns={'movieId' :'movie_id', 'movieTitle' :'movie_title', 'release date' :'release_date', 'video release date' :'video_release_date', 'IMDb URL' :'imdb_url', 'unknown' :'unknown', 'Action' :'action', 'Adventure' :'adventure', 'Animation' :'animation', 'Children\\'s' :'children', 'Comedy' :'comedy', 'Crime' :'crime', 'Documentary' :'documentary', 'Drama' :'drama', 'Fantasy' :'fantasy', 'Film-Noir' :'film-noir', 'Horror' :'horror', 'Musical' :'musical', 'Mystery' :'mystery', 'Romance' :'romance', 'Sci-Fi' :'sci-fi', 'Thriller' :'thriller', 'War' :'war', 'Western' :'western'}, inplace=True)\n",
    "\n",
    "user.rename( columns={'user id' :'user_id', 'age' :'age', 'gender' :'gender', 'occupation' :'occupation', 'zip code' :'zip_code'}, inplace=True)\n",
    "\n",
    "train.rename( columns={'userId' :'user_id', 'movieId' :'movie_id'}, inplace=True)\n",
    "test.rename( columns={'Id' :'id', 'userId' :'user_id', 'movieId' :'movie_id'}, inplace=True)\n"
   ],
   "metadata": {
    "collapsed": false
   }
  },
  {
   "cell_type": "code",
   "execution_count": 26,
   "outputs": [],
   "source": [
    "u_unique = train.user_id.unique()\n",
    "user2Idx = {o:i+1 for i,o in enumerate(u_unique)}\n",
    "\n",
    "m_unique = train.movie_id.unique()\n",
    "movie2Idx = {o:i+1 for i,o in enumerate(m_unique)}"
   ],
   "metadata": {
    "collapsed": false
   }
  },
  {
   "cell_type": "code",
   "execution_count": 27,
   "outputs": [],
   "source": [
    "PATH_PROCESSED = 'processed/'\n",
    "joined = pd.read_feather(PATH_PROCESSED + 'joined.fth')"
   ],
   "metadata": {
    "collapsed": false
   }
  },
  {
   "cell_type": "code",
   "execution_count": 28,
   "outputs": [],
   "source": [
    "genre = ['action', 'adventure', 'animation',\n",
    "         \"children\", 'comedy', 'crime', 'documentary', 'drama', 'fantasy',\n",
    "         'film-noir', 'horror', 'musical', 'mystery', 'romance', 'sci-fi',\n",
    "         'thriller', 'war', 'western']"
   ],
   "metadata": {
    "collapsed": false
   }
  },
  {
   "cell_type": "code",
   "execution_count": 29,
   "outputs": [
    {
     "name": "stdout",
     "output_type": "stream",
     "text": [
      "(80000, 4) (80000, 36)\n"
     ]
    }
   ],
   "source": [
    "print (train.shape, joined.shape)\n",
    "#ratings = joined"
   ],
   "metadata": {
    "collapsed": false
   }
  },
  {
   "cell_type": "code",
   "execution_count": 30,
   "outputs": [
    {
     "data": {
      "text/plain": "   user_id  movie_id  rating  timestamp        movie_title release_date  \\\n0        1         1       5  -1.616731   Toy Story (1995)   1995-01-01   \n1        1         2       3  -1.254339   GoldenEye (1995)   1995-01-01   \n2        1         3       4  -0.944145  Four Rooms (1995)   1995-01-01   \n3        1         4       3  -1.254348  Get Shorty (1995)   1995-01-01   \n4        1         5       3   1.163327     Copycat (1995)   1995-01-01   \n\n   unknown  action  adventure  animation  ...  gender  occupation  zip_code  \\\n0        0       0          0          1  ...       1          19     85711   \n1        0       1          1          0  ...       1          19     85711   \n2        0       0          0          0  ...       1          19     85711   \n3        0       1          0          0  ...       1          19     85711   \n4        0       0          0          0  ...       1          19     85711   \n\n   ReleaseYear  ReleaseMonthYear  WatchedYear  WatchedMonthYear  \\\n0  -135.559629                82            0                 7   \n1  -135.559629                82            0                 6   \n2  -135.559629                82            0                 5   \n3  -135.559629                82            0                 6   \n4  -135.559629                82            1                 4   \n\n   watchReleaseDiff  watchNow-releaseDiff  ageRange  \n0         -0.501916             -0.482847         1  \n1         -0.497500             -0.482847         1  \n2         -0.493852             -0.482847         1  \n3         -0.497500             -0.482847         1  \n4         -0.469086             -0.482847         1  \n\n[5 rows x 36 columns]",
      "text/html": "<div>\n<style scoped>\n    .dataframe tbody tr th:only-of-type {\n        vertical-align: middle;\n    }\n\n    .dataframe tbody tr th {\n        vertical-align: top;\n    }\n\n    .dataframe thead th {\n        text-align: right;\n    }\n</style>\n<table border=\"1\" class=\"dataframe\">\n  <thead>\n    <tr style=\"text-align: right;\">\n      <th></th>\n      <th>user_id</th>\n      <th>movie_id</th>\n      <th>rating</th>\n      <th>timestamp</th>\n      <th>movie_title</th>\n      <th>release_date</th>\n      <th>unknown</th>\n      <th>action</th>\n      <th>adventure</th>\n      <th>animation</th>\n      <th>...</th>\n      <th>gender</th>\n      <th>occupation</th>\n      <th>zip_code</th>\n      <th>ReleaseYear</th>\n      <th>ReleaseMonthYear</th>\n      <th>WatchedYear</th>\n      <th>WatchedMonthYear</th>\n      <th>watchReleaseDiff</th>\n      <th>watchNow-releaseDiff</th>\n      <th>ageRange</th>\n    </tr>\n  </thead>\n  <tbody>\n    <tr>\n      <th>0</th>\n      <td>1</td>\n      <td>1</td>\n      <td>5</td>\n      <td>-1.616731</td>\n      <td>Toy Story (1995)</td>\n      <td>1995-01-01</td>\n      <td>0</td>\n      <td>0</td>\n      <td>0</td>\n      <td>1</td>\n      <td>...</td>\n      <td>1</td>\n      <td>19</td>\n      <td>85711</td>\n      <td>-135.559629</td>\n      <td>82</td>\n      <td>0</td>\n      <td>7</td>\n      <td>-0.501916</td>\n      <td>-0.482847</td>\n      <td>1</td>\n    </tr>\n    <tr>\n      <th>1</th>\n      <td>1</td>\n      <td>2</td>\n      <td>3</td>\n      <td>-1.254339</td>\n      <td>GoldenEye (1995)</td>\n      <td>1995-01-01</td>\n      <td>0</td>\n      <td>1</td>\n      <td>1</td>\n      <td>0</td>\n      <td>...</td>\n      <td>1</td>\n      <td>19</td>\n      <td>85711</td>\n      <td>-135.559629</td>\n      <td>82</td>\n      <td>0</td>\n      <td>6</td>\n      <td>-0.497500</td>\n      <td>-0.482847</td>\n      <td>1</td>\n    </tr>\n    <tr>\n      <th>2</th>\n      <td>1</td>\n      <td>3</td>\n      <td>4</td>\n      <td>-0.944145</td>\n      <td>Four Rooms (1995)</td>\n      <td>1995-01-01</td>\n      <td>0</td>\n      <td>0</td>\n      <td>0</td>\n      <td>0</td>\n      <td>...</td>\n      <td>1</td>\n      <td>19</td>\n      <td>85711</td>\n      <td>-135.559629</td>\n      <td>82</td>\n      <td>0</td>\n      <td>5</td>\n      <td>-0.493852</td>\n      <td>-0.482847</td>\n      <td>1</td>\n    </tr>\n    <tr>\n      <th>3</th>\n      <td>1</td>\n      <td>4</td>\n      <td>3</td>\n      <td>-1.254348</td>\n      <td>Get Shorty (1995)</td>\n      <td>1995-01-01</td>\n      <td>0</td>\n      <td>1</td>\n      <td>0</td>\n      <td>0</td>\n      <td>...</td>\n      <td>1</td>\n      <td>19</td>\n      <td>85711</td>\n      <td>-135.559629</td>\n      <td>82</td>\n      <td>0</td>\n      <td>6</td>\n      <td>-0.497500</td>\n      <td>-0.482847</td>\n      <td>1</td>\n    </tr>\n    <tr>\n      <th>4</th>\n      <td>1</td>\n      <td>5</td>\n      <td>3</td>\n      <td>1.163327</td>\n      <td>Copycat (1995)</td>\n      <td>1995-01-01</td>\n      <td>0</td>\n      <td>0</td>\n      <td>0</td>\n      <td>0</td>\n      <td>...</td>\n      <td>1</td>\n      <td>19</td>\n      <td>85711</td>\n      <td>-135.559629</td>\n      <td>82</td>\n      <td>1</td>\n      <td>4</td>\n      <td>-0.469086</td>\n      <td>-0.482847</td>\n      <td>1</td>\n    </tr>\n  </tbody>\n</table>\n<p>5 rows × 36 columns</p>\n</div>"
     },
     "execution_count": 30,
     "metadata": {},
     "output_type": "execute_result"
    }
   ],
   "source": [
    "joined.head()"
   ],
   "metadata": {
    "collapsed": false
   }
  },
  {
   "cell_type": "code",
   "execution_count": 31,
   "outputs": [],
   "source": [
    "idx2Movie = {v:k for k,v in movie2Idx.items()}\n",
    "\n",
    "joined.user_id = joined.user_id.apply(lambda x: user2Idx[x])\n",
    "joined.movie_id = joined.movie_id.apply(lambda x: movie2Idx[x])"
   ],
   "metadata": {
    "collapsed": false
   }
  },
  {
   "cell_type": "code",
   "execution_count": 32,
   "outputs": [
    {
     "data": {
      "text/plain": "Index(['user_id', 'movie_id', 'rating', 'timestamp', 'movie_title',\n       'release_date', 'unknown', 'action', 'adventure', 'animation',\n       'children', 'comedy', 'crime', 'documentary', 'drama', 'fantasy',\n       'film-noir', 'horror', 'musical', 'mystery', 'romance', 'sci-fi',\n       'thriller', 'war', 'western', 'age', 'gender', 'occupation', 'zip_code',\n       'ReleaseYear', 'ReleaseMonthYear', 'WatchedYear', 'WatchedMonthYear',\n       'watchReleaseDiff', 'watchNow-releaseDiff', 'ageRange'],\n      dtype='object')"
     },
     "execution_count": 32,
     "metadata": {},
     "output_type": "execute_result"
    }
   ],
   "source": [
    "joined.columns"
   ],
   "metadata": {
    "collapsed": false
   }
  },
  {
   "cell_type": "code",
   "execution_count": 33,
   "outputs": [],
   "source": [
    "test_size=0.2"
   ],
   "metadata": {
    "collapsed": false
   }
  },
  {
   "cell_type": "code",
   "execution_count": 34,
   "outputs": [],
   "source": [
    "from sklearn.model_selection import train_test_split\n",
    "ratings_train, ratings_val = train_test_split(joined, test_size=test_size)"
   ],
   "metadata": {
    "collapsed": false
   }
  },
  {
   "cell_type": "code",
   "execution_count": 35,
   "outputs": [
    {
     "data": {
      "text/plain": "(64000, 16000)"
     },
     "execution_count": 35,
     "metadata": {},
     "output_type": "execute_result"
    }
   ],
   "source": [
    "n_split = int(len(joined) * test_size)\n",
    "ratings_train = joined[n_split:]\n",
    "ratings_val = joined[:n_split]\n",
    "len(ratings_train), len(ratings_val)"
   ],
   "metadata": {
    "collapsed": false
   }
  },
  {
   "cell_type": "code",
   "execution_count": 36,
   "outputs": [
    {
     "name": "stdout",
     "output_type": "stream",
     "text": [
      "943 654 1682 1612 2 21\n"
     ]
    }
   ],
   "source": [
    "n_users = int(user.user_id.nunique())\n",
    "n_movies = int(item.movie_id.nunique())\n",
    "n_gender = int(joined.gender.nunique())\n",
    "n_occupation = int(joined.occupation.nunique())\n",
    "\n",
    "\n",
    "n_users_train = int(ratings_train.user_id.nunique())\n",
    "n_movies_train = int(ratings_train.movie_id.nunique())\n",
    "print(n_users, n_users_train, n_movies, n_movies_train, n_gender, n_occupation)"
   ],
   "metadata": {
    "collapsed": false
   }
  },
  {
   "cell_type": "code",
   "execution_count": 37,
   "outputs": [
    {
     "data": {
      "text/plain": "(5, 1, 3.524453125)"
     },
     "execution_count": 37,
     "metadata": {},
     "output_type": "execute_result"
    }
   ],
   "source": [
    "max_rating = ratings_train['rating'].max()\n",
    "min_rating = ratings_train['rating'].min()\n",
    "av_rating = ratings_train['rating'].mean()\n",
    "max_rating, min_rating, av_rating\n",
    "#(5, 1, 3.524453125)"
   ],
   "metadata": {
    "collapsed": false
   }
  },
  {
   "cell_type": "code",
   "execution_count": 38,
   "outputs": [],
   "source": [
    "from keras.layers import Input, Embedding, Flatten, Dropout, Concatenate, Dense, Activation, Lambda\n",
    "from keras import Model\n",
    "from keras.regularizers import l2\n",
    "from keras.optimizers import Adam"
   ],
   "metadata": {
    "collapsed": false
   }
  },
  {
   "cell_type": "code",
   "execution_count": 39,
   "outputs": [],
   "source": [
    "#! pip install mlflow"
   ],
   "metadata": {
    "collapsed": false
   }
  },
  {
   "cell_type": "code",
   "execution_count": 40,
   "outputs": [
    {
     "name": "stderr",
     "output_type": "stream",
     "text": [
      "2022/12/31 09:48:41 INFO mlflow.tracking.fluent: Autologging successfully enabled for sklearn.\n",
      "2022/12/31 09:48:41 INFO mlflow.tracking.fluent: Autologging successfully enabled for tensorflow.\n"
     ]
    }
   ],
   "source": [
    "import mlflow.keras\n",
    "mlflow.autolog()\n",
    "\n",
    "#! mlflow ui"
   ],
   "metadata": {
    "collapsed": false
   }
  },
  {
   "cell_type": "code",
   "execution_count": 41,
   "outputs": [],
   "source": [
    "batch_size = 64\n",
    "epochs=100\n",
    "learning_rate = 0.0005"
   ],
   "metadata": {
    "collapsed": false
   }
  },
  {
   "cell_type": "code",
   "execution_count": 42,
   "outputs": [
    {
     "name": "stdout",
     "output_type": "stream",
     "text": [
      "Model: \"model_1\"\n",
      "__________________________________________________________________________________________________\n",
      " Layer (type)                   Output Shape         Param #     Connected to                     \n",
      "==================================================================================================\n",
      " Item (InputLayer)              [(None, 1)]          0           []                               \n",
      "                                                                                                  \n",
      " User (InputLayer)              [(None, 1)]          0           []                               \n",
      "                                                                                                  \n",
      " gender (InputLayer)            [(None, 1)]          0           []                               \n",
      "                                                                                                  \n",
      " occupation (InputLayer)        [(None, 1)]          0           []                               \n",
      "                                                                                                  \n",
      " age (InputLayer)               [(None, 1)]          0           []                               \n",
      "                                                                                                  \n",
      " Movie-Embedding (Embedding)    (None, 1, 20)        33660       ['Item[0][0]']                   \n",
      "                                                                                                  \n",
      " User-Embedding (Embedding)     (None, 1, 8)         7552        ['User[0][0]']                   \n",
      "                                                                                                  \n",
      " Gender-Embedding (Embedding)   (None, 1, 1)         2           ['gender[0][0]']                 \n",
      "                                                                                                  \n",
      " Occupation-Embedding (Embeddin  (None, 1, 3)        63          ['occupation[0][0]']             \n",
      " g)                                                                                               \n",
      "                                                                                                  \n",
      " Age-Embedding (Embedding)      (None, 1, 3)         21          ['age[0][0]']                    \n",
      "                                                                                                  \n",
      " FlattenMovies (Flatten)        (None, 20)           0           ['Movie-Embedding[0][0]']        \n",
      "                                                                                                  \n",
      " FlattenUsers (Flatten)         (None, 8)            0           ['User-Embedding[0][0]']         \n",
      "                                                                                                  \n",
      " timestamp (InputLayer)         [(None, 1)]          0           []                               \n",
      "                                                                                                  \n",
      " genre (InputLayer)             [(None, 18)]         0           []                               \n",
      "                                                                                                  \n",
      " FlattenGender (Flatten)        (None, 1)            0           ['Gender-Embedding[0][0]']       \n",
      "                                                                                                  \n",
      " FlattenOccupation (Flatten)    (None, 3)            0           ['Occupation-Embedding[0][0]']   \n",
      "                                                                                                  \n",
      " watchReleaseDiff (InputLayer)  [(None, 1)]          0           []                               \n",
      "                                                                                                  \n",
      " FlattenAge (Flatten)           (None, 3)            0           ['Age-Embedding[0][0]']          \n",
      "                                                                                                  \n",
      " ReleaseYear (InputLayer)       [(None, 1)]          0           []                               \n",
      "                                                                                                  \n",
      " Concat (Concatenate)           (None, 56)           0           ['FlattenMovies[0][0]',          \n",
      "                                                                  'FlattenUsers[0][0]',           \n",
      "                                                                  'timestamp[0][0]',              \n",
      "                                                                  'genre[0][0]',                  \n",
      "                                                                  'FlattenGender[0][0]',          \n",
      "                                                                  'FlattenOccupation[0][0]',      \n",
      "                                                                  'watchReleaseDiff[0][0]',       \n",
      "                                                                  'FlattenAge[0][0]',             \n",
      "                                                                  'ReleaseYear[0][0]']            \n",
      "                                                                                                  \n",
      " dropout_3 (Dropout)            (None, 56)           0           ['Concat[0][0]']                 \n",
      "                                                                                                  \n",
      " FullyConnected-1 (Dense)       (None, 50)           2850        ['dropout_3[0][0]']              \n",
      "                                                                                                  \n",
      " dropout_4 (Dropout)            (None, 50)           0           ['FullyConnected-1[0][0]']       \n",
      "                                                                                                  \n",
      " FullyConnected-2 (Dense)       (None, 50)           2550        ['dropout_4[0][0]']              \n",
      "                                                                                                  \n",
      " dropout_5 (Dropout)            (None, 50)           0           ['FullyConnected-2[0][0]']       \n",
      "                                                                                                  \n",
      " Activation (Dense)             (None, 1)            51          ['dropout_5[0][0]']              \n",
      "                                                                                                  \n",
      " lambda_1 (Lambda)              (None, 1)            0           ['Activation[0][0]']             \n",
      "                                                                                                  \n",
      "==================================================================================================\n",
      "Total params: 46,749\n",
      "Trainable params: 46,749\n",
      "Non-trainable params: 0\n",
      "__________________________________________________________________________________________________\n"
     ]
    }
   ],
   "source": [
    "genre_input = Input(shape=[len(genre)],name='genre')\n",
    "timestamp_input = Input(shape=[1],name='timestamp')\n",
    "\n",
    "movie_input = Input(shape=[1],name='Item')\n",
    "movie_embedding = Embedding(n_movies + 1, 20, name='Movie-Embedding', embeddings_regularizer = l2(learning_rate))(movie_input)\n",
    "movie_vec = Flatten(name='FlattenMovies')(movie_embedding)\n",
    "# movie_vec = Dropout(0.2)(movie_vec)\n",
    "\n",
    "user_input = Input(shape=[1],name='User')\n",
    "user_vec = Flatten(name='FlattenUsers')(Embedding(n_users + 1, 8,name='User-Embedding', embeddings_regularizer = l2(learning_rate))(user_input))\n",
    "# user_vec = Dropout(0.2)(user_vec)\n",
    "\n",
    "gender_input = Input(shape=[1],name='gender')\n",
    "gender_vec = Flatten(name='FlattenGender')(Embedding(n_gender, 1,name='Gender-Embedding', embeddings_regularizer = l2(learning_rate))(gender_input))\n",
    "\n",
    "age_input = Input(shape=[1],name='age')\n",
    "age_vec = Flatten(name='FlattenAge')(Embedding(int(joined.ageRange.nunique()), 3,name='Age-Embedding', embeddings_regularizer = l2(learning_rate))(age_input))\n",
    "\n",
    "occupation_input = Input(shape=[1],name='occupation')\n",
    "occupation_vec = Flatten(name='FlattenOccupation')(Embedding(n_occupation, 3,name='Occupation-Embedding', embeddings_regularizer = l2(learning_rate))(occupation_input))\n",
    "\n",
    "watched_input = Input(shape=[1],name='watchReleaseDiff')\n",
    "\n",
    "release_year_input = Input(shape=[1],name='ReleaseYear')\n",
    "#release_year_vec = Flatten(name='ReleaseYear')(Embedding(int(ratings.ReleaseYear.nunique()), 1,name='ReleaseYear-Embedding', embeddings_regularizer = l2(learning_rate))(release_year_input))\n",
    "\n",
    "concat_nodes = [movie_vec, user_vec, timestamp_input, genre_input]\n",
    "concat_nodes += [gender_vec, occupation_vec, watched_input, age_vec, release_year_input]\n",
    "\n",
    "concat = Concatenate(name='Concat')(concat_nodes)\n",
    "concat = Dropout(0.2)(concat)\n",
    "\n",
    "x = Dense(50,name='FullyConnected-1', activation='relu', kernel_regularizer=l2(learning_rate))(concat)\n",
    "x = Dropout(0.5)(x)\n",
    "x = Dense(50,name='FullyConnected-2', activation='relu')(x)\n",
    "x = Dropout(0.5)(x)\n",
    "\n",
    "\n",
    "\n",
    "## Se pueden sacar las siguientes dos lineas para no forzar a sigmoidea\n",
    "x = Dense(1, activation='sigmoid',name='Activation')(x)\n",
    "x = Lambda(lambda z: (max_rating - min_rating) * z + min_rating)(x)\n",
    "##\n",
    "\n",
    "\n",
    "input_nodes = [user_input, movie_input, timestamp_input, genre_input]\n",
    "input_nodes += [gender_input, occupation_input, watched_input, age_input, release_year_input]\n",
    "\n",
    "inputs_train = [ratings_train.user_id, ratings_train.movie_id, ratings_train.timestamp, ratings_train[genre],\n",
    "                ratings_train.gender, ratings_train.occupation, ratings_train.watchReleaseDiff, ratings_train.ageRange, ratings_train.ReleaseYear]\n",
    "\n",
    "inputs_val = [ratings_val.user_id, ratings_val.movie_id, ratings_val.timestamp, ratings_val[genre],\n",
    "              ratings_val.gender, ratings_val.occupation, ratings_val.watchReleaseDiff, ratings_val.ageRange, ratings_val.ReleaseYear]\n",
    "\n",
    "model = Model(input_nodes, x)\n",
    "model.summary()"
   ],
   "metadata": {
    "collapsed": false
   }
  },
  {
   "cell_type": "code",
   "execution_count": 43,
   "metadata": {},
   "outputs": [],
   "source": [
    "from fnn_helper import PlotLosses\n",
    "plot_losses = PlotLosses(1, None)"
   ]
  },
  {
   "cell_type": "code",
   "execution_count": 44,
   "metadata": {},
   "outputs": [],
   "source": [
    "import keras.backend as K\n",
    "def root_mean_squared_error(y_true, y_pred):\n",
    "    return K.sqrt(K.mean(K.square(y_pred - y_true)))"
   ]
  },
  {
   "cell_type": "code",
   "execution_count": 45,
   "metadata": {},
   "outputs": [],
   "source": [
    "adam = Adam(learning_rate=learning_rate)\n",
    "model.compile(optimizer=adam,loss= 'mean_squared_error', metrics=[root_mean_squared_error])"
   ]
  },
  {
   "cell_type": "code",
   "execution_count": 46,
   "metadata": {},
   "outputs": [],
   "source": [
    "from keras.callbacks import ModelCheckpoint\n",
    "checkpointer = ModelCheckpoint(filepath=PATH_PROCESSED + 'fv_weights.hdf5', verbose=1, save_best_only=True, monitor='val_root_mean_squared_error')"
   ]
  },
  {
   "cell_type": "code",
   "execution_count": 47,
   "outputs": [
    {
     "data": {
      "text/plain": "-135.63019770097566"
     },
     "execution_count": 47,
     "metadata": {},
     "output_type": "execute_result"
    }
   ],
   "source": [
    "ratings_train.timestamp[79999]\n",
    "ratings_train.ReleaseYear[79999]\n",
    "#numpy.int64"
   ],
   "metadata": {
    "collapsed": false
   }
  },
  {
   "cell_type": "code",
   "execution_count": 48,
   "outputs": [
    {
     "name": "stdout",
     "output_type": "stream",
     "text": [
      "0 <class 'pandas.core.series.Series'> 64000 <class 'numpy.int64'> 290\n",
      "1 <class 'pandas.core.series.Series'> 64000 <class 'numpy.int64'> 135\n",
      "2 <class 'pandas.core.series.Series'> 64000 <class 'numpy.float64'> -0.5811537671890522\n",
      "3 <class 'pandas.core.frame.DataFrame'> 64000 <class 'pandas.core.series.Series'> action         1\n",
      "adventure      1\n",
      "animation      0\n",
      "children       0\n",
      "comedy         0\n",
      "crime          0\n",
      "documentary    0\n",
      "drama          0\n",
      "fantasy        0\n",
      "film-noir      0\n",
      "horror         0\n",
      "musical        0\n",
      "mystery        0\n",
      "romance        0\n",
      "sci-fi         1\n",
      "thriller       0\n",
      "war            1\n",
      "western        0\n",
      "Name: 16000, dtype: int64\n",
      "4 <class 'pandas.core.series.Series'> 64000 <class 'numpy.int64'> 1\n",
      "5 <class 'pandas.core.series.Series'> 64000 <class 'numpy.int64'> 4\n",
      "6 <class 'pandas.core.series.Series'> 64000 <class 'numpy.float64'> -0.6299736928734406\n",
      "7 <class 'pandas.core.series.Series'> 64000 <class 'numpy.int64'> 2\n",
      "8 <class 'pandas.core.series.Series'> 64000 <class 'numpy.float64'> -135.41849202884467\n"
     ]
    }
   ],
   "source": [
    "# Verify input values\n",
    "for i in range(len(inputs_train)):\n",
    "    print(i, type(inputs_train[i]), len(inputs_train[i]), type(inputs_train[i].iloc[0]), inputs_train[i].iloc[0])"
   ],
   "metadata": {
    "collapsed": false
   }
  },
  {
   "cell_type": "code",
   "execution_count": 49,
   "metadata": {},
   "outputs": [
    {
     "data": {
      "text/plain": "<Figure size 1440x360 with 2 Axes>",
      "image/png": "[encoded data removed]"
     },
     "metadata": {
      "needs_background": "light"
     },
     "output_type": "display_data"
    },
    {
     "name": "stdout",
     "output_type": "stream",
     "text": [
      "\n",
      "Epoch 100: val_root_mean_squared_error did not improve from 1.14160\n",
      "1000/1000 - 2s - loss: 1.1781 - root_mean_squared_error: 1.0757 - val_loss: 1.3600 - val_root_mean_squared_error: 1.1422 - 2s/epoch - 2ms/step\n"
     ]
    },
    {
     "name": "stderr",
     "output_type": "stream",
     "text": [
      "2022/12/31 09:52:38 WARNING mlflow.tensorflow: Failed to infer model signature: could not sample data to infer model signature: Cannot log input example or model signature for input with type <class 'list'>. TensorFlow Keras autologging can only log input examples and model signatures for the following input types: numpy.ndarray, dict[string -> numpy.ndarray], tensorflow.keras.utils.Sequence, and tensorflow.data.Dataset (TensorFlow >= 2.1.0 required)\n",
      "WARNING:absl:Function `_wrapped_model` contains input name(s) User, Item, watchReleaseDiff, ReleaseYear with unsupported characters which will be renamed to user, item, watchreleasediff, releaseyear in the SavedModel.\n"
     ]
    },
    {
     "name": "stdout",
     "output_type": "stream",
     "text": [
      "INFO:tensorflow:Assets written to: /var/folders/46/12xscy9x3r74df50b6lw_rvr0000gn/T/tmpl28nf4oo/model/data/model/assets\n"
     ]
    },
    {
     "name": "stderr",
     "output_type": "stream",
     "text": [
      "INFO:tensorflow:Assets written to: /var/folders/46/12xscy9x3r74df50b6lw_rvr0000gn/T/tmpl28nf4oo/model/data/model/assets\n",
      "2022/12/31 09:52:50 WARNING mlflow.utils.environment: Encountered an unexpected error while inferring pip requirements (model URI: /var/folders/46/12xscy9x3r74df50b6lw_rvr0000gn/T/tmpl28nf4oo/model, flavor: tensorflow), fall back to return ['tensorflow==2.10.0']. Set logging level to DEBUG to see the full traceback.\n"
     ]
    },
    {
     "name": "stdout",
     "output_type": "stream",
     "text": [
      "CPU times: user 6min, sys: 1min 22s, total: 7min 22s\n",
      "Wall time: 4min 8s\n"
     ]
    }
   ],
   "source": [
    "%%time\n",
    "\n",
    "history = model.fit(inputs_train,\n",
    "                    ratings_train.rating,\n",
    "                    validation_data=(inputs_val,\n",
    "                       ratings_val.rating),\n",
    "                    batch_size = batch_size,\n",
    "                    callbacks = [plot_losses, checkpointer],\n",
    "                    epochs=epochs, verbose=2)"
   ]
  },
  {
   "cell_type": "code",
   "execution_count": 50,
   "outputs": [],
   "source": [
    "model.save(PATH_PROCESSED + 'fv_model.h5')"
   ],
   "metadata": {
    "collapsed": false
   }
  },
  {
   "cell_type": "code",
   "execution_count": 51,
   "metadata": {},
   "outputs": [
    {
     "name": "stdout",
     "output_type": "stream",
     "text": [
      "500/500 [==============================] - 1s 2ms/step - loss: 1.3600 - root_mean_squared_error: 1.1356\n"
     ]
    },
    {
     "data": {
      "text/plain": "[1.3600239753723145, 1.135568618774414]"
     },
     "execution_count": 51,
     "metadata": {},
     "output_type": "execute_result"
    }
   ],
   "source": [
    "model.evaluate(inputs_val, ratings_val.rating)"
   ]
  },
  {
   "cell_type": "code",
   "execution_count": 52,
   "metadata": {},
   "outputs": [],
   "source": [
    "model.load_weights(PATH_PROCESSED + 'fv_weights.hdf5')"
   ]
  },
  {
   "cell_type": "code",
   "execution_count": 53,
   "outputs": [
    {
     "name": "stdout",
     "output_type": "stream",
     "text": [
      "500/500 [==============================] - 1s 2ms/step - loss: 1.3598 - root_mean_squared_error: 1.1349\n",
      "1.3598155975341797 1.1348590850830078\n"
     ]
    }
   ],
   "source": [
    "loss, acc = model.evaluate(inputs_val, ratings_val.rating)\n",
    "print(loss, acc)"
   ],
   "metadata": {
    "collapsed": false
   }
  },
  {
   "cell_type": "markdown",
   "metadata": {},
   "source": [
    "# Embeddings"
   ]
  },
  {
   "cell_type": "code",
   "execution_count": 54,
   "outputs": [
    {
     "data": {
      "text/plain": "('Movie-Embedding', 'User-Embedding')"
     },
     "execution_count": 54,
     "metadata": {},
     "output_type": "execute_result"
    }
   ],
   "source": [
    "movie_embeddings_layer = model.layers[5]\n",
    "user_embeddings_layer = model.layers[6]\n",
    "movie_embeddings_layer.name, user_embeddings_layer.name"
   ],
   "metadata": {
    "collapsed": false
   }
  },
  {
   "cell_type": "code",
   "execution_count": 55,
   "outputs": [
    {
     "data": {
      "text/plain": "((1683, 20), (944, 8))"
     },
     "execution_count": 55,
     "metadata": {},
     "output_type": "execute_result"
    }
   ],
   "source": [
    "movie_embeddings_matrix = movie_embeddings_layer.get_weights()[0]\n",
    "user_embeddings_matrix = user_embeddings_layer.get_weights()[0]\n",
    "movie_embeddings_matrix.shape, user_embeddings_matrix.shape"
   ],
   "metadata": {
    "collapsed": false
   }
  },
  {
   "cell_type": "code",
   "execution_count": 56,
   "outputs": [],
   "source": [
    "model_test_emb = Model([movie_input], [movie_embedding])"
   ],
   "metadata": {
    "collapsed": false
   }
  },
  {
   "cell_type": "code",
   "execution_count": 57,
   "outputs": [
    {
     "name": "stdout",
     "output_type": "stream",
     "text": [
      "1/1 [==============================] - 0s 86ms/step\n"
     ]
    },
    {
     "data": {
      "text/plain": "'Spellbound (1945)'"
     },
     "execution_count": 57,
     "metadata": {},
     "output_type": "execute_result"
    }
   ],
   "source": [
    "index = 424 #6\n",
    "movie_embed = model_test_emb.predict([index])\n",
    "item.loc[idx2Movie[index]].movie_title"
   ],
   "metadata": {
    "collapsed": false
   }
  },
  {
   "cell_type": "code",
   "execution_count": 58,
   "outputs": [],
   "source": [
    "from sklearn.neighbors import NearestNeighbors"
   ],
   "metadata": {
    "collapsed": false
   }
  },
  {
   "cell_type": "code",
   "execution_count": 59,
   "outputs": [
    {
     "name": "stderr",
     "output_type": "stream",
     "text": [
      "2022/12/31 09:52:54 INFO mlflow.utils.autologging_utils: Created MLflow autologging run with ID '8ea3aee033584f58a4560ee5595d222d', which will track hyperparameters, performance metrics, model artifacts, and lineage information for the current sklearn workflow\n",
      "2022/12/31 09:52:54 WARNING mlflow.sklearn: Training metrics will not be recorded because training labels were not specified. To automatically record training metrics, provide training labels as inputs to the model training function.\n",
      "2022/12/31 09:52:54 WARNING mlflow.sklearn: Failed to infer model signature: the trained model does not specify a `predict` function, which is required in order to infer the signature\n",
      "2022/12/31 09:52:54 WARNING mlflow.sklearn: Model was missing function: predict. Not logging python_function flavor!\n"
     ]
    }
   ],
   "source": [
    "nbrs = NearestNeighbors(n_neighbors=10, metric='cosine').fit(movie_embeddings_matrix)"
   ],
   "metadata": {
    "collapsed": false
   }
  },
  {
   "cell_type": "code",
   "execution_count": 60,
   "outputs": [],
   "source": [
    "neighbors = nbrs.kneighbors([movie_embeddings_matrix[index]])"
   ],
   "metadata": {
    "collapsed": false
   }
  },
  {
   "cell_type": "code",
   "execution_count": 61,
   "outputs": [
    {
     "data": {
      "text/plain": "(array([[5.9604645e-08, 2.6663065e-02, 3.1450927e-02, 3.2612860e-02,\n         3.6220193e-02, 3.6389112e-02, 4.1541219e-02, 4.2056262e-02,\n         4.2098701e-02, 4.3205321e-02]], dtype=float32),\n array([[ 424,  112,  174, 1284, 1567,   87,  746,   47,  347,   37]]))"
     },
     "execution_count": 61,
     "metadata": {},
     "output_type": "execute_result"
    }
   ],
   "source": [
    "neighbors"
   ],
   "metadata": {
    "collapsed": false
   }
  },
  {
   "cell_type": "code",
   "execution_count": 62,
   "outputs": [
    {
     "name": "stdout",
     "output_type": "stream",
     "text": [
      "Spellbound (1945)\n",
      "Bram Stoker's Dracula (1992)\n",
      "Mother (1996)\n",
      "Mighty, The (1998)\n",
      "Hush (1998)\n",
      "Manon of the Spring (Manon des sources) (1986)\n",
      "Twelve Monkeys (1995)\n",
      "Robert A. Heinlein's The Puppet Masters (1994)\n",
      "Return of the Jedi (1983)\n",
      "Quiz Show (1994)\n"
     ]
    }
   ],
   "source": [
    "for idx in neighbors[1][0]:\n",
    "    print(item.loc[idx2Movie[idx]].movie_title)"
   ],
   "metadata": {
    "collapsed": false
   }
  },
  {
   "cell_type": "code",
   "execution_count": 63,
   "metadata": {},
   "outputs": [
    {
     "name": "stdout",
     "output_type": "stream",
     "text": [
      "date and time = 31/12/2022 09:52:59\n"
     ]
    }
   ],
   "source": [
    "from datetime import datetime\n",
    "\n",
    "# datetime object containing current date and time\n",
    "now = datetime.now()\n",
    "# dd/mm/YY H:M:S\n",
    "dt_string = now.strftime(\"%d/%m/%Y %H:%M:%S\")\n",
    "print(\"date and time =\", dt_string)"
   ]
  },
  {
   "cell_type": "code",
   "execution_count": 63,
   "outputs": [],
   "source": [],
   "metadata": {
    "collapsed": false
   }
  },
  {
   "cell_type": "code",
   "execution_count": 63,
   "outputs": [],
   "source": [],
   "metadata": {
    "collapsed": false
   }
  }
 ],
 "metadata": {
  "kernelspec": {
   "display_name": "Python 3",
   "language": "python",
   "name": "python3"
  },
  "language_info": {
   "codemirror_mode": {
    "name": "ipython",
    "version": 3
   },
   "file_extension": ".py",
   "mimetype": "text/x-python",
   "name": "python",
   "nbconvert_exporter": "python",
   "pygments_lexer": "ipython3",
   "version": "3.6.8"
  }
 },
 "nbformat": 4,
 "nbformat_minor": 2
}
