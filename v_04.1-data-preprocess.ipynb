{
 "cells": [
  {
   "cell_type": "code",
   "execution_count": 1,
   "metadata": {},
   "outputs": [],
   "source": [
    "#!pip install isoweek\n",
    "#!pip install pyarrow"
   ]
  },
  {
   "cell_type": "code",
   "execution_count": 2,
   "metadata": {},
   "outputs": [],
   "source": [
    "import pandas as pd\n",
    "import numpy as np\n",
    "import datetime\n",
    "# pip install isoweek\n",
    "from isoweek import Week\n",
    "from pandas_summary import DataFrameSummary\n",
    "from datetime import datetime"
   ]
  },
  {
   "cell_type": "code",
   "execution_count": 3,
   "metadata": {},
   "outputs": [],
   "source": [
    "PATH_PROCESSED='processed/'\n",
    "PATH = 'dataset/'\n",
    "\n",
    "user, occupation = [pd.read_csv(PATH + fname+'.csv', low_memory=False, sep=\"|\") for fname in ['user', 'occupation']]\n",
    "info, train = [pd.read_csv(PATH + fname+'.csv', low_memory=False, sep=\"\\t\") for fname in ['info', 'train']]\n",
    "test = pd.read_csv(PATH + 'test.csv', low_memory=False, sep=\",\")\n",
    "item = pd.read_csv(PATH + 'item.csv',  low_memory=False, encoding='latin-1', sep=\"|\")\n",
    "\n",
    "item.rename( columns={'movieId' :'movie_id', 'movieTitle' :'movie_title', 'release date' :'release_date', 'video release date' :'video_release_date', 'IMDb URL' :'imdb_url', 'unknown' :'unknown', 'Action' :'action', 'Adventure' :'adventure', 'Animation' :'animation', 'Children\\'s' :'children', 'Comedy' :'comedy', 'Crime' :'crime', 'Documentary' :'documentary', 'Drama' :'drama', 'Fantasy' :'fantasy', 'Film-Noir' :'film-noir', 'Horror' :'horror', 'Musical' :'musical', 'Mystery' :'mystery', 'Romance' :'romance', 'Sci-Fi' :'sci-fi', 'Thriller' :'thriller', 'War' :'war', 'Western' :'western'}, inplace=True)\n",
    "\n",
    "user.rename( columns={'user id' :'user_id', 'age' :'age', 'gender' :'gender', 'occupation' :'occupation', 'zip code' :'zip_code'}, inplace=True)\n",
    "\n",
    "train.rename( columns={'userId' :'user_id', 'movieId' :'movie_id'}, inplace=True)\n",
    "test.rename( columns={'Id' :'id', 'userId' :'user_id', 'movieId' :'movie_id'}, inplace=True)\n",
    "#data = train + test\n",
    "data = train\n",
    "ratings = data\n",
    "\n",
    "u_unique = data.user_id.unique()\n",
    "user2Idx = {o:i+1 for i,o in enumerate(u_unique)}\n",
    "\n",
    "m_unique = data.movie_id.unique()\n",
    "movie2Idx = {o:i+1 for i,o in enumerate(m_unique)}"
   ]
  },
  {
   "cell_type": "code",
   "execution_count": 4,
   "outputs": [],
   "source": [
    "table_names = ['user', 'item']\n",
    "dfs = [user, item]"
   ],
   "metadata": {
    "collapsed": false
   }
  },
  {
   "cell_type": "code",
   "execution_count": 5,
   "outputs": [
    {
     "name": "stdout",
     "output_type": "stream",
     "text": [
      "893286638\n"
     ]
    }
   ],
   "source": [
    "# Max timestamp = 893286638\n",
    "print(max(data.timestamp))\n",
    "date_today=max(data.timestamp)\n",
    "timestamp_today = datetime.fromtimestamp(date_today)"
   ],
   "metadata": {
    "collapsed": false
   }
  },
  {
   "cell_type": "markdown",
   "metadata": {
    "jp-MarkdownHeadingCollapsed": true,
    "tags": []
   },
   "source": [
    "# Missing data"
   ]
  },
  {
   "cell_type": "code",
   "execution_count": 6,
   "metadata": {},
   "outputs": [],
   "source": [
    "def get_missing_columns(df):\n",
    "    return list(df.columns[df.describe(include = 'all').loc['count']<len(df)])"
   ]
  },
  {
   "cell_type": "code",
   "execution_count": 7,
   "metadata": {},
   "outputs": [
    {
     "name": "stdout",
     "output_type": "stream",
     "text": [
      "user []\n",
      "item ['release_date', 'video_release_date', 'imdb_url']\n"
     ]
    }
   ],
   "source": [
    "for i, df in enumerate(dfs):\n",
    "    print(table_names[i], get_missing_columns(df))"
   ]
  },
  {
   "cell_type": "code",
   "execution_count": 8,
   "outputs": [],
   "source": [
    "# Create a NEW user without votes\n",
    "if len(user[user['user_id'] == 944]) < 1:\n",
    "    theNewUser = {\n",
    "        'user_id': [944, 945],\n",
    "        'age': [24, 28],\n",
    "        'gender': ['M', 'F'],\n",
    "        'occupation': ['technician', 'writer'],\n",
    "        'zip_code': [85711, 94043]\n",
    "    }\n",
    "\n",
    "    newUsers = pd.DataFrame(theNewUser)\n",
    "    newUsers.to_csv(PATH + 'u.user', mode='a', index=False, header=False, sep=\"|\")"
   ],
   "metadata": {
    "collapsed": false
   }
  },
  {
   "cell_type": "code",
   "execution_count": 9,
   "outputs": [
    {
     "data": {
      "text/plain": "                movie_id  movie_title release_date video_release_date  \\\ncount             1682.0          NaN          NaN                0.0   \nmean               841.5          NaN          NaN                NaN   \nstd           485.695893          NaN          NaN                NaN   \nmin                  1.0          NaN          NaN                NaN   \n25%               421.25          NaN          NaN                NaN   \n50%                841.5          NaN          NaN                NaN   \n75%              1261.75          NaN          NaN                NaN   \nmax               1682.0          NaN          NaN                NaN   \ncounts              1682         1682         1682                  0   \nuniques             1682         1664          241                  0   \nmissing                0            0            0               1682   \nmissing_perc          0%           0%           0%               100%   \ntypes            numeric  categorical  categorical            numeric   \n\n                 imdb_url   unknown    action adventure animation  children  \\\ncount                 NaN    1682.0    1682.0    1682.0    1682.0    1682.0   \nmean                  NaN  0.001189  0.149227  0.080262   0.02497  0.072533   \nstd                   NaN  0.034473  0.356418  0.271779  0.156081  0.259445   \nmin                   NaN       0.0       0.0       0.0       0.0       0.0   \n25%                   NaN       0.0       0.0       0.0       0.0       0.0   \n50%                   NaN       0.0       0.0       0.0       0.0       0.0   \n75%                   NaN       0.0       0.0       0.0       0.0       0.0   \nmax                   NaN       1.0       1.0       1.0       1.0       1.0   \ncounts               1679      1682      1682      1682      1682      1682   \nuniques              1660         2         2         2         2         2   \nmissing                 3         0         0         0         0         0   \nmissing_perc        0.18%        0%        0%        0%        0%        0%   \ntypes         categorical      bool      bool      bool      bool      bool   \n\n              ...  fantasy film-noir    horror   musical   mystery   romance  \\\ncount         ...   1682.0    1682.0    1682.0    1682.0    1682.0    1682.0   \nmean          ...  0.01308  0.014269  0.054697  0.033294  0.036266  0.146849   \nstd           ...  0.11365  0.118632  0.227455  0.179456  0.187008  0.354061   \nmin           ...      0.0       0.0       0.0       0.0       0.0       0.0   \n25%           ...      0.0       0.0       0.0       0.0       0.0       0.0   \n50%           ...      0.0       0.0       0.0       0.0       0.0       0.0   \n75%           ...      0.0       0.0       0.0       0.0       0.0       0.0   \nmax           ...      1.0       1.0       1.0       1.0       1.0       1.0   \ncounts        ...     1682      1682      1682      1682      1682      1682   \nuniques       ...        2         2         2         2         2         2   \nmissing       ...        0         0         0         0         0         0   \nmissing_perc  ...       0%        0%        0%        0%        0%        0%   \ntypes         ...     bool      bool      bool      bool      bool      bool   \n\n                sci-fi  thriller       war   western  \ncount           1682.0    1682.0    1682.0    1682.0  \nmean          0.060048  0.149227  0.042212  0.016052  \nstd           0.237646  0.356418  0.201131  0.125714  \nmin                0.0       0.0       0.0       0.0  \n25%                0.0       0.0       0.0       0.0  \n50%                0.0       0.0       0.0       0.0  \n75%                0.0       0.0       0.0       0.0  \nmax                1.0       1.0       1.0       1.0  \ncounts            1682      1682      1682      1682  \nuniques              2         2         2         2  \nmissing              0         0         0         0  \nmissing_perc        0%        0%        0%        0%  \ntypes             bool      bool      bool      bool  \n\n[13 rows x 24 columns]",
      "text/html": "<div>\n<style scoped>\n    .dataframe tbody tr th:only-of-type {\n        vertical-align: middle;\n    }\n\n    .dataframe tbody tr th {\n        vertical-align: top;\n    }\n\n    .dataframe thead th {\n        text-align: right;\n    }\n</style>\n<table border=\"1\" class=\"dataframe\">\n  <thead>\n    <tr style=\"text-align: right;\">\n      <th></th>\n      <th>movie_id</th>\n      <th>movie_title</th>\n      <th>release_date</th>\n      <th>video_release_date</th>\n      <th>imdb_url</th>\n      <th>unknown</th>\n      <th>action</th>\n      <th>adventure</th>\n      <th>animation</th>\n      <th>children</th>\n      <th>...</th>\n      <th>fantasy</th>\n      <th>film-noir</th>\n      <th>horror</th>\n      <th>musical</th>\n      <th>mystery</th>\n      <th>romance</th>\n      <th>sci-fi</th>\n      <th>thriller</th>\n      <th>war</th>\n      <th>western</th>\n    </tr>\n  </thead>\n  <tbody>\n    <tr>\n      <th>count</th>\n      <td>1682.0</td>\n      <td>NaN</td>\n      <td>NaN</td>\n      <td>0.0</td>\n      <td>NaN</td>\n      <td>1682.0</td>\n      <td>1682.0</td>\n      <td>1682.0</td>\n      <td>1682.0</td>\n      <td>1682.0</td>\n      <td>...</td>\n      <td>1682.0</td>\n      <td>1682.0</td>\n      <td>1682.0</td>\n      <td>1682.0</td>\n      <td>1682.0</td>\n      <td>1682.0</td>\n      <td>1682.0</td>\n      <td>1682.0</td>\n      <td>1682.0</td>\n      <td>1682.0</td>\n    </tr>\n    <tr>\n      <th>mean</th>\n      <td>841.5</td>\n      <td>NaN</td>\n      <td>NaN</td>\n      <td>NaN</td>\n      <td>NaN</td>\n      <td>0.001189</td>\n      <td>0.149227</td>\n      <td>0.080262</td>\n      <td>0.02497</td>\n      <td>0.072533</td>\n      <td>...</td>\n      <td>0.01308</td>\n      <td>0.014269</td>\n      <td>0.054697</td>\n      <td>0.033294</td>\n      <td>0.036266</td>\n      <td>0.146849</td>\n      <td>0.060048</td>\n      <td>0.149227</td>\n      <td>0.042212</td>\n      <td>0.016052</td>\n    </tr>\n    <tr>\n      <th>std</th>\n      <td>485.695893</td>\n      <td>NaN</td>\n      <td>NaN</td>\n      <td>NaN</td>\n      <td>NaN</td>\n      <td>0.034473</td>\n      <td>0.356418</td>\n      <td>0.271779</td>\n      <td>0.156081</td>\n      <td>0.259445</td>\n      <td>...</td>\n      <td>0.11365</td>\n      <td>0.118632</td>\n      <td>0.227455</td>\n      <td>0.179456</td>\n      <td>0.187008</td>\n      <td>0.354061</td>\n      <td>0.237646</td>\n      <td>0.356418</td>\n      <td>0.201131</td>\n      <td>0.125714</td>\n    </tr>\n    <tr>\n      <th>min</th>\n      <td>1.0</td>\n      <td>NaN</td>\n      <td>NaN</td>\n      <td>NaN</td>\n      <td>NaN</td>\n      <td>0.0</td>\n      <td>0.0</td>\n      <td>0.0</td>\n      <td>0.0</td>\n      <td>0.0</td>\n      <td>...</td>\n      <td>0.0</td>\n      <td>0.0</td>\n      <td>0.0</td>\n      <td>0.0</td>\n      <td>0.0</td>\n      <td>0.0</td>\n      <td>0.0</td>\n      <td>0.0</td>\n      <td>0.0</td>\n      <td>0.0</td>\n    </tr>\n    <tr>\n      <th>25%</th>\n      <td>421.25</td>\n      <td>NaN</td>\n      <td>NaN</td>\n      <td>NaN</td>\n      <td>NaN</td>\n      <td>0.0</td>\n      <td>0.0</td>\n      <td>0.0</td>\n      <td>0.0</td>\n      <td>0.0</td>\n      <td>...</td>\n      <td>0.0</td>\n      <td>0.0</td>\n      <td>0.0</td>\n      <td>0.0</td>\n      <td>0.0</td>\n      <td>0.0</td>\n      <td>0.0</td>\n      <td>0.0</td>\n      <td>0.0</td>\n      <td>0.0</td>\n    </tr>\n    <tr>\n      <th>50%</th>\n      <td>841.5</td>\n      <td>NaN</td>\n      <td>NaN</td>\n      <td>NaN</td>\n      <td>NaN</td>\n      <td>0.0</td>\n      <td>0.0</td>\n      <td>0.0</td>\n      <td>0.0</td>\n      <td>0.0</td>\n      <td>...</td>\n      <td>0.0</td>\n      <td>0.0</td>\n      <td>0.0</td>\n      <td>0.0</td>\n      <td>0.0</td>\n      <td>0.0</td>\n      <td>0.0</td>\n      <td>0.0</td>\n      <td>0.0</td>\n      <td>0.0</td>\n    </tr>\n    <tr>\n      <th>75%</th>\n      <td>1261.75</td>\n      <td>NaN</td>\n      <td>NaN</td>\n      <td>NaN</td>\n      <td>NaN</td>\n      <td>0.0</td>\n      <td>0.0</td>\n      <td>0.0</td>\n      <td>0.0</td>\n      <td>0.0</td>\n      <td>...</td>\n      <td>0.0</td>\n      <td>0.0</td>\n      <td>0.0</td>\n      <td>0.0</td>\n      <td>0.0</td>\n      <td>0.0</td>\n      <td>0.0</td>\n      <td>0.0</td>\n      <td>0.0</td>\n      <td>0.0</td>\n    </tr>\n    <tr>\n      <th>max</th>\n      <td>1682.0</td>\n      <td>NaN</td>\n      <td>NaN</td>\n      <td>NaN</td>\n      <td>NaN</td>\n      <td>1.0</td>\n      <td>1.0</td>\n      <td>1.0</td>\n      <td>1.0</td>\n      <td>1.0</td>\n      <td>...</td>\n      <td>1.0</td>\n      <td>1.0</td>\n      <td>1.0</td>\n      <td>1.0</td>\n      <td>1.0</td>\n      <td>1.0</td>\n      <td>1.0</td>\n      <td>1.0</td>\n      <td>1.0</td>\n      <td>1.0</td>\n    </tr>\n    <tr>\n      <th>counts</th>\n      <td>1682</td>\n      <td>1682</td>\n      <td>1682</td>\n      <td>0</td>\n      <td>1679</td>\n      <td>1682</td>\n      <td>1682</td>\n      <td>1682</td>\n      <td>1682</td>\n      <td>1682</td>\n      <td>...</td>\n      <td>1682</td>\n      <td>1682</td>\n      <td>1682</td>\n      <td>1682</td>\n      <td>1682</td>\n      <td>1682</td>\n      <td>1682</td>\n      <td>1682</td>\n      <td>1682</td>\n      <td>1682</td>\n    </tr>\n    <tr>\n      <th>uniques</th>\n      <td>1682</td>\n      <td>1664</td>\n      <td>241</td>\n      <td>0</td>\n      <td>1660</td>\n      <td>2</td>\n      <td>2</td>\n      <td>2</td>\n      <td>2</td>\n      <td>2</td>\n      <td>...</td>\n      <td>2</td>\n      <td>2</td>\n      <td>2</td>\n      <td>2</td>\n      <td>2</td>\n      <td>2</td>\n      <td>2</td>\n      <td>2</td>\n      <td>2</td>\n      <td>2</td>\n    </tr>\n    <tr>\n      <th>missing</th>\n      <td>0</td>\n      <td>0</td>\n      <td>0</td>\n      <td>1682</td>\n      <td>3</td>\n      <td>0</td>\n      <td>0</td>\n      <td>0</td>\n      <td>0</td>\n      <td>0</td>\n      <td>...</td>\n      <td>0</td>\n      <td>0</td>\n      <td>0</td>\n      <td>0</td>\n      <td>0</td>\n      <td>0</td>\n      <td>0</td>\n      <td>0</td>\n      <td>0</td>\n      <td>0</td>\n    </tr>\n    <tr>\n      <th>missing_perc</th>\n      <td>0%</td>\n      <td>0%</td>\n      <td>0%</td>\n      <td>100%</td>\n      <td>0.18%</td>\n      <td>0%</td>\n      <td>0%</td>\n      <td>0%</td>\n      <td>0%</td>\n      <td>0%</td>\n      <td>...</td>\n      <td>0%</td>\n      <td>0%</td>\n      <td>0%</td>\n      <td>0%</td>\n      <td>0%</td>\n      <td>0%</td>\n      <td>0%</td>\n      <td>0%</td>\n      <td>0%</td>\n      <td>0%</td>\n    </tr>\n    <tr>\n      <th>types</th>\n      <td>numeric</td>\n      <td>categorical</td>\n      <td>categorical</td>\n      <td>numeric</td>\n      <td>categorical</td>\n      <td>bool</td>\n      <td>bool</td>\n      <td>bool</td>\n      <td>bool</td>\n      <td>bool</td>\n      <td>...</td>\n      <td>bool</td>\n      <td>bool</td>\n      <td>bool</td>\n      <td>bool</td>\n      <td>bool</td>\n      <td>bool</td>\n      <td>bool</td>\n      <td>bool</td>\n      <td>bool</td>\n      <td>bool</td>\n    </tr>\n  </tbody>\n</table>\n<p>13 rows × 24 columns</p>\n</div>"
     },
     "metadata": {},
     "output_type": "display_data"
    }
   ],
   "source": [
    "item.loc[item['release_date'].isna() | (len(item['release_date'])<2), 'release_date'] = np.int32(1990)\n",
    "display(DataFrameSummary(item).summary())"
   ],
   "metadata": {
    "collapsed": false
   }
  },
  {
   "cell_type": "code",
   "execution_count": 10,
   "metadata": {},
   "outputs": [
    {
     "name": "stdout",
     "output_type": "stream",
     "text": [
      "user []\n",
      "item ['video_release_date', 'imdb_url']\n"
     ]
    }
   ],
   "source": [
    "for i, df in enumerate(dfs):\n",
    "    print(table_names[i], get_missing_columns(df))"
   ]
  },
  {
   "cell_type": "markdown",
   "metadata": {
    "jp-MarkdownHeadingCollapsed": true,
    "tags": []
   },
   "source": [
    "# Paso a fecha algunas columnas para despues poder ponerla en días respecto a fecha"
   ]
  },
  {
   "cell_type": "code",
   "execution_count": 11,
   "outputs": [],
   "source": [
    "item['release_date'] = item['release_date'].apply(lambda x: str(x))"
   ],
   "metadata": {
    "collapsed": false
   }
  },
  {
   "cell_type": "markdown",
   "metadata": {},
   "source": [
    "# Función para hacer el join"
   ]
  },
  {
   "cell_type": "code",
   "execution_count": 12,
   "metadata": {},
   "outputs": [],
   "source": [
    "def join_df(left, right, left_on, right_on=None):\n",
    "    if right_on is None: right_on = left_on\n",
    "    return left.merge(right, how='left', left_on=left_on, right_on=right_on, \n",
    "                      suffixes=(\"\", \"_y\"))"
   ]
  },
  {
   "cell_type": "code",
   "execution_count": 13,
   "outputs": [
    {
     "data": {
      "text/plain": "       user_id  movie_id  rating  timestamp  \\\n0            1         1       5  874965758   \n1            1         2       3  876893171   \n2            1         3       4  878542960   \n3            1         4       3  876893119   \n4            1         5       3  889751712   \n...        ...       ...     ...        ...   \n79995      943      1067       2  875501756   \n79996      943      1074       4  888640250   \n79997      943      1188       3  888640250   \n79998      943      1228       3  888640275   \n79999      943      1330       3  888692465   \n\n                                movie_title release_date  video_release_date  \\\n0                          Toy Story (1995)  01-Jan-1995                 NaN   \n1                          GoldenEye (1995)  01-Jan-1995                 NaN   \n2                         Four Rooms (1995)  01-Jan-1995                 NaN   \n3                         Get Shorty (1995)  01-Jan-1995                 NaN   \n4                            Copycat (1995)  01-Jan-1995                 NaN   \n...                                     ...          ...                 ...   \n79995                  Bottle Rocket (1996)  21-Feb-1996                 NaN   \n79996                  Reality Bites (1994)  01-Jan-1994                 NaN   \n79997                  Young Guns II (1990)  01-Jan-1990                 NaN   \n79998  Under Siege 2: Dark Territory (1995)  01-Jan-1995                 NaN   \n79999        An Unforgettable Summer (1994)  01-Jan-1994                 NaN   \n\n                                                imdb_url  unknown  action  \\\n0      http://us.imdb.com/M/title-exact?Toy%20Story%2...        0       0   \n1      http://us.imdb.com/M/title-exact?GoldenEye%20(...        0       1   \n2      http://us.imdb.com/M/title-exact?Four%20Rooms%...        0       0   \n3      http://us.imdb.com/M/title-exact?Get%20Shorty%...        0       1   \n4      http://us.imdb.com/M/title-exact?Copycat%20(1995)        0       0   \n...                                                  ...      ...     ...   \n79995  http://us.imdb.com/M/title-exact?Bottle%20Rock...        0       0   \n79996  http://us.imdb.com/M/title-exact?Reality%20Bit...        0       0   \n79997  http://us.imdb.com/M/title-exact?Young%20Guns%...        0       1   \n79998  http://us.imdb.com/M/title-exact?Under%20Siege...        0       1   \n79999  http://us.imdb.com/Title?Un+%E9t%E9+inoubliabl...        0       0   \n\n       ...  mystery  romance  sci-fi  thriller  war  western  age  gender  \\\n0      ...        0        0       0         0    0        0   24       M   \n1      ...        0        0       0         1    0        0   24       M   \n2      ...        0        0       0         1    0        0   24       M   \n3      ...        0        0       0         0    0        0   24       M   \n4      ...        0        0       0         1    0        0   24       M   \n...    ...      ...      ...     ...       ...  ...      ...  ...     ...   \n79995  ...        0        0       0         0    0        0   22       M   \n79996  ...        0        0       0         0    0        0   22       M   \n79997  ...        0        0       0         0    0        1   22       M   \n79998  ...        0        0       0         0    0        0   22       M   \n79999  ...        0        0       0         0    0        0   22       M   \n\n       occupation  zip_code  \n0      technician     85711  \n1      technician     85711  \n2      technician     85711  \n3      technician     85711  \n4      technician     85711  \n...           ...       ...  \n79995     student     77841  \n79996     student     77841  \n79997     student     77841  \n79998     student     77841  \n79999     student     77841  \n\n[80000 rows x 31 columns]",
      "text/html": "<div>\n<style scoped>\n    .dataframe tbody tr th:only-of-type {\n        vertical-align: middle;\n    }\n\n    .dataframe tbody tr th {\n        vertical-align: top;\n    }\n\n    .dataframe thead th {\n        text-align: right;\n    }\n</style>\n<table border=\"1\" class=\"dataframe\">\n  <thead>\n    <tr style=\"text-align: right;\">\n      <th></th>\n      <th>user_id</th>\n      <th>movie_id</th>\n      <th>rating</th>\n      <th>timestamp</th>\n      <th>movie_title</th>\n      <th>release_date</th>\n      <th>video_release_date</th>\n      <th>imdb_url</th>\n      <th>unknown</th>\n      <th>action</th>\n      <th>...</th>\n      <th>mystery</th>\n      <th>romance</th>\n      <th>sci-fi</th>\n      <th>thriller</th>\n      <th>war</th>\n      <th>western</th>\n      <th>age</th>\n      <th>gender</th>\n      <th>occupation</th>\n      <th>zip_code</th>\n    </tr>\n  </thead>\n  <tbody>\n    <tr>\n      <th>0</th>\n      <td>1</td>\n      <td>1</td>\n      <td>5</td>\n      <td>874965758</td>\n      <td>Toy Story (1995)</td>\n      <td>01-Jan-1995</td>\n      <td>NaN</td>\n      <td>http://us.imdb.com/M/title-exact?Toy%20Story%2...</td>\n      <td>0</td>\n      <td>0</td>\n      <td>...</td>\n      <td>0</td>\n      <td>0</td>\n      <td>0</td>\n      <td>0</td>\n      <td>0</td>\n      <td>0</td>\n      <td>24</td>\n      <td>M</td>\n      <td>technician</td>\n      <td>85711</td>\n    </tr>\n    <tr>\n      <th>1</th>\n      <td>1</td>\n      <td>2</td>\n      <td>3</td>\n      <td>876893171</td>\n      <td>GoldenEye (1995)</td>\n      <td>01-Jan-1995</td>\n      <td>NaN</td>\n      <td>http://us.imdb.com/M/title-exact?GoldenEye%20(...</td>\n      <td>0</td>\n      <td>1</td>\n      <td>...</td>\n      <td>0</td>\n      <td>0</td>\n      <td>0</td>\n      <td>1</td>\n      <td>0</td>\n      <td>0</td>\n      <td>24</td>\n      <td>M</td>\n      <td>technician</td>\n      <td>85711</td>\n    </tr>\n    <tr>\n      <th>2</th>\n      <td>1</td>\n      <td>3</td>\n      <td>4</td>\n      <td>878542960</td>\n      <td>Four Rooms (1995)</td>\n      <td>01-Jan-1995</td>\n      <td>NaN</td>\n      <td>http://us.imdb.com/M/title-exact?Four%20Rooms%...</td>\n      <td>0</td>\n      <td>0</td>\n      <td>...</td>\n      <td>0</td>\n      <td>0</td>\n      <td>0</td>\n      <td>1</td>\n      <td>0</td>\n      <td>0</td>\n      <td>24</td>\n      <td>M</td>\n      <td>technician</td>\n      <td>85711</td>\n    </tr>\n    <tr>\n      <th>3</th>\n      <td>1</td>\n      <td>4</td>\n      <td>3</td>\n      <td>876893119</td>\n      <td>Get Shorty (1995)</td>\n      <td>01-Jan-1995</td>\n      <td>NaN</td>\n      <td>http://us.imdb.com/M/title-exact?Get%20Shorty%...</td>\n      <td>0</td>\n      <td>1</td>\n      <td>...</td>\n      <td>0</td>\n      <td>0</td>\n      <td>0</td>\n      <td>0</td>\n      <td>0</td>\n      <td>0</td>\n      <td>24</td>\n      <td>M</td>\n      <td>technician</td>\n      <td>85711</td>\n    </tr>\n    <tr>\n      <th>4</th>\n      <td>1</td>\n      <td>5</td>\n      <td>3</td>\n      <td>889751712</td>\n      <td>Copycat (1995)</td>\n      <td>01-Jan-1995</td>\n      <td>NaN</td>\n      <td>http://us.imdb.com/M/title-exact?Copycat%20(1995)</td>\n      <td>0</td>\n      <td>0</td>\n      <td>...</td>\n      <td>0</td>\n      <td>0</td>\n      <td>0</td>\n      <td>1</td>\n      <td>0</td>\n      <td>0</td>\n      <td>24</td>\n      <td>M</td>\n      <td>technician</td>\n      <td>85711</td>\n    </tr>\n    <tr>\n      <th>...</th>\n      <td>...</td>\n      <td>...</td>\n      <td>...</td>\n      <td>...</td>\n      <td>...</td>\n      <td>...</td>\n      <td>...</td>\n      <td>...</td>\n      <td>...</td>\n      <td>...</td>\n      <td>...</td>\n      <td>...</td>\n      <td>...</td>\n      <td>...</td>\n      <td>...</td>\n      <td>...</td>\n      <td>...</td>\n      <td>...</td>\n      <td>...</td>\n      <td>...</td>\n      <td>...</td>\n    </tr>\n    <tr>\n      <th>79995</th>\n      <td>943</td>\n      <td>1067</td>\n      <td>2</td>\n      <td>875501756</td>\n      <td>Bottle Rocket (1996)</td>\n      <td>21-Feb-1996</td>\n      <td>NaN</td>\n      <td>http://us.imdb.com/M/title-exact?Bottle%20Rock...</td>\n      <td>0</td>\n      <td>0</td>\n      <td>...</td>\n      <td>0</td>\n      <td>0</td>\n      <td>0</td>\n      <td>0</td>\n      <td>0</td>\n      <td>0</td>\n      <td>22</td>\n      <td>M</td>\n      <td>student</td>\n      <td>77841</td>\n    </tr>\n    <tr>\n      <th>79996</th>\n      <td>943</td>\n      <td>1074</td>\n      <td>4</td>\n      <td>888640250</td>\n      <td>Reality Bites (1994)</td>\n      <td>01-Jan-1994</td>\n      <td>NaN</td>\n      <td>http://us.imdb.com/M/title-exact?Reality%20Bit...</td>\n      <td>0</td>\n      <td>0</td>\n      <td>...</td>\n      <td>0</td>\n      <td>0</td>\n      <td>0</td>\n      <td>0</td>\n      <td>0</td>\n      <td>0</td>\n      <td>22</td>\n      <td>M</td>\n      <td>student</td>\n      <td>77841</td>\n    </tr>\n    <tr>\n      <th>79997</th>\n      <td>943</td>\n      <td>1188</td>\n      <td>3</td>\n      <td>888640250</td>\n      <td>Young Guns II (1990)</td>\n      <td>01-Jan-1990</td>\n      <td>NaN</td>\n      <td>http://us.imdb.com/M/title-exact?Young%20Guns%...</td>\n      <td>0</td>\n      <td>1</td>\n      <td>...</td>\n      <td>0</td>\n      <td>0</td>\n      <td>0</td>\n      <td>0</td>\n      <td>0</td>\n      <td>1</td>\n      <td>22</td>\n      <td>M</td>\n      <td>student</td>\n      <td>77841</td>\n    </tr>\n    <tr>\n      <th>79998</th>\n      <td>943</td>\n      <td>1228</td>\n      <td>3</td>\n      <td>888640275</td>\n      <td>Under Siege 2: Dark Territory (1995)</td>\n      <td>01-Jan-1995</td>\n      <td>NaN</td>\n      <td>http://us.imdb.com/M/title-exact?Under%20Siege...</td>\n      <td>0</td>\n      <td>1</td>\n      <td>...</td>\n      <td>0</td>\n      <td>0</td>\n      <td>0</td>\n      <td>0</td>\n      <td>0</td>\n      <td>0</td>\n      <td>22</td>\n      <td>M</td>\n      <td>student</td>\n      <td>77841</td>\n    </tr>\n    <tr>\n      <th>79999</th>\n      <td>943</td>\n      <td>1330</td>\n      <td>3</td>\n      <td>888692465</td>\n      <td>An Unforgettable Summer (1994)</td>\n      <td>01-Jan-1994</td>\n      <td>NaN</td>\n      <td>http://us.imdb.com/Title?Un+%E9t%E9+inoubliabl...</td>\n      <td>0</td>\n      <td>0</td>\n      <td>...</td>\n      <td>0</td>\n      <td>0</td>\n      <td>0</td>\n      <td>0</td>\n      <td>0</td>\n      <td>0</td>\n      <td>22</td>\n      <td>M</td>\n      <td>student</td>\n      <td>77841</td>\n    </tr>\n  </tbody>\n</table>\n<p>80000 rows × 31 columns</p>\n</div>"
     },
     "execution_count": 13,
     "metadata": {},
     "output_type": "execute_result"
    }
   ],
   "source": [
    "trainItem = join_df(data, item, \"movie_id\", \"movie_id\")\n",
    "joined_train = join_df(trainItem, user, \"user_id\", \"user_id\")\n",
    "joined_train"
   ],
   "metadata": {
    "collapsed": false
   }
  },
  {
   "cell_type": "code",
   "execution_count": 14,
   "outputs": [],
   "source": [
    "joined_train.loc[joined_train['timestamp'].isna() | (len(joined_train['timestamp'])<2), 'timestamp'] = date_today\n",
    "\n",
    "joined_train.loc[joined_train['release_date'].isna() | (len(joined_train['release_date'])<2), 'release_date'] = np.int32(1990)"
   ],
   "metadata": {
    "collapsed": false
   }
  },
  {
   "cell_type": "code",
   "execution_count": 15,
   "metadata": {},
   "outputs": [
    {
     "name": "stdout",
     "output_type": "stream",
     "text": [
      "CPU times: user 155 ms, sys: 36.6 ms, total: 192 ms\n",
      "Wall time: 202 ms\n"
     ]
    }
   ],
   "source": [
    "%time joined_train.to_feather(PATH_PROCESSED + 'joined_train.fth')"
   ]
  },
  {
   "cell_type": "markdown",
   "source": [
    "# Creando archivo con k-movies mejor rankeadas"
   ],
   "metadata": {
    "collapsed": false
   }
  },
  {
   "cell_type": "code",
   "execution_count": 16,
   "outputs": [],
   "source": [
    "movie_ratings = data.groupby(\"movie_id\").mean()\n",
    "movie_ratings.drop('user_id', inplace=True, axis=1)\n",
    "movie_ratings.drop('timestamp', inplace=True, axis=1)\n",
    "movie_ratings.rating.sort_index()\n",
    "sorted_ratings = movie_ratings.rating.sort_values(ascending=False)"
   ],
   "metadata": {
    "collapsed": false
   }
  },
  {
   "cell_type": "code",
   "execution_count": 17,
   "outputs": [
    {
     "data": {
      "text/plain": "movie_id\n1189    5.000000\n1653    5.000000\n1599    5.000000\n1500    5.000000\n1467    5.000000\n1201    5.000000\n1122    5.000000\n1293    5.000000\n1449    4.714286\n1367    4.666667\n408     4.559140\n169     4.525773\n850     4.500000\n1594    4.500000\n1642    4.500000\n318     4.489451\n483     4.441026\n64      4.417040\n12      4.398104\n50      4.359504\nName: rating, dtype: float64"
     },
     "execution_count": 17,
     "metadata": {},
     "output_type": "execute_result"
    }
   ],
   "source": [
    "k = 20\n",
    "save_ratings = sorted_ratings[:k]\n",
    "save_ratings.to_csv(PATH_PROCESSED + 'top_k_movies.csv')\n",
    "save_ratings"
   ],
   "metadata": {
    "collapsed": false
   }
  },
  {
   "cell_type": "code",
   "execution_count": 18,
   "outputs": [
    {
     "name": "stdout",
     "output_type": "stream",
     "text": [
      "date and time = 31/12/2022 09:42:56\n"
     ]
    }
   ],
   "source": [
    "# datetime object containing current date and time\n",
    "now = datetime.now()\n",
    "# dd/mm/YY H:M:S\n",
    "dt_string = now.strftime(\"%d/%m/%Y %H:%M:%S\")\n",
    "print(\"date and time =\", dt_string)"
   ],
   "metadata": {
    "collapsed": false
   }
  },
  {
   "cell_type": "code",
   "execution_count": 18,
   "outputs": [],
   "source": [],
   "metadata": {
    "collapsed": false
   }
  }
 ],
 "metadata": {
  "kernelspec": {
   "display_name": "Python 3 (ipykernel)",
   "language": "python",
   "name": "python3"
  },
  "language_info": {
   "codemirror_mode": {
    "name": "ipython",
    "version": 3
   },
   "file_extension": ".py",
   "mimetype": "text/x-python",
   "name": "python",
   "nbconvert_exporter": "python",
   "pygments_lexer": "ipython3",
   "version": "3.9.12"
  }
 },
 "nbformat": 4,
 "nbformat_minor": 4
}
