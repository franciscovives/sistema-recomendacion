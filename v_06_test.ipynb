{
 "cells": [
  {
   "cell_type": "code",
   "execution_count": 1,
   "metadata": {},
   "outputs": [],
   "source": [
    "%load_ext autoreload\n",
    "%autoreload 2"
   ]
  },
  {
   "cell_type": "code",
   "execution_count": 2,
   "outputs": [],
   "source": [
    "# Simulo el dia actual para la recomendacion, porque la red podria inferir diferente dado que como entrada esta el mes.\n",
    "# La fecha esta basada en la ultima pelicula que se vio de la bd\n",
    "recommendation_timestamp = 893286638\n",
    "\n",
    "cantidad_recomendaciones = 10"
   ],
   "metadata": {
    "collapsed": false
   }
  },
  {
   "cell_type": "code",
   "execution_count": 3,
   "outputs": [],
   "source": [
    "import pandas as pd\n",
    "import numpy as np\n",
    "import sys\n",
    "from datetime import datetime"
   ],
   "metadata": {
    "collapsed": false
   }
  },
  {
   "cell_type": "code",
   "execution_count": 4,
   "outputs": [],
   "source": [
    "PATH_PROCESSED='processed/'\n",
    "PATH = 'dataset/'\n",
    "\n",
    "user, occupation = [pd.read_csv(PATH + fname+'.csv', low_memory=False, sep=\"|\") for fname in ['user', 'occupation']]\n",
    "info, train = [pd.read_csv(PATH + fname+'.csv', low_memory=False, sep=\"\\t\") for fname in ['info', 'train']]\n",
    "test = pd.read_csv(PATH + 'test.csv', low_memory=False, sep=\",\")\n",
    "item = pd.read_csv(PATH + 'item.csv',  low_memory=False, encoding='latin-1', sep=\"|\")\n",
    "\n",
    "item.rename( columns={'movieId' :'movie_id', 'movieTitle' :'movie_title', 'release date' :'release_date', 'video release date' :'video_release_date', 'IMDb URL' :'imdb_url', 'unknown' :'unknown', 'Action' :'action', 'Adventure' :'adventure', 'Animation' :'animation', 'Children\\'s' :'children', 'Comedy' :'comedy', 'Crime' :'crime', 'Documentary' :'documentary', 'Drama' :'drama', 'Fantasy' :'fantasy', 'Film-Noir' :'film-noir', 'Horror' :'horror', 'Musical' :'musical', 'Mystery' :'mystery', 'Romance' :'romance', 'Sci-Fi' :'sci-fi', 'Thriller' :'thriller', 'War' :'war', 'Western' :'western'}, inplace=True)\n",
    "\n",
    "user.rename( columns={'user id' :'user_id', 'age' :'age', 'gender' :'gender', 'occupation' :'occupation', 'zip code' :'zip_code'}, inplace=True)\n",
    "\n",
    "train.rename( columns={'userId' :'user_id', 'movieId' :'movie_id'}, inplace=True)\n",
    "test.rename( columns={'Id' :'id', 'userId' :'user_id', 'movieId' :'movie_id'}, inplace=True)\n",
    "\n",
    "\n",
    "data = pd.read_feather(PATH_PROCESSED + 'joined.fth')\n",
    "\n",
    "\n",
    "u_unique = data.user_id.unique()\n",
    "user2Idx = {o:i+1 for i,o in enumerate(u_unique)}\n",
    "\n",
    "m_unique = data.movie_id.unique()\n",
    "movie2Idx = {o:i+1 for i,o in enumerate(m_unique)}"
   ],
   "metadata": {
    "collapsed": false
   }
  },
  {
   "cell_type": "code",
   "execution_count": 5,
   "outputs": [],
   "source": [
    "genre = ['action', 'adventure', 'animation',\n",
    "         \"children\", 'comedy', 'crime', 'documentary', 'drama', 'fantasy',\n",
    "         'film-noir', 'horror', 'musical', 'mystery', 'romance', 'sci-fi',\n",
    "         'thriller', 'war', 'western']"
   ],
   "metadata": {
    "collapsed": false
   }
  },
  {
   "cell_type": "code",
   "execution_count": 6,
   "outputs": [
    {
     "data": {
      "text/plain": "   user_id  movie_id  rating  timestamp        movie_title release_date  \\\n0        1         1       5  -1.616731   Toy Story (1995)   1995-01-01   \n1        1         2       3  -1.254339   GoldenEye (1995)   1995-01-01   \n2        1         3       4  -0.944145  Four Rooms (1995)   1995-01-01   \n3        1         4       3  -1.254348  Get Shorty (1995)   1995-01-01   \n4        1         5       3   1.163327     Copycat (1995)   1995-01-01   \n\n   unknown  action  adventure  animation  ...  gender  occupation  zip_code  \\\n0        0       0          0          1  ...       1          19     85711   \n1        0       1          1          0  ...       1          19     85711   \n2        0       0          0          0  ...       1          19     85711   \n3        0       1          0          0  ...       1          19     85711   \n4        0       0          0          0  ...       1          19     85711   \n\n   ReleaseYear  ReleaseMonthYear  WatchedYear  WatchedMonthYear  \\\n0  -135.559629                82            0                 7   \n1  -135.559629                82            0                 6   \n2  -135.559629                82            0                 5   \n3  -135.559629                82            0                 6   \n4  -135.559629                82            1                 4   \n\n   watchReleaseDiff  watchNow-releaseDiff  ageRange  \n0         -0.501916             -0.482847         1  \n1         -0.497500             -0.482847         1  \n2         -0.493852             -0.482847         1  \n3         -0.497500             -0.482847         1  \n4         -0.469086             -0.482847         1  \n\n[5 rows x 36 columns]",
      "text/html": "<div>\n<style scoped>\n    .dataframe tbody tr th:only-of-type {\n        vertical-align: middle;\n    }\n\n    .dataframe tbody tr th {\n        vertical-align: top;\n    }\n\n    .dataframe thead th {\n        text-align: right;\n    }\n</style>\n<table border=\"1\" class=\"dataframe\">\n  <thead>\n    <tr style=\"text-align: right;\">\n      <th></th>\n      <th>user_id</th>\n      <th>movie_id</th>\n      <th>rating</th>\n      <th>timestamp</th>\n      <th>movie_title</th>\n      <th>release_date</th>\n      <th>unknown</th>\n      <th>action</th>\n      <th>adventure</th>\n      <th>animation</th>\n      <th>...</th>\n      <th>gender</th>\n      <th>occupation</th>\n      <th>zip_code</th>\n      <th>ReleaseYear</th>\n      <th>ReleaseMonthYear</th>\n      <th>WatchedYear</th>\n      <th>WatchedMonthYear</th>\n      <th>watchReleaseDiff</th>\n      <th>watchNow-releaseDiff</th>\n      <th>ageRange</th>\n    </tr>\n  </thead>\n  <tbody>\n    <tr>\n      <th>0</th>\n      <td>1</td>\n      <td>1</td>\n      <td>5</td>\n      <td>-1.616731</td>\n      <td>Toy Story (1995)</td>\n      <td>1995-01-01</td>\n      <td>0</td>\n      <td>0</td>\n      <td>0</td>\n      <td>1</td>\n      <td>...</td>\n      <td>1</td>\n      <td>19</td>\n      <td>85711</td>\n      <td>-135.559629</td>\n      <td>82</td>\n      <td>0</td>\n      <td>7</td>\n      <td>-0.501916</td>\n      <td>-0.482847</td>\n      <td>1</td>\n    </tr>\n    <tr>\n      <th>1</th>\n      <td>1</td>\n      <td>2</td>\n      <td>3</td>\n      <td>-1.254339</td>\n      <td>GoldenEye (1995)</td>\n      <td>1995-01-01</td>\n      <td>0</td>\n      <td>1</td>\n      <td>1</td>\n      <td>0</td>\n      <td>...</td>\n      <td>1</td>\n      <td>19</td>\n      <td>85711</td>\n      <td>-135.559629</td>\n      <td>82</td>\n      <td>0</td>\n      <td>6</td>\n      <td>-0.497500</td>\n      <td>-0.482847</td>\n      <td>1</td>\n    </tr>\n    <tr>\n      <th>2</th>\n      <td>1</td>\n      <td>3</td>\n      <td>4</td>\n      <td>-0.944145</td>\n      <td>Four Rooms (1995)</td>\n      <td>1995-01-01</td>\n      <td>0</td>\n      <td>0</td>\n      <td>0</td>\n      <td>0</td>\n      <td>...</td>\n      <td>1</td>\n      <td>19</td>\n      <td>85711</td>\n      <td>-135.559629</td>\n      <td>82</td>\n      <td>0</td>\n      <td>5</td>\n      <td>-0.493852</td>\n      <td>-0.482847</td>\n      <td>1</td>\n    </tr>\n    <tr>\n      <th>3</th>\n      <td>1</td>\n      <td>4</td>\n      <td>3</td>\n      <td>-1.254348</td>\n      <td>Get Shorty (1995)</td>\n      <td>1995-01-01</td>\n      <td>0</td>\n      <td>1</td>\n      <td>0</td>\n      <td>0</td>\n      <td>...</td>\n      <td>1</td>\n      <td>19</td>\n      <td>85711</td>\n      <td>-135.559629</td>\n      <td>82</td>\n      <td>0</td>\n      <td>6</td>\n      <td>-0.497500</td>\n      <td>-0.482847</td>\n      <td>1</td>\n    </tr>\n    <tr>\n      <th>4</th>\n      <td>1</td>\n      <td>5</td>\n      <td>3</td>\n      <td>1.163327</td>\n      <td>Copycat (1995)</td>\n      <td>1995-01-01</td>\n      <td>0</td>\n      <td>0</td>\n      <td>0</td>\n      <td>0</td>\n      <td>...</td>\n      <td>1</td>\n      <td>19</td>\n      <td>85711</td>\n      <td>-135.559629</td>\n      <td>82</td>\n      <td>1</td>\n      <td>4</td>\n      <td>-0.469086</td>\n      <td>-0.482847</td>\n      <td>1</td>\n    </tr>\n  </tbody>\n</table>\n<p>5 rows × 36 columns</p>\n</div>"
     },
     "execution_count": 6,
     "metadata": {},
     "output_type": "execute_result"
    }
   ],
   "source": [
    "data.head()"
   ],
   "metadata": {
    "collapsed": false
   }
  },
  {
   "cell_type": "code",
   "execution_count": 7,
   "outputs": [
    {
     "data": {
      "text/plain": "     movie_id                                        movie_title release_date  \\\n598       599  Police Story 4: Project S (Chao ji ji hua) (1993)  16-Aug-1996   \n\n     video_release_date                                           imdb_url  \\\n598                 NaN  http://us.imdb.com/M/title-exact?Project%20S%2...   \n\n     unknown  action  adventure  animation  children  ...  fantasy  film-noir  \\\n598        0       1          0          0         0  ...        0          0   \n\n     horror  musical  mystery  romance  sci-fi  thriller  war  western  \n598       0        0        0        0       0         0    0        0  \n\n[1 rows x 24 columns]",
      "text/html": "<div>\n<style scoped>\n    .dataframe tbody tr th:only-of-type {\n        vertical-align: middle;\n    }\n\n    .dataframe tbody tr th {\n        vertical-align: top;\n    }\n\n    .dataframe thead th {\n        text-align: right;\n    }\n</style>\n<table border=\"1\" class=\"dataframe\">\n  <thead>\n    <tr style=\"text-align: right;\">\n      <th></th>\n      <th>movie_id</th>\n      <th>movie_title</th>\n      <th>release_date</th>\n      <th>video_release_date</th>\n      <th>imdb_url</th>\n      <th>unknown</th>\n      <th>action</th>\n      <th>adventure</th>\n      <th>animation</th>\n      <th>children</th>\n      <th>...</th>\n      <th>fantasy</th>\n      <th>film-noir</th>\n      <th>horror</th>\n      <th>musical</th>\n      <th>mystery</th>\n      <th>romance</th>\n      <th>sci-fi</th>\n      <th>thriller</th>\n      <th>war</th>\n      <th>western</th>\n    </tr>\n  </thead>\n  <tbody>\n    <tr>\n      <th>598</th>\n      <td>599</td>\n      <td>Police Story 4: Project S (Chao ji ji hua) (1993)</td>\n      <td>16-Aug-1996</td>\n      <td>NaN</td>\n      <td>http://us.imdb.com/M/title-exact?Project%20S%2...</td>\n      <td>0</td>\n      <td>1</td>\n      <td>0</td>\n      <td>0</td>\n      <td>0</td>\n      <td>...</td>\n      <td>0</td>\n      <td>0</td>\n      <td>0</td>\n      <td>0</td>\n      <td>0</td>\n      <td>0</td>\n      <td>0</td>\n      <td>0</td>\n      <td>0</td>\n      <td>0</td>\n    </tr>\n  </tbody>\n</table>\n<p>1 rows × 24 columns</p>\n</div>"
     },
     "execution_count": 7,
     "metadata": {},
     "output_type": "execute_result"
    }
   ],
   "source": [
    "data[data['user_id'] == 599].iloc[0]\n",
    "\n",
    "#data[data['movie_id'] == 599]\n",
    "\n",
    "item[item['movie_id'] == 599]"
   ],
   "metadata": {
    "collapsed": false
   }
  },
  {
   "cell_type": "markdown",
   "source": [
    "# Preparo la entrada de la red con TEST"
   ],
   "metadata": {
    "collapsed": false
   }
  },
  {
   "cell_type": "code",
   "execution_count": 8,
   "outputs": [],
   "source": [
    "user_idxs, movie_idxs, timestamps, genres, user_genders, user_occupations, watchedReleaseDiffs, ageRanges, releaseYears = [],[],[],[],[],[],[],[],[]\n",
    "genres = data[data['movie_id'] == -1].head(1)[genre]"
   ],
   "metadata": {
    "collapsed": false
   }
  },
  {
   "cell_type": "code",
   "execution_count": 9,
   "outputs": [],
   "source": [
    "input_size = len(test)"
   ],
   "metadata": {
    "collapsed": false
   }
  },
  {
   "cell_type": "code",
   "execution_count": 10,
   "outputs": [
    {
     "name": "stdout",
     "output_type": "stream",
     "text": [
      "Cant find 531 movie: 599\n",
      "Cant find 697 movie: 711\n",
      "Cant find 1016 movie: 814\n",
      "Cant find 1022 movie: 830\n",
      "Cant find 1031 movie: 852\n",
      "Cant find 1034 movie: 857\n",
      "Cant find 3639 movie: 1156\n",
      "Cant find 5063 movie: 1236\n",
      "Cant find 7414 movie: 1309\n",
      "Cant find 7415 movie: 1310\n",
      "Cant find 8025 movie: 1320\n",
      "Cant find 8035 movie: 1343\n",
      "Cant find 8039 movie: 1348\n",
      "Cant find 8046 movie: 1364\n",
      "Cant find 8051 movie: 1373\n",
      "Cant find 10632 movie: 1457\n",
      "Cant find 10633 movie: 1458\n",
      "Cant find 13031 movie: 1492\n",
      "Cant find 13032 movie: 1493\n",
      "Cant find 13035 movie: 1498\n",
      "Cant find 13633 movie: 1505\n",
      "Cant find 15577 movie: 1520\n",
      "Cant find 18319 movie: 1533\n",
      "Cant find 18443 movie: 1536\n",
      "Cant find 19004 movie: 1543\n",
      "Cant find 19222 movie: 1557\n",
      "Cant find 19223 movie: 1561\n",
      "Cant find 19224 movie: 1562\n",
      "Cant find 19225 movie: 1563\n",
      "Cant find 19226 movie: 1565\n",
      "Cant find 19228 movie: 1582\n",
      "Cant find 19229 movie: 1586\n",
      "CPU times: user 1min 58s, sys: 9.6 s, total: 2min 7s\n",
      "Wall time: 2min\n"
     ]
    }
   ],
   "source": [
    "%%time\n",
    "# Crea las inputs de la nueva red\n",
    "time_now = data.timestamp.max()\n",
    "movies_no_rates = []\n",
    "for index, row in test.iterrows():\n",
    "    movieData = None\n",
    "    userData = None\n",
    "    try:\n",
    "        userData = data[data['user_id'] == row.user_id].iloc[0]\n",
    "    except:\n",
    "        print(\"Cant find user \" + str(row.user_id))\n",
    "        continue\n",
    "    try:\n",
    "        movieData = data[data['movie_id'] == row.movie_id].iloc[0]\n",
    "    except:\n",
    "        print(\"Cant find \" + str(index) + \" movie: \" + str(row.movie_id))\n",
    "        movies_no_rates += [{'idx': index, 'movie_id': row.movie_id}]\n",
    "        continue\n",
    "    user_idxs += [row.user_id]\n",
    "    movie_idxs += [row.movie_id]\n",
    "    timestamps += [time_now]\n",
    "    genres = genres.append(movieData[genre])\n",
    "    user_genders += [userData.gender]\n",
    "    user_occupations += [userData.occupation]\n",
    "    watchedReleaseDiffs += [userData.watchReleaseDiff]\n",
    "    ageRanges += [userData.ageRange]\n",
    "    releaseYears += [userData.ReleaseYear]"
   ],
   "metadata": {
    "collapsed": false
   }
  },
  {
   "cell_type": "code",
   "execution_count": 11,
   "outputs": [],
   "source": [
    "max_rating = 5\n",
    "min_rating = 1"
   ],
   "metadata": {
    "collapsed": false
   }
  },
  {
   "cell_type": "markdown",
   "source": [
    "# Verify"
   ],
   "metadata": {
    "collapsed": false
   }
  },
  {
   "cell_type": "code",
   "execution_count": 12,
   "outputs": [],
   "source": [
    "inputs_val = [user_idxs, movie_idxs, timestamps, pd.DataFrame(genres),\n",
    "              user_genders, user_occupations, watchedReleaseDiffs, ageRanges, releaseYears]"
   ],
   "metadata": {
    "collapsed": false
   }
  },
  {
   "cell_type": "code",
   "execution_count": 13,
   "outputs": [],
   "source": [
    "# Convert input data into series\n",
    "for i in range(len(inputs_val)):\n",
    "    if (i != 3):\n",
    "        inputs_val[i] = pd.Series(inputs_val[i])"
   ],
   "metadata": {
    "collapsed": false
   }
  },
  {
   "cell_type": "code",
   "execution_count": 14,
   "outputs": [
    {
     "name": "stdout",
     "output_type": "stream",
     "text": [
      "0 <class 'pandas.core.series.Series'> 19968 <class 'numpy.int64'> 1\n",
      "1 <class 'pandas.core.series.Series'> 19968 <class 'numpy.int64'> 6\n",
      "2 <class 'pandas.core.series.Series'> 19968 <class 'numpy.float64'> 1.82796423103278\n",
      "3 <class 'pandas.core.frame.DataFrame'>\n",
      "4 <class 'pandas.core.series.Series'> 19968 <class 'numpy.int64'> 1\n",
      "5 <class 'pandas.core.series.Series'> 19968 <class 'numpy.int64'> 19\n",
      "6 <class 'pandas.core.series.Series'> 19968 <class 'numpy.float64'> -0.5019160586050823\n",
      "7 <class 'pandas.core.series.Series'> 19968 <class 'numpy.int64'> 1\n",
      "8 <class 'pandas.core.series.Series'> 19968 <class 'numpy.float64'> -135.55962914359867\n"
     ]
    }
   ],
   "source": [
    "# Verify input values\n",
    "for i in range(len(inputs_val)):\n",
    "    if (i == 3):\n",
    "        print(i, type(inputs_val[i]))\n",
    "    else:\n",
    "        print(i, type(inputs_val[i]), len(inputs_val[i]), type(inputs_val[i][0]), inputs_val[i][0])"
   ],
   "metadata": {
    "collapsed": false
   }
  },
  {
   "cell_type": "markdown",
   "source": [
    "0 <class 'pandas.core.series.Series'> 1323 <class 'numpy.int32'> 310\n",
    "1 <class 'pandas.core.series.Series'> 1323 <class 'numpy.int64'> 1\n",
    "2 <class 'pandas.core.series.Series'> 1323 <class 'numpy.float64'> 1.825991373017527\n",
    "3 <class 'pandas.core.frame.DataFrame'>\n",
    "4 <class 'pandas.core.series.Series'> 1323 <class 'numpy.int32'> 1\n",
    "5 <class 'pandas.core.series.Series'> 1323 <class 'numpy.int32'> 18\n",
    "6 <class 'pandas.core.series.Series'> 1323 <class 'numpy.float64'> -0.6338023931125223\n",
    "7 <class 'pandas.core.series.Series'> 1323 <class 'numpy.int32'> 1\n",
    "8 <class 'pandas.core.series.Series'> 1323 <class 'numpy.float64'> -135.52115597491908"
   ],
   "metadata": {
    "collapsed": false
   }
  },
  {
   "cell_type": "markdown",
   "source": [
    "# Levantar la red"
   ],
   "metadata": {
    "collapsed": false
   }
  },
  {
   "cell_type": "code",
   "execution_count": 15,
   "outputs": [],
   "source": [
    "import tensorflow as tf\n",
    "from keras import Model\n",
    "import keras.backend as K\n",
    "def root_mean_squared_error(y_true, y_pred):\n",
    "    return K.sqrt(K.mean(K.square(y_pred - y_true)))"
   ],
   "metadata": {
    "collapsed": false
   }
  },
  {
   "cell_type": "code",
   "execution_count": 16,
   "outputs": [
    {
     "name": "stdout",
     "output_type": "stream",
     "text": [
      "Model: \"model_1\"\n",
      "__________________________________________________________________________________________________\n",
      " Layer (type)                   Output Shape         Param #     Connected to                     \n",
      "==================================================================================================\n",
      " Item (InputLayer)              [(None, 1)]          0           []                               \n",
      "                                                                                                  \n",
      " User (InputLayer)              [(None, 1)]          0           []                               \n",
      "                                                                                                  \n",
      " gender (InputLayer)            [(None, 1)]          0           []                               \n",
      "                                                                                                  \n",
      " occupation (InputLayer)        [(None, 1)]          0           []                               \n",
      "                                                                                                  \n",
      " age (InputLayer)               [(None, 1)]          0           []                               \n",
      "                                                                                                  \n",
      " Movie-Embedding (Embedding)    (None, 1, 20)        33660       ['Item[0][0]']                   \n",
      "                                                                                                  \n",
      " User-Embedding (Embedding)     (None, 1, 8)         7552        ['User[0][0]']                   \n",
      "                                                                                                  \n",
      " Gender-Embedding (Embedding)   (None, 1, 1)         2           ['gender[0][0]']                 \n",
      "                                                                                                  \n",
      " Occupation-Embedding (Embeddin  (None, 1, 3)        63          ['occupation[0][0]']             \n",
      " g)                                                                                               \n",
      "                                                                                                  \n",
      " Age-Embedding (Embedding)      (None, 1, 3)         21          ['age[0][0]']                    \n",
      "                                                                                                  \n",
      " FlattenMovies (Flatten)        (None, 20)           0           ['Movie-Embedding[0][0]']        \n",
      "                                                                                                  \n",
      " FlattenUsers (Flatten)         (None, 8)            0           ['User-Embedding[0][0]']         \n",
      "                                                                                                  \n",
      " timestamp (InputLayer)         [(None, 1)]          0           []                               \n",
      "                                                                                                  \n",
      " genre (InputLayer)             [(None, 18)]         0           []                               \n",
      "                                                                                                  \n",
      " FlattenGender (Flatten)        (None, 1)            0           ['Gender-Embedding[0][0]']       \n",
      "                                                                                                  \n",
      " FlattenOccupation (Flatten)    (None, 3)            0           ['Occupation-Embedding[0][0]']   \n",
      "                                                                                                  \n",
      " watchReleaseDiff (InputLayer)  [(None, 1)]          0           []                               \n",
      "                                                                                                  \n",
      " FlattenAge (Flatten)           (None, 3)            0           ['Age-Embedding[0][0]']          \n",
      "                                                                                                  \n",
      " ReleaseYear (InputLayer)       [(None, 1)]          0           []                               \n",
      "                                                                                                  \n",
      " Concat (Concatenate)           (None, 56)           0           ['FlattenMovies[0][0]',          \n",
      "                                                                  'FlattenUsers[0][0]',           \n",
      "                                                                  'timestamp[0][0]',              \n",
      "                                                                  'genre[0][0]',                  \n",
      "                                                                  'FlattenGender[0][0]',          \n",
      "                                                                  'FlattenOccupation[0][0]',      \n",
      "                                                                  'watchReleaseDiff[0][0]',       \n",
      "                                                                  'FlattenAge[0][0]',             \n",
      "                                                                  'ReleaseYear[0][0]']            \n",
      "                                                                                                  \n",
      " dropout_3 (Dropout)            (None, 56)           0           ['Concat[0][0]']                 \n",
      "                                                                                                  \n",
      " FullyConnected-1 (Dense)       (None, 50)           2850        ['dropout_3[0][0]']              \n",
      "                                                                                                  \n",
      " dropout_4 (Dropout)            (None, 50)           0           ['FullyConnected-1[0][0]']       \n",
      "                                                                                                  \n",
      " FullyConnected-2 (Dense)       (None, 50)           2550        ['dropout_4[0][0]']              \n",
      "                                                                                                  \n",
      " dropout_5 (Dropout)            (None, 50)           0           ['FullyConnected-2[0][0]']       \n",
      "                                                                                                  \n",
      " Activation (Dense)             (None, 1)            51          ['dropout_5[0][0]']              \n",
      "                                                                                                  \n",
      " lambda_1 (Lambda)              (None, 1)            0           ['Activation[0][0]']             \n",
      "                                                                                                  \n",
      "==================================================================================================\n",
      "Total params: 46,749\n",
      "Trainable params: 46,749\n",
      "Non-trainable params: 0\n",
      "__________________________________________________________________________________________________\n"
     ]
    }
   ],
   "source": [
    "model = tf.keras.models.load_model(PATH_PROCESSED + 'fv_model.h5', custom_objects={\"root_mean_squared_error\": root_mean_squared_error })\n",
    "#model.load_weights(PATH_PROCESSED + 'fv_weights.hdf5')\n",
    "model.summary()"
   ],
   "metadata": {
    "collapsed": false
   }
  },
  {
   "cell_type": "code",
   "execution_count": 17,
   "outputs": [],
   "source": [
    "model.compile('adam', loss= 'mean_squared_error', metrics=[root_mean_squared_error])"
   ],
   "metadata": {
    "collapsed": false
   }
  },
  {
   "cell_type": "markdown",
   "source": [
    "# Prediccion Test de la red"
   ],
   "metadata": {
    "collapsed": false
   }
  },
  {
   "cell_type": "code",
   "execution_count": 18,
   "outputs": [
    {
     "name": "stdout",
     "output_type": "stream",
     "text": [
      "624/624 [==============================] - 1s 1ms/step\n"
     ]
    }
   ],
   "source": [
    "predictions = model.predict(inputs_val)"
   ],
   "metadata": {
    "collapsed": false
   }
  },
  {
   "cell_type": "code",
   "execution_count": 19,
   "outputs": [
    {
     "data": {
      "text/plain": "array([[3.5273888],\n       [3.5273888],\n       [3.5273888],\n       ...,\n       [3.5273888],\n       [3.5273888],\n       [3.5273888]], dtype=float32)"
     },
     "execution_count": 19,
     "metadata": {},
     "output_type": "execute_result"
    }
   ],
   "source": [
    "predictions"
   ],
   "metadata": {
    "collapsed": false
   }
  },
  {
   "cell_type": "code",
   "execution_count": 20,
   "outputs": [
    {
     "name": "stdout",
     "output_type": "stream",
     "text": [
      "3.5273888 3.5273888\n"
     ]
    }
   ],
   "source": [
    "print(predictions.max(), predictions.min())\n",
    "#predictions.head()"
   ],
   "metadata": {
    "collapsed": false
   }
  },
  {
   "cell_type": "markdown",
   "source": [
    "# Elegir movies parecidas a las sin rating"
   ],
   "metadata": {
    "collapsed": false
   }
  },
  {
   "cell_type": "code",
   "execution_count": 21,
   "outputs": [],
   "source": [
    "from sklearn.neighbors import NearestNeighbors\n",
    "suggestions_count=1"
   ],
   "metadata": {
    "collapsed": false
   }
  },
  {
   "cell_type": "code",
   "execution_count": 22,
   "outputs": [
    {
     "data": {
      "text/plain": "32"
     },
     "execution_count": 22,
     "metadata": {},
     "output_type": "execute_result"
    }
   ],
   "source": [
    "len(movies_no_rates)"
   ],
   "metadata": {
    "collapsed": false
   }
  },
  {
   "cell_type": "code",
   "execution_count": 23,
   "outputs": [
    {
     "data": {
      "text/plain": "'Movie-Embedding'"
     },
     "execution_count": 23,
     "metadata": {},
     "output_type": "execute_result"
    }
   ],
   "source": [
    "movie_embeddings_layer = model.layers[5]\n",
    "movie_embeddings_layer.name"
   ],
   "metadata": {
    "collapsed": false
   }
  },
  {
   "cell_type": "code",
   "execution_count": 24,
   "outputs": [
    {
     "data": {
      "text/plain": "(1683, 20)"
     },
     "execution_count": 24,
     "metadata": {},
     "output_type": "execute_result"
    }
   ],
   "source": [
    "movie_embeddings_matrix = movie_embeddings_layer.get_weights()[0]\n",
    "movie_embeddings_matrix.shape"
   ],
   "metadata": {
    "collapsed": false
   }
  },
  {
   "cell_type": "code",
   "execution_count": 25,
   "outputs": [],
   "source": [
    "nbrs_movies = NearestNeighbors(n_neighbors=suggestions_count, metric='cosine').fit(movie_embeddings_matrix)"
   ],
   "metadata": {
    "collapsed": false
   }
  },
  {
   "cell_type": "code",
   "execution_count": 26,
   "outputs": [
    {
     "data": {
      "text/plain": "[{'idx': 531, 'movie_id': 599, 'rec': 599},\n {'idx': 697, 'movie_id': 711, 'rec': 711},\n {'idx': 1016, 'movie_id': 814, 'rec': 814},\n {'idx': 1022, 'movie_id': 830, 'rec': 830},\n {'idx': 1031, 'movie_id': 852, 'rec': 852},\n {'idx': 1034, 'movie_id': 857, 'rec': 857},\n {'idx': 3639, 'movie_id': 1156, 'rec': 1156},\n {'idx': 5063, 'movie_id': 1236, 'rec': 1236},\n {'idx': 7414, 'movie_id': 1309, 'rec': 1309},\n {'idx': 7415, 'movie_id': 1310, 'rec': 1310},\n {'idx': 8025, 'movie_id': 1320, 'rec': 0},\n {'idx': 8035, 'movie_id': 1343, 'rec': 1343},\n {'idx': 8039, 'movie_id': 1348, 'rec': 1348},\n {'idx': 8046, 'movie_id': 1364, 'rec': 1364},\n {'idx': 8051, 'movie_id': 1373, 'rec': 1373},\n {'idx': 10632, 'movie_id': 1457, 'rec': 1457},\n {'idx': 10633, 'movie_id': 1458, 'rec': 1458},\n {'idx': 13031, 'movie_id': 1492, 'rec': 1492},\n {'idx': 13032, 'movie_id': 1493, 'rec': 1493},\n {'idx': 13035, 'movie_id': 1498, 'rec': 1498},\n {'idx': 13633, 'movie_id': 1505, 'rec': 1505},\n {'idx': 15577, 'movie_id': 1520, 'rec': 1520},\n {'idx': 18319, 'movie_id': 1533, 'rec': 1533},\n {'idx': 18443, 'movie_id': 1536, 'rec': 0},\n {'idx': 19004, 'movie_id': 1543, 'rec': 1543},\n {'idx': 19222, 'movie_id': 1557, 'rec': 1557},\n {'idx': 19223, 'movie_id': 1561, 'rec': 1561},\n {'idx': 19224, 'movie_id': 1562, 'rec': 0},\n {'idx': 19225, 'movie_id': 1563, 'rec': 1563},\n {'idx': 19226, 'movie_id': 1565, 'rec': 1565},\n {'idx': 19228, 'movie_id': 1582, 'rec': 1582},\n {'idx': 19229, 'movie_id': 1586, 'rec': 1586}]"
     },
     "execution_count": 26,
     "metadata": {},
     "output_type": "execute_result"
    }
   ],
   "source": [
    "# Tomo las peliculas similares a las que vio con buen promedio\n",
    "recommended_movies_similar_watched = []\n",
    "\n",
    "for row in movies_no_rates:\n",
    "    for mov in nbrs_movies.kneighbors([movie_embeddings_matrix[row['movie_id']]])[1][0]:\n",
    "        recommended_movies_similar_watched += [{'idx': row['idx'], 'movie_id': row['movie_id'], 'rec': mov}]\n",
    "recommended_movies_similar_watched"
   ],
   "metadata": {
    "collapsed": false
   }
  },
  {
   "cell_type": "code",
   "execution_count": 27,
   "outputs": [],
   "source": [
    "# Genera unica lista con el orden original\n",
    "default_rating = 2\n",
    "final_predictions = []\n",
    "index_similar = 0\n",
    "index_red = 0\n",
    "for index, row in test.iterrows():\n",
    "    new_row = None\n",
    "    if index_similar < len(recommended_movies_similar_watched):\n",
    "        similar_row = recommended_movies_similar_watched[index_similar]\n",
    "        if row.movie_id == similar_row['movie_id']:\n",
    "            new_row = {'Id': row.id, 'rating': default_rating}\n",
    "            index_similar +=1\n",
    "        else:\n",
    "            new_row = {'Id': row.id, 'rating': predictions[index_red][0]}\n",
    "            index_red += 1\n",
    "    else:\n",
    "        new_row = {'Id': row.id, 'rating': predictions[index_red][0]}\n",
    "        index_red += 1\n",
    "    final_predictions += [new_row]"
   ],
   "metadata": {
    "collapsed": false
   }
  },
  {
   "cell_type": "code",
   "execution_count": 28,
   "outputs": [
    {
     "name": "stdout",
     "output_type": "stream",
     "text": [
      "(20000, 2)\n"
     ]
    },
    {
     "data": {
      "text/plain": "   Id    rating\n0   0  3.527389\n1   1  3.527389\n2   2  3.527389\n3   3  3.527389\n4   4  3.527389",
      "text/html": "<div>\n<style scoped>\n    .dataframe tbody tr th:only-of-type {\n        vertical-align: middle;\n    }\n\n    .dataframe tbody tr th {\n        vertical-align: top;\n    }\n\n    .dataframe thead th {\n        text-align: right;\n    }\n</style>\n<table border=\"1\" class=\"dataframe\">\n  <thead>\n    <tr style=\"text-align: right;\">\n      <th></th>\n      <th>Id</th>\n      <th>rating</th>\n    </tr>\n  </thead>\n  <tbody>\n    <tr>\n      <th>0</th>\n      <td>0</td>\n      <td>3.527389</td>\n    </tr>\n    <tr>\n      <th>1</th>\n      <td>1</td>\n      <td>3.527389</td>\n    </tr>\n    <tr>\n      <th>2</th>\n      <td>2</td>\n      <td>3.527389</td>\n    </tr>\n    <tr>\n      <th>3</th>\n      <td>3</td>\n      <td>3.527389</td>\n    </tr>\n    <tr>\n      <th>4</th>\n      <td>4</td>\n      <td>3.527389</td>\n    </tr>\n  </tbody>\n</table>\n</div>"
     },
     "execution_count": 28,
     "metadata": {},
     "output_type": "execute_result"
    }
   ],
   "source": [
    "final_predictions = pd.DataFrame(final_predictions, columns=['Id', 'rating'])\n",
    "print(final_predictions.shape)\n",
    "final_predictions.head()"
   ],
   "metadata": {
    "collapsed": false
   }
  },
  {
   "cell_type": "code",
   "execution_count": 29,
   "outputs": [],
   "source": [
    "# datetime object containing current date and time\n",
    "now = datetime.now()\n",
    "# dd/mm/YY H:M:S\n",
    "dt_string = now.strftime(\"%d/%m/%Y %H:%M:%S\")"
   ],
   "metadata": {
    "collapsed": false
   }
  },
  {
   "cell_type": "markdown",
   "source": [
    "# Merge y preparo DF para submit"
   ],
   "metadata": {
    "collapsed": false
   }
  },
  {
   "cell_type": "markdown",
   "source": [
    "# Sumbit a la competición"
   ],
   "metadata": {
    "collapsed": false
   }
  },
  {
   "cell_type": "code",
   "execution_count": 30,
   "outputs": [],
   "source": [
    "# Your submission should be a CSV file with 20000 rows and a header. You can upload a zip/gz/7z archive.\n",
    "\n",
    "final_predictions.to_csv(PATH_PROCESSED + f'submision.csv', index=False)"
   ],
   "metadata": {
    "collapsed": false
   }
  },
  {
   "cell_type": "code",
   "execution_count": 31,
   "outputs": [
    {
     "name": "stdout",
     "output_type": "stream",
     "text": [
      "date and time = 31/12/2022 09:55:46\n"
     ]
    }
   ],
   "source": [
    "# datetime object containing current date and time\n",
    "now = datetime.now()\n",
    "# dd/mm/YY H:M:S\n",
    "dt_string = now.strftime(\"%d/%m/%Y %H:%M:%S\")\n",
    "print(\"date and time =\", dt_string)"
   ],
   "metadata": {
    "collapsed": false
   }
  },
  {
   "cell_type": "code",
   "execution_count": 31,
   "outputs": [],
   "source": [],
   "metadata": {
    "collapsed": false
   }
  },
  {
   "cell_type": "code",
   "execution_count": 31,
   "outputs": [],
   "source": [],
   "metadata": {
    "collapsed": false
   }
  }
 ],
 "metadata": {
  "kernelspec": {
   "display_name": "Python 3",
   "language": "python",
   "name": "python3"
  },
  "language_info": {
   "codemirror_mode": {
    "name": "ipython",
    "version": 3
   },
   "file_extension": ".py",
   "mimetype": "text/x-python",
   "name": "python",
   "nbconvert_exporter": "python",
   "pygments_lexer": "ipython3",
   "version": "3.6.8"
  }
 },
 "nbformat": 4,
 "nbformat_minor": 2
}
